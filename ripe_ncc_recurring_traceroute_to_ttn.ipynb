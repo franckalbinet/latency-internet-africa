{
 "cells": [
  {
   "cell_type": "markdown",
   "metadata": {
    "colab_type": "text",
    "id": "4q5ZcP7iXFxZ"
   },
   "source": [
    "### RIPE NCC RECURRING TRACEROUTE MEASUREMENT TO `eu.thethings.network`\n",
    "___"
   ]
  },
  {
   "cell_type": "code",
   "execution_count": 19,
   "metadata": {
    "colab": {},
    "colab_type": "code",
    "id": "sbrEFQ9pXFxb"
   },
   "outputs": [
    {
     "name": "stdout",
     "output_type": "stream",
     "text": [
      "The autoreload extension is already loaded. To reload it, use:\n",
      "  %reload_ext autoreload\n"
     ]
    }
   ],
   "source": [
    "from datetime import datetime\n",
    "import time\n",
    "import requests\n",
    "import numpy as np\n",
    "import pandas as pd\n",
    "import matplotlib.pyplot as plt\n",
    "import matplotlib as mpl\n",
    "\n",
    "import seaborn as sns\n",
    "import os.path\n",
    "import folium\n",
    "\n",
    "import geopandas as gpd\n",
    "from shapely.geometry import Point\n",
    "from fiona.crs import from_epsg\n",
    "\n",
    "from folium import plugins\n",
    "from folium.raster_layers import ImageOverlay\n",
    "from palettable.colorbrewer.sequential import YlGnBu_5, YlOrBr_5,Oranges_5, Reds_5\n",
    "\n",
    "import utilities as utils\n",
    "\n",
    "#import sklearn\n",
    "#from sklearn.preprocessing import OneHotEncoder\n",
    "#from sklearn.ensemble import RandomForestRegressor\n",
    "\n",
    "%matplotlib inline\n",
    "plt.rcParams['figure.figsize'] = (10, 5)\n",
    "\n",
    "import warnings\n",
    "warnings.filterwarnings('ignore')\n",
    "\n",
    "%load_ext autoreload\n",
    "%autoreload 2"
   ]
  },
  {
   "cell_type": "code",
   "execution_count": 0,
   "metadata": {
    "colab": {},
    "colab_type": "code",
    "id": "dpxzaq2WXFxe"
   },
   "outputs": [],
   "source": [
    "# Constants and global vars\n",
    "data_dir = 'data'"
   ]
  },
  {
   "cell_type": "markdown",
   "metadata": {
    "colab_type": "text",
    "id": "iFjjILZHXFxj"
   },
   "source": [
    "## I. Data Loading and Preprocessing\n",
    "<a id='data-loading'>"
   ]
  },
  {
   "cell_type": "markdown",
   "metadata": {
    "colab_type": "text",
    "id": "gGNhCNuHXFxk"
   },
   "source": [
    "### I.1 Measurements"
   ]
  },
  {
   "cell_type": "code",
   "execution_count": 54,
   "metadata": {},
   "outputs": [],
   "source": [
    "probes = [13114,21673,33284]"
   ]
  },
  {
   "cell_type": "code",
   "execution_count": 64,
   "metadata": {},
   "outputs": [
    {
     "name": "stdout",
     "output_type": "stream",
     "text": [
      "Fetching data from:\n",
      "https://atlas.ripe.net/api/v2/measurements/17468431/results/?start=1543618800&stop=1543705200&probe_ids=13114,21673,33284\n"
     ]
    }
   ],
   "source": [
    "json_data = utils.get_measurements(measurement_id=17468431, start='01/12/2018', stop='02/12/2018', probe_ids=probes)"
   ]
  },
  {
   "cell_type": "code",
   "execution_count": 61,
   "metadata": {
    "colab": {
     "base_uri": "https://localhost:8080/",
     "height": 34
    },
    "colab_type": "code",
    "id": "GcZJxaR9XFxo",
    "outputId": "e94dd4b0-3fb6-4422-ef99-e2dd340a4b88"
   },
   "outputs": [
    {
     "name": "stdout",
     "output_type": "stream",
     "text": [
      "287 results\n"
     ]
    }
   ],
   "source": [
    "# Number of records\n",
    "print(str(len(json_data)) + ' results')"
   ]
  },
  {
   "cell_type": "code",
   "execution_count": 63,
   "metadata": {
    "colab": {
     "base_uri": "https://localhost:8080/",
     "height": 646
    },
    "colab_type": "code",
    "id": "MkCL9-SHXFxw",
    "outputId": "acc98b13-0696-40ae-db6e-7186e16df555"
   },
   "outputs": [
    {
     "data": {
      "text/plain": [
       "{'af': 4,\n",
       " 'dst_addr': '52.169.76.255',\n",
       " 'dst_name': '52.169.76.255',\n",
       " 'endtime': 1543679309,\n",
       " 'from': '41.63.32.190',\n",
       " 'fw': 4940,\n",
       " 'group_id': 17468431,\n",
       " 'lts': 1,\n",
       " 'msm_id': 17468431,\n",
       " 'msm_name': 'Traceroute',\n",
       " 'paris_id': 15,\n",
       " 'prb_id': 21673,\n",
       " 'proto': 'TCP',\n",
       " 'result': [{'hop': 64,\n",
       "   'result': [{'flags': 'SA',\n",
       "     'from': '52.169.76.255',\n",
       "     'hdropts': [{'mss': 1440}],\n",
       "     'rtt': 214.623,\n",
       "     'size': 4,\n",
       "     'ttl': 50},\n",
       "    {'flags': 'SA',\n",
       "     'from': '52.169.76.255',\n",
       "     'hdropts': [{'mss': 1440}],\n",
       "     'rtt': 215.682,\n",
       "     'size': 4,\n",
       "     'ttl': 50},\n",
       "    {'flags': 'SA',\n",
       "     'from': '52.169.76.255',\n",
       "     'hdropts': [{'mss': 1440}],\n",
       "     'rtt': 214.562,\n",
       "     'size': 4,\n",
       "     'ttl': 50}]}],\n",
       " 'size': 0,\n",
       " 'src_addr': '41.63.32.190',\n",
       " 'stored_timestamp': 1543679473,\n",
       " 'timestamp': 1543679308,\n",
       " 'type': 'traceroute'}"
      ]
     },
     "execution_count": 63,
     "metadata": {},
     "output_type": "execute_result"
    }
   ],
   "source": [
    "# An exemple of result\n",
    "json_data[200]"
   ]
  },
  {
   "cell_type": "markdown",
   "metadata": {
    "colab_type": "text",
    "id": "oiFbXicHXFxz"
   },
   "source": [
    "* **Measurement results data structure**\n",
    "\n",
    "*Note that according to probe's firmware version, returned fields might differ*\n",
    "\n",
    "From: https://atlas.ripe.net/docs/data_struct/\n",
    "\n",
    "* `af`: adress familly with possible values: {4: IPv4, 6: IPv6}\n",
    "* `dst_addr`: IP address of the destination (string)\n",
    "* `dst_name`: name of the destination (string)\n",
    "* `from`: IP address of the probe as known by controller (string)\n",
    "* `fw`: firmware version of the probe\n",
    "* `group_id`: if the measurement belongs to a group of measurements, the identifier of the group (int)\n",
    "* `lts`: last time synchronised. How long ago (in seconds) the clock of the probe was found to be in sync with that of a controller. The value -1 is used to indicate that the probe does not know whether it is in sync (int)\n",
    "* `msm_id`: measurement identifier (int)\n",
    "* `msm_name`: measurement type \"Ping\" (string)\n",
    "* `paris_id`: variation for the Paris mode of traceroute (int)\n",
    "* `prb_id`: source probe ID (int)\n",
    "* `proto`: \"UDP\", \"ICMP\", or \"TCP\" (string)\n",
    "* `result`: list of hop elements (array of objects). Objects have the following fields:\n",
    "    * `hop`: hop number (int)\n",
    "    * `error`: [optional] when an error occurs trying to send a packet. In that case there will not be a result structure. (string)\n",
    "    * `result`: variable content, depending on type of response (array of objects) \n",
    "objects have the following fields:\n",
    "        * `flags`: \"flags\" -- (optional) TCP flags in the reply packet, for TCP traceroute, concatenated, in the order 'F' (FIN), 'S' (SYN), 'R' (RST), 'P' (PSH), 'A' (ACK), 'U' (URG) (fw >= 4600) (string)\n",
    "        * `from`: IPv4 or IPv6 source address in reply (string)\n",
    "        * `rtt`:  round-trip-time of reply, not present when the response is late in ms (float)\n",
    "        * `size`: size of reply (int)\n",
    "        * `ttl`: time-to-live in reply (int)\n",
    "    * `size`: packet size (int)\n",
    "    * `src_addr`: source address used by probe (string)\n",
    "    * `timestamp`: Unix timestamp for start of measurement (int)\n",
    "    * `type`: \"traceroute\" (string)    \n",
    "\n",
    "\n"
   ]
  },
  {
   "cell_type": "markdown",
   "metadata": {
    "colab_type": "text",
    "id": "E9vOL5pzLz9T"
   },
   "source": [
    "* **Checking destination IP address and fetching lon, lat for later use**"
   ]
  },
  {
   "cell_type": "code",
   "execution_count": 14,
   "metadata": {
    "colab": {
     "base_uri": "https://localhost:8080/",
     "height": 51
    },
    "colab_type": "code",
    "id": "5RhGrCKbi7mr",
    "outputId": "ca9980ac-1212-4f09-9bda-8a0d9d5972a1"
   },
   "outputs": [
    {
     "name": "stdout",
     "output_type": "stream",
     "text": [
      "Destination IP address:  {'52.169.76.255'}\n",
      "{'ip': '52.169.76.255', 'city': 'Temple Bar', 'region': 'IRELAND', 'country': 'IE', 'loc': '53.3449,-6.2658', 'org': 'AS8075 Microsoft Corporation'}\n"
     ]
    }
   ],
   "source": [
    "# Let's check quickly all probes trace to the same IP address\n",
    "ip_dest = set(map(lambda x: x['dst_addr'], json_data))\n",
    "print('Destination IP address: ', ip_dest)\n",
    "\n",
    "# Building the url as a long string in one go\n",
    "url_ipinfo = 'http://ipinfo.io/{}?token=630bc5fdf2a21f'.format(list(ip_dest)[0])\n",
    "url_ipinfo\n",
    "\n",
    "r = requests.get(url_ipinfo)\n",
    "json_ipinfo = r.json()\n",
    "\n",
    "print(json_ipinfo)\n",
    "lat_dest, lon_dest = map(lambda x: float(x), json_ipinfo['loc'].split(','))\n"
   ]
  },
  {
   "cell_type": "code",
   "execution_count": 0,
   "metadata": {
    "colab": {},
    "colab_type": "code",
    "id": "2oNj5ukHXFx0"
   },
   "outputs": [],
   "source": [
    "# Utilities functions and lambdas\n",
    "\n",
    "# Filtering/mapping Predicates\n",
    "has_result = lambda row: not('error' in row['result'][0])\n",
    "is_late = lambda pack: 'late' in pack\n",
    "is_timed_out = lambda pack: 'x' in pack\n",
    "is_error = lambda pack: 'error' in pack\n",
    "is_err = lambda pack: 'err' in pack\n",
    "is_empty = lambda pack: not(bool(pack))\n",
    "\n",
    "get_hop_result = lambda row: row['result'][0]['result']\n",
    "get_nb_packets = lambda row: len(get_hop_result(row))\n",
    "get_rtts = lambda row: list(filter(lambda pack: not(is_late(pack) or\n",
    "                                                    is_timed_out(pack) or\n",
    "                                                    is_error(pack) or \n",
    "                                                    is_err(pack) or\n",
    "                                                    is_empty(pack)), get_hop_result(row)))\n",
    "\n",
    "get_nb_rtts = lambda row: len(get_rtts(row))\n",
    "get_rtts_mean = lambda row: np.mean(list(map(lambda pack: pack['rtt'], get_rtts(row))))\n",
    "\n",
    "to_datetime = lambda x: datetime.utcfromtimestamp(x).strftime('%Y-%m-%d %H:%M:%S')"
   ]
  },
  {
   "cell_type": "code",
   "execution_count": 0,
   "metadata": {
    "colab": {},
    "colab_type": "code",
    "id": "l7V5ojkEXFx2"
   },
   "outputs": [],
   "source": [
    "# Postprocess json data\n",
    "measurements = []\n",
    "for row in json_data:\n",
    "    if has_result(row):\n",
    "        measurements.append(\n",
    "            {'prb_id': row['prb_id'], \n",
    "             'datetime': to_datetime(row['timestamp']),\n",
    "             'start_time': row['timestamp'],\n",
    "             'end_time': row['endtime'],\n",
    "             'last_time_sync': row['lts'],\n",
    "             'firmware_version': row['fw'],\n",
    "             'nb_packets': get_nb_packets(row),\n",
    "             'nb_rtts': get_nb_rtts(row),             \n",
    "             'rtt': get_rtts_mean(row)})"
   ]
  },
  {
   "cell_type": "code",
   "execution_count": 0,
   "metadata": {
    "colab": {},
    "colab_type": "code",
    "id": "zxkNP5JjXFx4"
   },
   "outputs": [],
   "source": [
    "# Convert to Pandas dataframe \n",
    "columns = ['datetime', 'prb_id', 'start_time', 'end_time', 'last_time_sync', \n",
    "           'firmware_version', 'nb_packets', 'nb_rtts', 'rtt']\n",
    "\n",
    "df = pd.DataFrame(measurements, columns=columns)\n",
    "df['datetime'] = pd.to_datetime(df['datetime'])\n",
    "df.set_index('datetime', inplace=True)\n",
    "df.sort_index(inplace=True)"
   ]
  },
  {
   "cell_type": "code",
   "execution_count": 25,
   "metadata": {
    "colab": {
     "base_uri": "https://localhost:8080/",
     "height": 235
    },
    "colab_type": "code",
    "id": "qHmZbZ98XFx7",
    "outputId": "723db73f-d6d5-4a29-8b2c-76fe3fbdab90"
   },
   "outputs": [
    {
     "data": {
      "text/html": [
       "<div>\n",
       "<style scoped>\n",
       "    .dataframe tbody tr th:only-of-type {\n",
       "        vertical-align: middle;\n",
       "    }\n",
       "\n",
       "    .dataframe tbody tr th {\n",
       "        vertical-align: top;\n",
       "    }\n",
       "\n",
       "    .dataframe thead th {\n",
       "        text-align: right;\n",
       "    }\n",
       "</style>\n",
       "<table border=\"1\" class=\"dataframe\">\n",
       "  <thead>\n",
       "    <tr style=\"text-align: right;\">\n",
       "      <th></th>\n",
       "      <th>prb_id</th>\n",
       "      <th>start_time</th>\n",
       "      <th>end_time</th>\n",
       "      <th>last_time_sync</th>\n",
       "      <th>firmware_version</th>\n",
       "      <th>nb_packets</th>\n",
       "      <th>nb_rtts</th>\n",
       "      <th>rtt</th>\n",
       "    </tr>\n",
       "    <tr>\n",
       "      <th>datetime</th>\n",
       "      <th></th>\n",
       "      <th></th>\n",
       "      <th></th>\n",
       "      <th></th>\n",
       "      <th></th>\n",
       "      <th></th>\n",
       "      <th></th>\n",
       "      <th></th>\n",
       "    </tr>\n",
       "  </thead>\n",
       "  <tbody>\n",
       "    <tr>\n",
       "      <th>2018-12-01 00:02:48</th>\n",
       "      <td>35067</td>\n",
       "      <td>1543622568</td>\n",
       "      <td>1543622568</td>\n",
       "      <td>206</td>\n",
       "      <td>4780</td>\n",
       "      <td>3</td>\n",
       "      <td>3</td>\n",
       "      <td>92.663667</td>\n",
       "    </tr>\n",
       "    <tr>\n",
       "      <th>2018-12-01 00:02:52</th>\n",
       "      <td>27571</td>\n",
       "      <td>1543622572</td>\n",
       "      <td>1543622572</td>\n",
       "      <td>57</td>\n",
       "      <td>4940</td>\n",
       "      <td>3</td>\n",
       "      <td>3</td>\n",
       "      <td>172.185667</td>\n",
       "    </tr>\n",
       "    <tr>\n",
       "      <th>2018-12-01 00:02:55</th>\n",
       "      <td>21682</td>\n",
       "      <td>1543622575</td>\n",
       "      <td>1543622575</td>\n",
       "      <td>49</td>\n",
       "      <td>4940</td>\n",
       "      <td>3</td>\n",
       "      <td>3</td>\n",
       "      <td>175.827000</td>\n",
       "    </tr>\n",
       "    <tr>\n",
       "      <th>2018-12-01 00:03:00</th>\n",
       "      <td>12286</td>\n",
       "      <td>1543622580</td>\n",
       "      <td>1543622581</td>\n",
       "      <td>37</td>\n",
       "      <td>4760</td>\n",
       "      <td>3</td>\n",
       "      <td>3</td>\n",
       "      <td>169.836667</td>\n",
       "    </tr>\n",
       "    <tr>\n",
       "      <th>2018-12-01 00:03:01</th>\n",
       "      <td>13810</td>\n",
       "      <td>1543622581</td>\n",
       "      <td>1543622582</td>\n",
       "      <td>60</td>\n",
       "      <td>4940</td>\n",
       "      <td>3</td>\n",
       "      <td>3</td>\n",
       "      <td>179.662333</td>\n",
       "    </tr>\n",
       "  </tbody>\n",
       "</table>\n",
       "</div>"
      ],
      "text/plain": [
       "                     prb_id  start_time    end_time  last_time_sync  \\\n",
       "datetime                                                              \n",
       "2018-12-01 00:02:48   35067  1543622568  1543622568             206   \n",
       "2018-12-01 00:02:52   27571  1543622572  1543622572              57   \n",
       "2018-12-01 00:02:55   21682  1543622575  1543622575              49   \n",
       "2018-12-01 00:03:00   12286  1543622580  1543622581              37   \n",
       "2018-12-01 00:03:01   13810  1543622581  1543622582              60   \n",
       "\n",
       "                     firmware_version  nb_packets  nb_rtts         rtt  \n",
       "datetime                                                                \n",
       "2018-12-01 00:02:48              4780           3        3   92.663667  \n",
       "2018-12-01 00:02:52              4940           3        3  172.185667  \n",
       "2018-12-01 00:02:55              4940           3        3  175.827000  \n",
       "2018-12-01 00:03:00              4760           3        3  169.836667  \n",
       "2018-12-01 00:03:01              4940           3        3  179.662333  "
      ]
     },
     "execution_count": 25,
     "metadata": {
      "tags": []
     },
     "output_type": "execute_result"
    }
   ],
   "source": [
    "df.head()"
   ]
  },
  {
   "cell_type": "markdown",
   "metadata": {
    "colab_type": "text",
    "id": "8Z3ATuaAXFx-"
   },
   "source": [
    "### I.2 Probes description\n",
    "<a id='probes-description'>"
   ]
  },
  {
   "cell_type": "markdown",
   "metadata": {},
   "source": [
    "### Trying to identify ASNs for NRENs in Africa\n",
    "\n",
    "* List of Afrian NRENs\n",
    "https://www.africaconnect2.net/Partners/African_NRENs/Pages/Home.aspx\n",
    "https://en.wikipedia.org/wiki/National_research_and_education_network\n",
    "\n",
    "* Additional info: \n",
    "    * https://bgpview.io\n",
    "    * UbuntuNet NRENs: https://bgpview.io/asn/36944#downstreams-v4\n",
    "\n",
    "\n"
   ]
  },
  {
   "cell_type": "code",
   "execution_count": 65,
   "metadata": {
    "colab": {},
    "colab_type": "code",
    "id": "CZWd_-u-XFx_"
   },
   "outputs": [
    {
     "ename": "NameError",
     "evalue": "name 'df' is not defined",
     "output_type": "error",
     "traceback": [
      "\u001b[0;31m---------------------------------------------------------------------------\u001b[0m",
      "\u001b[0;31mNameError\u001b[0m                                 Traceback (most recent call last)",
      "\u001b[0;32m<ipython-input-65-9797f4089024>\u001b[0m in \u001b[0;36m<module>\u001b[0;34m\u001b[0m\n\u001b[0;32m----> 1\u001b[0;31m \u001b[0mprobes_id\u001b[0m \u001b[0;34m=\u001b[0m \u001b[0mlist\u001b[0m\u001b[0;34m(\u001b[0m\u001b[0mdf\u001b[0m\u001b[0;34m[\u001b[0m\u001b[0;34m'prb_id'\u001b[0m\u001b[0;34m]\u001b[0m\u001b[0;34m.\u001b[0m\u001b[0munique\u001b[0m\u001b[0;34m(\u001b[0m\u001b[0;34m)\u001b[0m\u001b[0;34m)\u001b[0m\u001b[0;34m\u001b[0m\u001b[0;34m\u001b[0m\u001b[0m\n\u001b[0m",
      "\u001b[0;31mNameError\u001b[0m: name 'df' is not defined"
     ]
    }
   ],
   "source": [
    "probes_id = list(df['prb_id'].unique())"
   ]
  },
  {
   "cell_type": "code",
   "execution_count": 0,
   "metadata": {
    "colab": {},
    "colab_type": "code",
    "id": "i0ZYAkXFXFyB"
   },
   "outputs": [],
   "source": [
    "url_probe = 'https://atlas.ripe.net:443/api/v2/probes/?id__in=' + str(probes_id)[1:-1] + '&page_size=500'"
   ]
  },
  {
   "cell_type": "code",
   "execution_count": 0,
   "metadata": {
    "colab": {},
    "colab_type": "code",
    "id": "Wxn_Qck7XFyD"
   },
   "outputs": [],
   "source": [
    "r_probe = requests.get(url_probe)\n",
    "json_data_probe = r_probe.json()"
   ]
  },
  {
   "cell_type": "code",
   "execution_count": 29,
   "metadata": {
    "colab": {
     "base_uri": "https://localhost:8080/",
     "height": 510
    },
    "colab_type": "code",
    "id": "oIs3qBS5XFyG",
    "outputId": "88c5c48f-78f7-481d-ae3b-15289541a09f"
   },
   "outputs": [
    {
     "data": {
      "text/plain": [
       "{'address_v4': '196.1.95.16',\n",
       " 'address_v6': '2001:4278:1000:1::16',\n",
       " 'asn_v4': 8346,\n",
       " 'asn_v6': 8346,\n",
       " 'country_code': 'SN',\n",
       " 'description': 'UCAD Probe',\n",
       " 'first_connected': 1291147153,\n",
       " 'geometry': {'coordinates': [-17.4415, 14.6715], 'type': 'Point'},\n",
       " 'id': 239,\n",
       " 'is_anchor': False,\n",
       " 'is_public': True,\n",
       " 'last_connected': 1552318914,\n",
       " 'prefix_v4': '196.1.92.0/22',\n",
       " 'prefix_v6': '2001:4278::/32',\n",
       " 'status': {'id': 1, 'name': 'Connected', 'since': '2019-03-07T01:54:56Z'},\n",
       " 'status_since': 1551923696,\n",
       " 'tags': [{'name': 'Office', 'slug': 'office'},\n",
       "  {'name': 'No NAT', 'slug': 'no-nat'},\n",
       "  {'name': 'system: V1', 'slug': 'system-v1'},\n",
       "  {'name': 'system: Resolves A Correctly',\n",
       "   'slug': 'system-resolves-a-correctly'},\n",
       "  {'name': 'system: Resolves AAAA Correctly',\n",
       "   'slug': 'system-resolves-aaaa-correctly'},\n",
       "  {'name': 'system: IPv4 Works', 'slug': 'system-ipv4-works'},\n",
       "  {'name': \"system: IPv6 Doesn't Work\", 'slug': 'system-ipv6-doesnt-work'},\n",
       "  {'name': 'system: IPv4 Capable', 'slug': 'system-ipv4-capable'},\n",
       "  {'name': 'system: IPv6 Capable', 'slug': 'system-ipv6-capable'}],\n",
       " 'total_uptime': 221396285,\n",
       " 'type': 'Probe'}"
      ]
     },
     "execution_count": 29,
     "metadata": {
      "tags": []
     },
     "output_type": "execute_result"
    }
   ],
   "source": [
    "# An example of probe description.\n",
    "json_data_probe['results'][0]"
   ]
  },
  {
   "cell_type": "code",
   "execution_count": 0,
   "metadata": {
    "colab": {},
    "colab_type": "code",
    "id": "4HmPuOPkXFyK"
   },
   "outputs": [],
   "source": [
    "# Postprocess json data\n",
    "probes = []\n",
    "for i, row in enumerate(json_data_probe['results']):\n",
    "        probes.append(\n",
    "            {'prb_id': row['id'],\n",
    "             'ip_v4': row['address_v4'],\n",
    "             'country_code': row['country_code'],\n",
    "             'description': row['description'],\n",
    "             'lon': row['geometry']['coordinates'][0],\n",
    "             'lat': row['geometry']['coordinates'][1]})"
   ]
  },
  {
   "cell_type": "code",
   "execution_count": 0,
   "metadata": {
    "colab": {},
    "colab_type": "code",
    "id": "bF6Y-6swXFyO"
   },
   "outputs": [],
   "source": [
    "# Convert to Pandas dataframe \n",
    "columns = ['prb_id','ip_v4', 'country_code', 'description', 'lon', 'lat']\n",
    "df_probes = pd.DataFrame(probes, columns=columns)"
   ]
  },
  {
   "cell_type": "code",
   "execution_count": 32,
   "metadata": {
    "colab": {
     "base_uri": "https://localhost:8080/",
     "height": 85
    },
    "colab_type": "code",
    "id": "dxPc2HO2XFyR",
    "outputId": "5dcc6a7c-2a64-4dc7-ee45-c8f11a6c9c40"
   },
   "outputs": [
    {
     "name": "stdout",
     "output_type": "stream",
     "text": [
      "Number of countries:  36\n",
      "['SN' 'ZA' 'MU' 'TN' 'BW' 'CM' 'GH' 'TZ' 'KE' 'BF' 'UG' 'RW' 'NG' 'CG'\n",
      " 'BJ' 'MA' 'BI' 'MZ' 'ET' 'ZM' 'SZ' 'AO' 'MW' 'LS' 'NA' 'MG' 'SD' 'SS'\n",
      " 'SC' 'CD' 'DZ' 'ZW' 'GM' 'TG' 'EG' 'DJ']\n"
     ]
    }
   ],
   "source": [
    "print('Number of countries: ', len(df_probes['country_code'].unique()))\n",
    "print(df_probes['country_code'].unique())"
   ]
  },
  {
   "cell_type": "code",
   "execution_count": 33,
   "metadata": {
    "colab": {
     "base_uri": "https://localhost:8080/",
     "height": 204
    },
    "colab_type": "code",
    "id": "ExKTlZZMXFyV",
    "outputId": "6afe021a-7890-4ad7-fb12-5d2064a25ad6"
   },
   "outputs": [
    {
     "data": {
      "text/html": [
       "<div>\n",
       "<style scoped>\n",
       "    .dataframe tbody tr th:only-of-type {\n",
       "        vertical-align: middle;\n",
       "    }\n",
       "\n",
       "    .dataframe tbody tr th {\n",
       "        vertical-align: top;\n",
       "    }\n",
       "\n",
       "    .dataframe thead th {\n",
       "        text-align: right;\n",
       "    }\n",
       "</style>\n",
       "<table border=\"1\" class=\"dataframe\">\n",
       "  <thead>\n",
       "    <tr style=\"text-align: right;\">\n",
       "      <th></th>\n",
       "      <th>name</th>\n",
       "      <th>alpha-2</th>\n",
       "      <th>alpha-3</th>\n",
       "      <th>country-code</th>\n",
       "      <th>iso_3166-2</th>\n",
       "      <th>region</th>\n",
       "      <th>sub-region</th>\n",
       "      <th>intermediate-region</th>\n",
       "      <th>region-code</th>\n",
       "      <th>sub-region-code</th>\n",
       "      <th>intermediate-region-code</th>\n",
       "    </tr>\n",
       "  </thead>\n",
       "  <tbody>\n",
       "    <tr>\n",
       "      <th>0</th>\n",
       "      <td>Afghanistan</td>\n",
       "      <td>AF</td>\n",
       "      <td>AFG</td>\n",
       "      <td>4</td>\n",
       "      <td>ISO 3166-2:AF</td>\n",
       "      <td>Asia</td>\n",
       "      <td>Southern Asia</td>\n",
       "      <td>NaN</td>\n",
       "      <td>142.0</td>\n",
       "      <td>34.0</td>\n",
       "      <td>NaN</td>\n",
       "    </tr>\n",
       "    <tr>\n",
       "      <th>1</th>\n",
       "      <td>Åland Islands</td>\n",
       "      <td>AX</td>\n",
       "      <td>ALA</td>\n",
       "      <td>248</td>\n",
       "      <td>ISO 3166-2:AX</td>\n",
       "      <td>Europe</td>\n",
       "      <td>Northern Europe</td>\n",
       "      <td>NaN</td>\n",
       "      <td>150.0</td>\n",
       "      <td>154.0</td>\n",
       "      <td>NaN</td>\n",
       "    </tr>\n",
       "    <tr>\n",
       "      <th>2</th>\n",
       "      <td>Albania</td>\n",
       "      <td>AL</td>\n",
       "      <td>ALB</td>\n",
       "      <td>8</td>\n",
       "      <td>ISO 3166-2:AL</td>\n",
       "      <td>Europe</td>\n",
       "      <td>Southern Europe</td>\n",
       "      <td>NaN</td>\n",
       "      <td>150.0</td>\n",
       "      <td>39.0</td>\n",
       "      <td>NaN</td>\n",
       "    </tr>\n",
       "    <tr>\n",
       "      <th>3</th>\n",
       "      <td>Algeria</td>\n",
       "      <td>DZ</td>\n",
       "      <td>DZA</td>\n",
       "      <td>12</td>\n",
       "      <td>ISO 3166-2:DZ</td>\n",
       "      <td>Africa</td>\n",
       "      <td>Northern Africa</td>\n",
       "      <td>NaN</td>\n",
       "      <td>2.0</td>\n",
       "      <td>15.0</td>\n",
       "      <td>NaN</td>\n",
       "    </tr>\n",
       "    <tr>\n",
       "      <th>4</th>\n",
       "      <td>American Samoa</td>\n",
       "      <td>AS</td>\n",
       "      <td>ASM</td>\n",
       "      <td>16</td>\n",
       "      <td>ISO 3166-2:AS</td>\n",
       "      <td>Oceania</td>\n",
       "      <td>Polynesia</td>\n",
       "      <td>NaN</td>\n",
       "      <td>9.0</td>\n",
       "      <td>61.0</td>\n",
       "      <td>NaN</td>\n",
       "    </tr>\n",
       "  </tbody>\n",
       "</table>\n",
       "</div>"
      ],
      "text/plain": [
       "             name alpha-2 alpha-3  country-code     iso_3166-2   region  \\\n",
       "0     Afghanistan      AF     AFG             4  ISO 3166-2:AF     Asia   \n",
       "1   Åland Islands      AX     ALA           248  ISO 3166-2:AX   Europe   \n",
       "2         Albania      AL     ALB             8  ISO 3166-2:AL   Europe   \n",
       "3         Algeria      DZ     DZA            12  ISO 3166-2:DZ   Africa   \n",
       "4  American Samoa      AS     ASM            16  ISO 3166-2:AS  Oceania   \n",
       "\n",
       "        sub-region intermediate-region  region-code  sub-region-code  \\\n",
       "0    Southern Asia                 NaN        142.0             34.0   \n",
       "1  Northern Europe                 NaN        150.0            154.0   \n",
       "2  Southern Europe                 NaN        150.0             39.0   \n",
       "3  Northern Africa                 NaN          2.0             15.0   \n",
       "4        Polynesia                 NaN          9.0             61.0   \n",
       "\n",
       "   intermediate-region-code  \n",
       "0                       NaN  \n",
       "1                       NaN  \n",
       "2                       NaN  \n",
       "3                       NaN  \n",
       "4                       NaN  "
      ]
     },
     "execution_count": 33,
     "metadata": {
      "tags": []
     },
     "output_type": "execute_result"
    }
   ],
   "source": [
    "# Loading country codes\n",
    "country_codes = pd.read_csv('https://raw.githubusercontent.com/franckalbinet/ripe-ncc-traceroute-ttn-africa/master/data/country_codes.csv')\n",
    "country_codes.head()"
   ]
  },
  {
   "cell_type": "code",
   "execution_count": 34,
   "metadata": {
    "colab": {
     "base_uri": "https://localhost:8080/",
     "height": 204
    },
    "colab_type": "code",
    "id": "9yJGliUPXFyX",
    "outputId": "3c7f8dfa-9ced-4b2d-b2ea-dc96b4a15249"
   },
   "outputs": [
    {
     "data": {
      "text/html": [
       "<div>\n",
       "<style scoped>\n",
       "    .dataframe tbody tr th:only-of-type {\n",
       "        vertical-align: middle;\n",
       "    }\n",
       "\n",
       "    .dataframe tbody tr th {\n",
       "        vertical-align: top;\n",
       "    }\n",
       "\n",
       "    .dataframe thead th {\n",
       "        text-align: right;\n",
       "    }\n",
       "</style>\n",
       "<table border=\"1\" class=\"dataframe\">\n",
       "  <thead>\n",
       "    <tr style=\"text-align: right;\">\n",
       "      <th></th>\n",
       "      <th>prb_id</th>\n",
       "      <th>ip_v4</th>\n",
       "      <th>description</th>\n",
       "      <th>lon</th>\n",
       "      <th>lat</th>\n",
       "      <th>country_name</th>\n",
       "      <th>country_code</th>\n",
       "    </tr>\n",
       "  </thead>\n",
       "  <tbody>\n",
       "    <tr>\n",
       "      <th>0</th>\n",
       "      <td>239</td>\n",
       "      <td>196.1.95.16</td>\n",
       "      <td>UCAD Probe</td>\n",
       "      <td>-17.4415</td>\n",
       "      <td>14.6715</td>\n",
       "      <td>Senegal</td>\n",
       "      <td>SN</td>\n",
       "    </tr>\n",
       "    <tr>\n",
       "      <th>1</th>\n",
       "      <td>242</td>\n",
       "      <td>None</td>\n",
       "      <td>1 Belvedere</td>\n",
       "      <td>18.4895</td>\n",
       "      <td>-33.9815</td>\n",
       "      <td>South Africa</td>\n",
       "      <td>ZA</td>\n",
       "    </tr>\n",
       "    <tr>\n",
       "      <th>2</th>\n",
       "      <td>446</td>\n",
       "      <td>196.192.112.229</td>\n",
       "      <td>AFRINIC Mauritius</td>\n",
       "      <td>57.4995</td>\n",
       "      <td>-20.2395</td>\n",
       "      <td>Mauritius</td>\n",
       "      <td>MU</td>\n",
       "    </tr>\n",
       "    <tr>\n",
       "      <th>3</th>\n",
       "      <td>473</td>\n",
       "      <td>196.4.161.3</td>\n",
       "      <td>Internet Solutions [http://www.is.co.za] - Ros...</td>\n",
       "      <td>28.0405</td>\n",
       "      <td>-26.1515</td>\n",
       "      <td>South Africa</td>\n",
       "      <td>ZA</td>\n",
       "    </tr>\n",
       "    <tr>\n",
       "      <th>4</th>\n",
       "      <td>504</td>\n",
       "      <td>193.95.97.132</td>\n",
       "      <td>ATI, KASBAH, 1G/s</td>\n",
       "      <td>10.1675</td>\n",
       "      <td>36.7995</td>\n",
       "      <td>Tunisia</td>\n",
       "      <td>TN</td>\n",
       "    </tr>\n",
       "  </tbody>\n",
       "</table>\n",
       "</div>"
      ],
      "text/plain": [
       "   prb_id            ip_v4                                        description  \\\n",
       "0     239      196.1.95.16                                         UCAD Probe   \n",
       "1     242             None                                        1 Belvedere   \n",
       "2     446  196.192.112.229                                  AFRINIC Mauritius   \n",
       "3     473      196.4.161.3  Internet Solutions [http://www.is.co.za] - Ros...   \n",
       "4     504    193.95.97.132                                  ATI, KASBAH, 1G/s   \n",
       "\n",
       "       lon      lat  country_name country_code  \n",
       "0 -17.4415  14.6715       Senegal           SN  \n",
       "1  18.4895 -33.9815  South Africa           ZA  \n",
       "2  57.4995 -20.2395     Mauritius           MU  \n",
       "3  28.0405 -26.1515  South Africa           ZA  \n",
       "4  10.1675  36.7995       Tunisia           TN  "
      ]
     },
     "execution_count": 34,
     "metadata": {
      "tags": []
     },
     "output_type": "execute_result"
    }
   ],
   "source": [
    "# Joining/merging with country code to get full country name\n",
    "df_probes = pd.merge(df_probes, country_codes[['name', 'alpha-2']], left_on='country_code', right_on='alpha-2', how='left')\n",
    "df_probes = df_probes.drop(['country_code'], axis=1)\n",
    "df_probes.rename(columns={'alpha-2':'country_code', 'name': 'country_name'}, inplace=True)\n",
    "df_probes.head()"
   ]
  },
  {
   "cell_type": "code",
   "execution_count": null,
   "metadata": {},
   "outputs": [],
   "source": []
  },
  {
   "cell_type": "markdown",
   "metadata": {
    "colab_type": "text",
    "id": "tgix6Tr-XFya"
   },
   "source": [
    "### I.3 Merging measurements and probes\n",
    "<a id='merge-measurements-probes'>"
   ]
  },
  {
   "cell_type": "code",
   "execution_count": 0,
   "metadata": {
    "colab": {},
    "colab_type": "code",
    "id": "jhdvZlWbXFyb"
   },
   "outputs": [],
   "source": [
    "# Joining/merging with country code to get full country name\n",
    "data = pd.merge(df.reset_index(), df_probes, left_on='prb_id', right_on='prb_id', how='left')"
   ]
  },
  {
   "cell_type": "code",
   "execution_count": 95,
   "metadata": {
    "colab": {
     "base_uri": "https://localhost:8080/",
     "height": 719
    },
    "colab_type": "code",
    "id": "Qzv6TpWLXFye",
    "outputId": "4c7006e2-8ee2-47f1-c6f9-876f3424440b"
   },
   "outputs": [
    {
     "data": {
      "text/html": [
       "<div>\n",
       "<style scoped>\n",
       "    .dataframe tbody tr th:only-of-type {\n",
       "        vertical-align: middle;\n",
       "    }\n",
       "\n",
       "    .dataframe tbody tr th {\n",
       "        vertical-align: top;\n",
       "    }\n",
       "\n",
       "    .dataframe thead th {\n",
       "        text-align: right;\n",
       "    }\n",
       "</style>\n",
       "<table border=\"1\" class=\"dataframe\">\n",
       "  <thead>\n",
       "    <tr style=\"text-align: right;\">\n",
       "      <th></th>\n",
       "      <th>datetime</th>\n",
       "      <th>prb_id</th>\n",
       "      <th>start_time</th>\n",
       "      <th>end_time</th>\n",
       "      <th>last_time_sync</th>\n",
       "      <th>firmware_version</th>\n",
       "      <th>nb_packets</th>\n",
       "      <th>nb_rtts</th>\n",
       "      <th>rtt</th>\n",
       "      <th>ip_v4</th>\n",
       "      <th>description</th>\n",
       "      <th>lon</th>\n",
       "      <th>lat</th>\n",
       "      <th>country_name</th>\n",
       "      <th>country_code</th>\n",
       "    </tr>\n",
       "  </thead>\n",
       "  <tbody>\n",
       "    <tr>\n",
       "      <th>0</th>\n",
       "      <td>2018-12-01 00:02:48</td>\n",
       "      <td>35067</td>\n",
       "      <td>1543622568</td>\n",
       "      <td>1543622568</td>\n",
       "      <td>206</td>\n",
       "      <td>4780</td>\n",
       "      <td>3</td>\n",
       "      <td>3</td>\n",
       "      <td>92.663667</td>\n",
       "      <td>41.248.146.40</td>\n",
       "      <td>Rue Bruxelles</td>\n",
       "      <td>-6.2395</td>\n",
       "      <td>33.8205</td>\n",
       "      <td>Morocco</td>\n",
       "      <td>MA</td>\n",
       "    </tr>\n",
       "    <tr>\n",
       "      <th>1</th>\n",
       "      <td>2018-12-01 00:02:52</td>\n",
       "      <td>27571</td>\n",
       "      <td>1543622572</td>\n",
       "      <td>1543622572</td>\n",
       "      <td>57</td>\n",
       "      <td>4940</td>\n",
       "      <td>3</td>\n",
       "      <td>3</td>\n",
       "      <td>172.185667</td>\n",
       "      <td>45.222.33.70</td>\n",
       "      <td>BennieJ Home</td>\n",
       "      <td>28.1405</td>\n",
       "      <td>-25.8125</td>\n",
       "      <td>South Africa</td>\n",
       "      <td>ZA</td>\n",
       "    </tr>\n",
       "    <tr>\n",
       "      <th>2</th>\n",
       "      <td>2018-12-01 00:02:55</td>\n",
       "      <td>21682</td>\n",
       "      <td>1543622575</td>\n",
       "      <td>1543622575</td>\n",
       "      <td>49</td>\n",
       "      <td>4940</td>\n",
       "      <td>3</td>\n",
       "      <td>3</td>\n",
       "      <td>175.827000</td>\n",
       "      <td>None</td>\n",
       "      <td>Strand</td>\n",
       "      <td>18.8315</td>\n",
       "      <td>-34.1015</td>\n",
       "      <td>South Africa</td>\n",
       "      <td>ZA</td>\n",
       "    </tr>\n",
       "    <tr>\n",
       "      <th>3</th>\n",
       "      <td>2018-12-01 00:03:00</td>\n",
       "      <td>12286</td>\n",
       "      <td>1543622580</td>\n",
       "      <td>1543622581</td>\n",
       "      <td>37</td>\n",
       "      <td>4760</td>\n",
       "      <td>3</td>\n",
       "      <td>3</td>\n",
       "      <td>169.836667</td>\n",
       "      <td>None</td>\n",
       "      <td>eNetworks Samrand</td>\n",
       "      <td>28.1415</td>\n",
       "      <td>-25.9295</td>\n",
       "      <td>South Africa</td>\n",
       "      <td>ZA</td>\n",
       "    </tr>\n",
       "    <tr>\n",
       "      <th>4</th>\n",
       "      <td>2018-12-01 00:03:01</td>\n",
       "      <td>13810</td>\n",
       "      <td>1543622581</td>\n",
       "      <td>1543622582</td>\n",
       "      <td>60</td>\n",
       "      <td>4940</td>\n",
       "      <td>3</td>\n",
       "      <td>3</td>\n",
       "      <td>179.662333</td>\n",
       "      <td>197.96.8.2</td>\n",
       "      <td>Internet Solutions [http://www.is.co.za] - Mas...</td>\n",
       "      <td>28.2275</td>\n",
       "      <td>-29.6125</td>\n",
       "      <td>Lesotho</td>\n",
       "      <td>LS</td>\n",
       "    </tr>\n",
       "    <tr>\n",
       "      <th>5</th>\n",
       "      <td>2018-12-01 00:03:01</td>\n",
       "      <td>10243</td>\n",
       "      <td>1543622581</td>\n",
       "      <td>1543622581</td>\n",
       "      <td>20</td>\n",
       "      <td>4940</td>\n",
       "      <td>3</td>\n",
       "      <td>3</td>\n",
       "      <td>151.962667</td>\n",
       "      <td>41.221.32.130</td>\n",
       "      <td>SimbaNET TZ</td>\n",
       "      <td>39.2795</td>\n",
       "      <td>-6.7915</td>\n",
       "      <td>Tanzania, United Republic of</td>\n",
       "      <td>TZ</td>\n",
       "    </tr>\n",
       "    <tr>\n",
       "      <th>6</th>\n",
       "      <td>2018-12-01 00:03:03</td>\n",
       "      <td>11383</td>\n",
       "      <td>1543622583</td>\n",
       "      <td>1543622584</td>\n",
       "      <td>45</td>\n",
       "      <td>4940</td>\n",
       "      <td>3</td>\n",
       "      <td>3</td>\n",
       "      <td>94.094000</td>\n",
       "      <td>196.1.95.103</td>\n",
       "      <td>UCAD-NG-Probe</td>\n",
       "      <td>-17.3685</td>\n",
       "      <td>14.7585</td>\n",
       "      <td>Senegal</td>\n",
       "      <td>SN</td>\n",
       "    </tr>\n",
       "    <tr>\n",
       "      <th>7</th>\n",
       "      <td>2018-12-01 00:03:04</td>\n",
       "      <td>33073</td>\n",
       "      <td>1543622584</td>\n",
       "      <td>1543622585</td>\n",
       "      <td>49</td>\n",
       "      <td>4940</td>\n",
       "      <td>3</td>\n",
       "      <td>3</td>\n",
       "      <td>171.836333</td>\n",
       "      <td>196.15.205.17</td>\n",
       "      <td>SecundaSpar</td>\n",
       "      <td>29.1905</td>\n",
       "      <td>-26.5215</td>\n",
       "      <td>South Africa</td>\n",
       "      <td>ZA</td>\n",
       "    </tr>\n",
       "    <tr>\n",
       "      <th>8</th>\n",
       "      <td>2018-12-01 00:03:04</td>\n",
       "      <td>50355</td>\n",
       "      <td>1543622584</td>\n",
       "      <td>1543622584</td>\n",
       "      <td>53</td>\n",
       "      <td>4940</td>\n",
       "      <td>3</td>\n",
       "      <td>3</td>\n",
       "      <td>177.840333</td>\n",
       "      <td>155.93.192.173</td>\n",
       "      <td>Cool Ideas FTTH client</td>\n",
       "      <td>30.8295</td>\n",
       "      <td>-29.7805</td>\n",
       "      <td>South Africa</td>\n",
       "      <td>ZA</td>\n",
       "    </tr>\n",
       "    <tr>\n",
       "      <th>9</th>\n",
       "      <td>2018-12-01 00:03:10</td>\n",
       "      <td>22252</td>\n",
       "      <td>1543622590</td>\n",
       "      <td>1543622591</td>\n",
       "      <td>71</td>\n",
       "      <td>4940</td>\n",
       "      <td>3</td>\n",
       "      <td>3</td>\n",
       "      <td>184.301667</td>\n",
       "      <td>41.72.136.130</td>\n",
       "      <td>Hetzner Africa - Johannesburg</td>\n",
       "      <td>28.1395</td>\n",
       "      <td>-25.9315</td>\n",
       "      <td>South Africa</td>\n",
       "      <td>ZA</td>\n",
       "    </tr>\n",
       "  </tbody>\n",
       "</table>\n",
       "</div>"
      ],
      "text/plain": [
       "             datetime  prb_id  start_time    end_time  last_time_sync  \\\n",
       "0 2018-12-01 00:02:48   35067  1543622568  1543622568             206   \n",
       "1 2018-12-01 00:02:52   27571  1543622572  1543622572              57   \n",
       "2 2018-12-01 00:02:55   21682  1543622575  1543622575              49   \n",
       "3 2018-12-01 00:03:00   12286  1543622580  1543622581              37   \n",
       "4 2018-12-01 00:03:01   13810  1543622581  1543622582              60   \n",
       "5 2018-12-01 00:03:01   10243  1543622581  1543622581              20   \n",
       "6 2018-12-01 00:03:03   11383  1543622583  1543622584              45   \n",
       "7 2018-12-01 00:03:04   33073  1543622584  1543622585              49   \n",
       "8 2018-12-01 00:03:04   50355  1543622584  1543622584              53   \n",
       "9 2018-12-01 00:03:10   22252  1543622590  1543622591              71   \n",
       "\n",
       "   firmware_version  nb_packets  nb_rtts         rtt           ip_v4  \\\n",
       "0              4780           3        3   92.663667   41.248.146.40   \n",
       "1              4940           3        3  172.185667    45.222.33.70   \n",
       "2              4940           3        3  175.827000            None   \n",
       "3              4760           3        3  169.836667            None   \n",
       "4              4940           3        3  179.662333      197.96.8.2   \n",
       "5              4940           3        3  151.962667   41.221.32.130   \n",
       "6              4940           3        3   94.094000    196.1.95.103   \n",
       "7              4940           3        3  171.836333   196.15.205.17   \n",
       "8              4940           3        3  177.840333  155.93.192.173   \n",
       "9              4940           3        3  184.301667   41.72.136.130   \n",
       "\n",
       "                                         description      lon      lat  \\\n",
       "0                                      Rue Bruxelles  -6.2395  33.8205   \n",
       "1                                       BennieJ Home  28.1405 -25.8125   \n",
       "2                                             Strand  18.8315 -34.1015   \n",
       "3                                  eNetworks Samrand  28.1415 -25.9295   \n",
       "4  Internet Solutions [http://www.is.co.za] - Mas...  28.2275 -29.6125   \n",
       "5                                        SimbaNET TZ  39.2795  -6.7915   \n",
       "6                                      UCAD-NG-Probe -17.3685  14.7585   \n",
       "7                                        SecundaSpar  29.1905 -26.5215   \n",
       "8                             Cool Ideas FTTH client  30.8295 -29.7805   \n",
       "9                      Hetzner Africa - Johannesburg  28.1395 -25.9315   \n",
       "\n",
       "                   country_name country_code  \n",
       "0                       Morocco           MA  \n",
       "1                  South Africa           ZA  \n",
       "2                  South Africa           ZA  \n",
       "3                  South Africa           ZA  \n",
       "4                       Lesotho           LS  \n",
       "5  Tanzania, United Republic of           TZ  \n",
       "6                       Senegal           SN  \n",
       "7                  South Africa           ZA  \n",
       "8                  South Africa           ZA  \n",
       "9                  South Africa           ZA  "
      ]
     },
     "execution_count": 95,
     "metadata": {
      "tags": []
     },
     "output_type": "execute_result"
    }
   ],
   "source": [
    "data.head(10)"
   ]
  },
  {
   "cell_type": "code",
   "execution_count": 0,
   "metadata": {
    "colab": {},
    "colab_type": "code",
    "id": "1EjO_frdXFyj"
   },
   "outputs": [],
   "source": [
    "# Saving build data frame as csv for later re-use\n",
    "#base_filename = 'data-dump-' + datetime.now().strftime('%Y-%m-%d')\n",
    "#data.to_csv(os.path.join(data_dir, base_filename + '.csv'), index=False)"
   ]
  },
  {
   "cell_type": "markdown",
   "metadata": {
    "colab_type": "text",
    "id": "7LugDcssXFyl"
   },
   "source": [
    "## II. Exploratory Data Analysis\n",
    "<a id='data-loading'>"
   ]
  },
  {
   "cell_type": "code",
   "execution_count": 96,
   "metadata": {
    "colab": {
     "base_uri": "https://localhost:8080/",
     "height": 34
    },
    "colab_type": "code",
    "id": "vkUm2QJ6XFym",
    "outputId": "bcdb26d9-42a5-4fdf-9a8d-1e576d6b14fe"
   },
   "outputs": [
    {
     "data": {
      "text/plain": [
       "(606940, 15)"
      ]
     },
     "execution_count": 96,
     "metadata": {
      "tags": []
     },
     "output_type": "execute_result"
    }
   ],
   "source": [
    "# How many measurements and columns\n",
    "data.shape"
   ]
  },
  {
   "cell_type": "code",
   "execution_count": 97,
   "metadata": {
    "colab": {
     "base_uri": "https://localhost:8080/",
     "height": 170
    },
    "colab_type": "code",
    "id": "Eg-NjnC6XFyp",
    "outputId": "a676aaed-060f-4152-9bbb-bfde7b0bebe8"
   },
   "outputs": [
    {
     "data": {
      "text/plain": [
       "count    564253.000000\n",
       "mean        165.532495\n",
       "std         125.118821\n",
       "min           0.483333\n",
       "25%         130.974333\n",
       "50%         169.441333\n",
       "75%         183.322000\n",
       "max        6292.648333\n",
       "Name: rtt, dtype: float64"
      ]
     },
     "execution_count": 97,
     "metadata": {
      "tags": []
     },
     "output_type": "execute_result"
    }
   ],
   "source": [
    "# Quick descriptive statistics\n",
    "data['rtt'].describe()"
   ]
  },
  {
   "cell_type": "markdown",
   "metadata": {
    "colab_type": "text",
    "id": "dUx26FAkXFys"
   },
   "source": [
    "### II.1 Round Trip Time overall histogram \n",
    "<a id='overall-histogram'>"
   ]
  },
  {
   "cell_type": "code",
   "execution_count": 40,
   "metadata": {
    "colab": {
     "base_uri": "https://localhost:8080/",
     "height": 334
    },
    "colab_type": "code",
    "id": "nwt2Y7TKXFyt",
    "outputId": "ea21adba-ba20-42a2-edb6-792a388f011d"
   },
   "outputs": [
    {
     "data": {
      "image/png": "[encoded data removed]",
      "text/plain": [
       "<Figure size 720x360 with 1 Axes>"
      ]
     },
     "metadata": {
      "tags": []
     },
     "output_type": "display_data"
    }
   ],
   "source": [
    "# Quick histogram of 'rtt'\n",
    "fig, ax = plt.subplots()\n",
    "data['rtt'].hist(ax=ax, bins=100, bottom=0.1, figsize=(10, 5))\n",
    "ax.set_yscale('log')\n",
    "ax.set_xlabel('Round Trip Time (ms)');\n",
    "ax.set_ylabel('# of Traceroute  - log scale');"
   ]
  },
  {
   "cell_type": "markdown",
   "metadata": {
    "colab_type": "text",
    "id": "4MicxUlWXFyv"
   },
   "source": [
    "### II.2 Boxplots of Round-Trip-Time (RTT) by country\n",
    "<a id='boxplot-by-country'>"
   ]
  },
  {
   "cell_type": "code",
   "execution_count": 0,
   "metadata": {
    "colab": {},
    "colab_type": "code",
    "id": "BGqVaGdHXFyw"
   },
   "outputs": [],
   "source": [
    "# Quick boxplots by country [\"outliers\" not displayed - showfliers=False]\n",
    "#     - sorted by rtt's median\n",
    "rtt_group_country = data[['rtt', 'country_name']].groupby(['country_name'])\n",
    "df_rtt_country = pd.DataFrame({col: vals['rtt'] for col,vals in rtt_group_country})\n",
    "meds = df_rtt_country.median()\n",
    "meds = meds.sort_values(ascending=False)\n",
    "df_rtt_country = df_rtt_country[meds.index]"
   ]
  },
  {
   "cell_type": "code",
   "execution_count": 42,
   "metadata": {
    "colab": {
     "base_uri": "https://localhost:8080/",
     "height": 592
    },
    "colab_type": "code",
    "id": "78BzYijzXFyy",
    "outputId": "605fec1f-561d-472d-b3b3-04b1991a1e25"
   },
   "outputs": [
    {
     "data": {
      "image/png": "[encoded data removed]",
      "text/plain": [
       "<Figure size 1152x720 with 1 Axes>"
      ]
     },
     "metadata": {
      "tags": []
     },
     "output_type": "display_data"
    }
   ],
   "source": [
    "medianprops = dict(linestyle='-', linewidth=4)\n",
    "df_rtt_country.boxplot(vert=False, figsize=(16, 10), showfliers=False, medianprops=medianprops);"
   ]
  },
  {
   "cell_type": "code",
   "execution_count": 43,
   "metadata": {
    "colab": {
     "base_uri": "https://localhost:8080/",
     "height": 592
    },
    "colab_type": "code",
    "id": "_Kry_MVmXFy0",
    "outputId": "a347e119-8335-4181-c96b-0cccb5d6ae0c"
   },
   "outputs": [
    {
     "data": {
      "image/png": "[encoded data removed]",
      "text/plain": [
       "<Figure size 1152x720 with 1 Axes>"
      ]
     },
     "metadata": {
      "tags": []
     },
     "output_type": "display_data"
    }
   ],
   "source": [
    "# With outliers displayed\n",
    "medianprops = dict(linestyle='-', linewidth=4)\n",
    "df_rtt_country.boxplot(vert=False, figsize=(16, 10), showfliers=True, medianprops=medianprops);\n",
    "\n",
    "# TBD: Need to be fixed on Colab (outliers not appearing)"
   ]
  },
  {
   "cell_type": "markdown",
   "metadata": {
    "colab_type": "text",
    "id": "Ty-KHEAvXFy2"
   },
   "source": [
    "### II.3 Percentage of RTT outliers by country\n",
    "<a id='outliers-by-country'></a>\n",
    "\n",
    "Outliers characterization using the simple rule of thumb: \n",
    "\n",
    "* Is outlier whatever is **higher** than `Q3 + 1.5 * (Q3 - Q1)` with `Q3` and `Q1` respectively the third and first quartile."
   ]
  },
  {
   "cell_type": "code",
   "execution_count": 44,
   "metadata": {
    "colab": {
     "base_uri": "https://localhost:8080/",
     "height": 1134
    },
    "colab_type": "code",
    "id": "cl6tlcuWXFy3",
    "outputId": "17e2b443-dabf-47b8-9d6e-fa4b6377252a"
   },
   "outputs": [
    {
     "data": {
      "text/html": [
       "<div>\n",
       "<style scoped>\n",
       "    .dataframe tbody tr th:only-of-type {\n",
       "        vertical-align: middle;\n",
       "    }\n",
       "\n",
       "    .dataframe tbody tr th {\n",
       "        vertical-align: top;\n",
       "    }\n",
       "\n",
       "    .dataframe thead th {\n",
       "        text-align: right;\n",
       "    }\n",
       "</style>\n",
       "<table border=\"1\" class=\"dataframe\">\n",
       "  <thead>\n",
       "    <tr style=\"text-align: right;\">\n",
       "      <th></th>\n",
       "      <th>iqr</th>\n",
       "      <th>median</th>\n",
       "      <th>percent_outliers</th>\n",
       "      <th>q1</th>\n",
       "      <th>q3</th>\n",
       "    </tr>\n",
       "    <tr>\n",
       "      <th>country_name</th>\n",
       "      <th></th>\n",
       "      <th></th>\n",
       "      <th></th>\n",
       "      <th></th>\n",
       "      <th></th>\n",
       "    </tr>\n",
       "  </thead>\n",
       "  <tbody>\n",
       "    <tr>\n",
       "      <th>Togo</th>\n",
       "      <td>7.497917</td>\n",
       "      <td>115.077500</td>\n",
       "      <td>23.00</td>\n",
       "      <td>112.976917</td>\n",
       "      <td>120.474833</td>\n",
       "    </tr>\n",
       "    <tr>\n",
       "      <th>Nigeria</th>\n",
       "      <td>1.745167</td>\n",
       "      <td>114.422000</td>\n",
       "      <td>22.34</td>\n",
       "      <td>114.230333</td>\n",
       "      <td>115.975500</td>\n",
       "    </tr>\n",
       "    <tr>\n",
       "      <th>Mozambique</th>\n",
       "      <td>2.204000</td>\n",
       "      <td>183.784667</td>\n",
       "      <td>18.10</td>\n",
       "      <td>182.784667</td>\n",
       "      <td>184.988667</td>\n",
       "    </tr>\n",
       "    <tr>\n",
       "      <th>Tanzania, United Republic of</th>\n",
       "      <td>6.466500</td>\n",
       "      <td>149.472333</td>\n",
       "      <td>17.20</td>\n",
       "      <td>146.896667</td>\n",
       "      <td>153.363167</td>\n",
       "    </tr>\n",
       "    <tr>\n",
       "      <th>Mauritius</th>\n",
       "      <td>20.456583</td>\n",
       "      <td>215.176500</td>\n",
       "      <td>16.74</td>\n",
       "      <td>212.384250</td>\n",
       "      <td>232.840833</td>\n",
       "    </tr>\n",
       "    <tr>\n",
       "      <th>Egypt</th>\n",
       "      <td>26.206167</td>\n",
       "      <td>86.084500</td>\n",
       "      <td>13.82</td>\n",
       "      <td>71.613833</td>\n",
       "      <td>97.820000</td>\n",
       "    </tr>\n",
       "    <tr>\n",
       "      <th>Benin</th>\n",
       "      <td>5.448000</td>\n",
       "      <td>118.161333</td>\n",
       "      <td>13.78</td>\n",
       "      <td>117.818000</td>\n",
       "      <td>123.266000</td>\n",
       "    </tr>\n",
       "    <tr>\n",
       "      <th>Zambia</th>\n",
       "      <td>4.133667</td>\n",
       "      <td>219.807333</td>\n",
       "      <td>10.28</td>\n",
       "      <td>217.323667</td>\n",
       "      <td>221.457333</td>\n",
       "    </tr>\n",
       "    <tr>\n",
       "      <th>Sudan</th>\n",
       "      <td>22.355583</td>\n",
       "      <td>116.574000</td>\n",
       "      <td>10.22</td>\n",
       "      <td>101.222000</td>\n",
       "      <td>123.577583</td>\n",
       "    </tr>\n",
       "    <tr>\n",
       "      <th>Djibouti</th>\n",
       "      <td>3.157000</td>\n",
       "      <td>114.076333</td>\n",
       "      <td>10.18</td>\n",
       "      <td>113.271667</td>\n",
       "      <td>116.428667</td>\n",
       "    </tr>\n",
       "    <tr>\n",
       "      <th>Senegal</th>\n",
       "      <td>94.542833</td>\n",
       "      <td>116.318167</td>\n",
       "      <td>8.95</td>\n",
       "      <td>104.651917</td>\n",
       "      <td>199.194750</td>\n",
       "    </tr>\n",
       "    <tr>\n",
       "      <th>Uganda</th>\n",
       "      <td>28.232500</td>\n",
       "      <td>178.779333</td>\n",
       "      <td>8.71</td>\n",
       "      <td>163.653250</td>\n",
       "      <td>191.885750</td>\n",
       "    </tr>\n",
       "    <tr>\n",
       "      <th>Madagascar</th>\n",
       "      <td>10.753833</td>\n",
       "      <td>226.337333</td>\n",
       "      <td>8.38</td>\n",
       "      <td>224.031167</td>\n",
       "      <td>234.785000</td>\n",
       "    </tr>\n",
       "    <tr>\n",
       "      <th>Algeria</th>\n",
       "      <td>16.627583</td>\n",
       "      <td>78.512667</td>\n",
       "      <td>7.26</td>\n",
       "      <td>74.586583</td>\n",
       "      <td>91.214167</td>\n",
       "    </tr>\n",
       "    <tr>\n",
       "      <th>Congo</th>\n",
       "      <td>9.470750</td>\n",
       "      <td>173.800500</td>\n",
       "      <td>7.16</td>\n",
       "      <td>165.091417</td>\n",
       "      <td>174.562167</td>\n",
       "    </tr>\n",
       "    <tr>\n",
       "      <th>Cameroon</th>\n",
       "      <td>27.185833</td>\n",
       "      <td>133.506000</td>\n",
       "      <td>6.24</td>\n",
       "      <td>121.658000</td>\n",
       "      <td>148.843833</td>\n",
       "    </tr>\n",
       "    <tr>\n",
       "      <th>Morocco</th>\n",
       "      <td>23.216917</td>\n",
       "      <td>89.064000</td>\n",
       "      <td>5.30</td>\n",
       "      <td>71.716667</td>\n",
       "      <td>94.933583</td>\n",
       "    </tr>\n",
       "    <tr>\n",
       "      <th>Eswatini</th>\n",
       "      <td>0.664083</td>\n",
       "      <td>174.144833</td>\n",
       "      <td>4.44</td>\n",
       "      <td>173.900583</td>\n",
       "      <td>174.564667</td>\n",
       "    </tr>\n",
       "    <tr>\n",
       "      <th>South Africa</th>\n",
       "      <td>17.773000</td>\n",
       "      <td>171.683167</td>\n",
       "      <td>4.42</td>\n",
       "      <td>161.018333</td>\n",
       "      <td>178.791333</td>\n",
       "    </tr>\n",
       "    <tr>\n",
       "      <th>Tunisia</th>\n",
       "      <td>24.763333</td>\n",
       "      <td>86.143833</td>\n",
       "      <td>4.30</td>\n",
       "      <td>68.354417</td>\n",
       "      <td>93.117750</td>\n",
       "    </tr>\n",
       "    <tr>\n",
       "      <th>Lesotho</th>\n",
       "      <td>0.539167</td>\n",
       "      <td>179.365667</td>\n",
       "      <td>2.95</td>\n",
       "      <td>179.176917</td>\n",
       "      <td>179.716083</td>\n",
       "    </tr>\n",
       "    <tr>\n",
       "      <th>Congo (Democratic Republic of the)</th>\n",
       "      <td>127.569917</td>\n",
       "      <td>134.349000</td>\n",
       "      <td>2.69</td>\n",
       "      <td>7.409750</td>\n",
       "      <td>134.979667</td>\n",
       "    </tr>\n",
       "    <tr>\n",
       "      <th>Gambia</th>\n",
       "      <td>0.785000</td>\n",
       "      <td>83.873667</td>\n",
       "      <td>2.49</td>\n",
       "      <td>83.432167</td>\n",
       "      <td>84.217167</td>\n",
       "    </tr>\n",
       "    <tr>\n",
       "      <th>Malawi</th>\n",
       "      <td>21.142833</td>\n",
       "      <td>209.379333</td>\n",
       "      <td>2.14</td>\n",
       "      <td>191.879500</td>\n",
       "      <td>213.022333</td>\n",
       "    </tr>\n",
       "    <tr>\n",
       "      <th>Ethiopia</th>\n",
       "      <td>29.240000</td>\n",
       "      <td>124.204333</td>\n",
       "      <td>2.02</td>\n",
       "      <td>115.128000</td>\n",
       "      <td>144.368000</td>\n",
       "    </tr>\n",
       "    <tr>\n",
       "      <th>Burundi</th>\n",
       "      <td>176.242917</td>\n",
       "      <td>174.637167</td>\n",
       "      <td>2.01</td>\n",
       "      <td>0.839667</td>\n",
       "      <td>177.082583</td>\n",
       "    </tr>\n",
       "    <tr>\n",
       "      <th>South Sudan</th>\n",
       "      <td>3.981333</td>\n",
       "      <td>198.686333</td>\n",
       "      <td>1.36</td>\n",
       "      <td>196.043000</td>\n",
       "      <td>200.024333</td>\n",
       "    </tr>\n",
       "    <tr>\n",
       "      <th>Zimbabwe</th>\n",
       "      <td>26.168667</td>\n",
       "      <td>194.286000</td>\n",
       "      <td>1.27</td>\n",
       "      <td>187.451500</td>\n",
       "      <td>213.620167</td>\n",
       "    </tr>\n",
       "    <tr>\n",
       "      <th>Rwanda</th>\n",
       "      <td>12.096833</td>\n",
       "      <td>218.802333</td>\n",
       "      <td>1.26</td>\n",
       "      <td>217.640500</td>\n",
       "      <td>229.737333</td>\n",
       "    </tr>\n",
       "    <tr>\n",
       "      <th>Ghana</th>\n",
       "      <td>52.582333</td>\n",
       "      <td>109.904333</td>\n",
       "      <td>0.83</td>\n",
       "      <td>109.382667</td>\n",
       "      <td>161.965000</td>\n",
       "    </tr>\n",
       "    <tr>\n",
       "      <th>Angola</th>\n",
       "      <td>2.381583</td>\n",
       "      <td>229.562000</td>\n",
       "      <td>0.50</td>\n",
       "      <td>227.944083</td>\n",
       "      <td>230.325667</td>\n",
       "    </tr>\n",
       "    <tr>\n",
       "      <th>Botswana</th>\n",
       "      <td>189.126500</td>\n",
       "      <td>185.464333</td>\n",
       "      <td>0.47</td>\n",
       "      <td>2.109333</td>\n",
       "      <td>191.235833</td>\n",
       "    </tr>\n",
       "    <tr>\n",
       "      <th>Kenya</th>\n",
       "      <td>55.956750</td>\n",
       "      <td>164.617833</td>\n",
       "      <td>0.30</td>\n",
       "      <td>145.891667</td>\n",
       "      <td>201.848417</td>\n",
       "    </tr>\n",
       "    <tr>\n",
       "      <th>Seychelles</th>\n",
       "      <td>163.398167</td>\n",
       "      <td>0.894333</td>\n",
       "      <td>0.00</td>\n",
       "      <td>0.787667</td>\n",
       "      <td>164.185833</td>\n",
       "    </tr>\n",
       "  </tbody>\n",
       "</table>\n",
       "</div>"
      ],
      "text/plain": [
       "                                           iqr      median  percent_outliers  \\\n",
       "country_name                                                                   \n",
       "Togo                                  7.497917  115.077500             23.00   \n",
       "Nigeria                               1.745167  114.422000             22.34   \n",
       "Mozambique                            2.204000  183.784667             18.10   \n",
       "Tanzania, United Republic of          6.466500  149.472333             17.20   \n",
       "Mauritius                            20.456583  215.176500             16.74   \n",
       "Egypt                                26.206167   86.084500             13.82   \n",
       "Benin                                 5.448000  118.161333             13.78   \n",
       "Zambia                                4.133667  219.807333             10.28   \n",
       "Sudan                                22.355583  116.574000             10.22   \n",
       "Djibouti                              3.157000  114.076333             10.18   \n",
       "Senegal                              94.542833  116.318167              8.95   \n",
       "Uganda                               28.232500  178.779333              8.71   \n",
       "Madagascar                           10.753833  226.337333              8.38   \n",
       "Algeria                              16.627583   78.512667              7.26   \n",
       "Congo                                 9.470750  173.800500              7.16   \n",
       "Cameroon                             27.185833  133.506000              6.24   \n",
       "Morocco                              23.216917   89.064000              5.30   \n",
       "Eswatini                              0.664083  174.144833              4.44   \n",
       "South Africa                         17.773000  171.683167              4.42   \n",
       "Tunisia                              24.763333   86.143833              4.30   \n",
       "Lesotho                               0.539167  179.365667              2.95   \n",
       "Congo (Democratic Republic of the)  127.569917  134.349000              2.69   \n",
       "Gambia                                0.785000   83.873667              2.49   \n",
       "Malawi                               21.142833  209.379333              2.14   \n",
       "Ethiopia                             29.240000  124.204333              2.02   \n",
       "Burundi                             176.242917  174.637167              2.01   \n",
       "South Sudan                           3.981333  198.686333              1.36   \n",
       "Zimbabwe                             26.168667  194.286000              1.27   \n",
       "Rwanda                               12.096833  218.802333              1.26   \n",
       "Ghana                                52.582333  109.904333              0.83   \n",
       "Angola                                2.381583  229.562000              0.50   \n",
       "Botswana                            189.126500  185.464333              0.47   \n",
       "Kenya                                55.956750  164.617833              0.30   \n",
       "Seychelles                          163.398167    0.894333              0.00   \n",
       "\n",
       "                                            q1          q3  \n",
       "country_name                                                \n",
       "Togo                                112.976917  120.474833  \n",
       "Nigeria                             114.230333  115.975500  \n",
       "Mozambique                          182.784667  184.988667  \n",
       "Tanzania, United Republic of        146.896667  153.363167  \n",
       "Mauritius                           212.384250  232.840833  \n",
       "Egypt                                71.613833   97.820000  \n",
       "Benin                               117.818000  123.266000  \n",
       "Zambia                              217.323667  221.457333  \n",
       "Sudan                               101.222000  123.577583  \n",
       "Djibouti                            113.271667  116.428667  \n",
       "Senegal                             104.651917  199.194750  \n",
       "Uganda                              163.653250  191.885750  \n",
       "Madagascar                          224.031167  234.785000  \n",
       "Algeria                              74.586583   91.214167  \n",
       "Congo                               165.091417  174.562167  \n",
       "Cameroon                            121.658000  148.843833  \n",
       "Morocco                              71.716667   94.933583  \n",
       "Eswatini                            173.900583  174.564667  \n",
       "South Africa                        161.018333  178.791333  \n",
       "Tunisia                              68.354417   93.117750  \n",
       "Lesotho                             179.176917  179.716083  \n",
       "Congo (Democratic Republic of the)    7.409750  134.979667  \n",
       "Gambia                               83.432167   84.217167  \n",
       "Malawi                              191.879500  213.022333  \n",
       "Ethiopia                            115.128000  144.368000  \n",
       "Burundi                               0.839667  177.082583  \n",
       "South Sudan                         196.043000  200.024333  \n",
       "Zimbabwe                            187.451500  213.620167  \n",
       "Rwanda                              217.640500  229.737333  \n",
       "Ghana                               109.382667  161.965000  \n",
       "Angola                              227.944083  230.325667  \n",
       "Botswana                              2.109333  191.235833  \n",
       "Kenya                               145.891667  201.848417  \n",
       "Seychelles                            0.787667  164.185833  "
      ]
     },
     "execution_count": 44,
     "metadata": {
      "tags": []
     },
     "output_type": "execute_result"
    }
   ],
   "source": [
    "def describe_outliers(series):\n",
    "    q1, median, q3 = series.quantile(q=[.25, .5, .75])\n",
    "    iqr = q3 - q1\n",
    "    percent_outliers = np.round(100*np.sum(series > 1.5*iqr + q3)/len(series), 2)\n",
    "    return pd.Series({'q1': q1, 'median': median, 'q3': q3, 'iqr': iqr,\n",
    "                      'percent_outliers': percent_outliers})\n",
    "\n",
    "data.dropna(subset=['rtt'])\\\n",
    "    .groupby('country_name')['rtt']\\\n",
    "    .apply(describe_outliers)\\\n",
    "    .unstack()\\\n",
    "    .sort_values(by='percent_outliers', ascending=False)"
   ]
  },
  {
   "cell_type": "markdown",
   "metadata": {
    "colab_type": "text",
    "id": "aiVEGLXmXFy5"
   },
   "source": [
    "### II.4 How many probes and measurements per country?\n",
    "<a id='nb-probes-measurements-per-country'>"
   ]
  },
  {
   "cell_type": "code",
   "execution_count": 98,
   "metadata": {
    "colab": {
     "base_uri": "https://localhost:8080/",
     "height": 1165
    },
    "colab_type": "code",
    "id": "-FG7gNgnXFy6",
    "outputId": "f3b6e5fc-57ae-4aa6-872b-57d776914aa8"
   },
   "outputs": [
    {
     "data": {
      "text/html": [
       "<div>\n",
       "<style scoped>\n",
       "    .dataframe tbody tr th:only-of-type {\n",
       "        vertical-align: middle;\n",
       "    }\n",
       "\n",
       "    .dataframe tbody tr th {\n",
       "        vertical-align: top;\n",
       "    }\n",
       "\n",
       "    .dataframe thead th {\n",
       "        text-align: right;\n",
       "    }\n",
       "</style>\n",
       "<table border=\"1\" class=\"dataframe\">\n",
       "  <thead>\n",
       "    <tr style=\"text-align: right;\">\n",
       "      <th></th>\n",
       "      <th>nb_of_probes</th>\n",
       "      <th>nb_of_measurements</th>\n",
       "    </tr>\n",
       "    <tr>\n",
       "      <th>country_name</th>\n",
       "      <th></th>\n",
       "      <th></th>\n",
       "    </tr>\n",
       "  </thead>\n",
       "  <tbody>\n",
       "    <tr>\n",
       "      <th>South Africa</th>\n",
       "      <td>91</td>\n",
       "      <td>235996</td>\n",
       "    </tr>\n",
       "    <tr>\n",
       "      <th>Kenya</th>\n",
       "      <td>13</td>\n",
       "      <td>33892</td>\n",
       "    </tr>\n",
       "    <tr>\n",
       "      <th>Tunisia</th>\n",
       "      <td>9</td>\n",
       "      <td>19946</td>\n",
       "    </tr>\n",
       "    <tr>\n",
       "      <th>Benin</th>\n",
       "      <td>7</td>\n",
       "      <td>19429</td>\n",
       "    </tr>\n",
       "    <tr>\n",
       "      <th>Uganda</th>\n",
       "      <td>7</td>\n",
       "      <td>13022</td>\n",
       "    </tr>\n",
       "    <tr>\n",
       "      <th>Cameroon</th>\n",
       "      <td>7</td>\n",
       "      <td>15412</td>\n",
       "    </tr>\n",
       "    <tr>\n",
       "      <th>Tanzania, United Republic of</th>\n",
       "      <td>7</td>\n",
       "      <td>17211</td>\n",
       "    </tr>\n",
       "    <tr>\n",
       "      <th>Togo</th>\n",
       "      <td>6</td>\n",
       "      <td>14540</td>\n",
       "    </tr>\n",
       "    <tr>\n",
       "      <th>Senegal</th>\n",
       "      <td>6</td>\n",
       "      <td>16736</td>\n",
       "    </tr>\n",
       "    <tr>\n",
       "      <th>Mozambique</th>\n",
       "      <td>6</td>\n",
       "      <td>17277</td>\n",
       "    </tr>\n",
       "    <tr>\n",
       "      <th>Morocco</th>\n",
       "      <td>5</td>\n",
       "      <td>11344</td>\n",
       "    </tr>\n",
       "    <tr>\n",
       "      <th>Mauritius</th>\n",
       "      <td>5</td>\n",
       "      <td>11180</td>\n",
       "    </tr>\n",
       "    <tr>\n",
       "      <th>Algeria</th>\n",
       "      <td>4</td>\n",
       "      <td>10928</td>\n",
       "    </tr>\n",
       "    <tr>\n",
       "      <th>Nigeria</th>\n",
       "      <td>4</td>\n",
       "      <td>8638</td>\n",
       "    </tr>\n",
       "    <tr>\n",
       "      <th>Madagascar</th>\n",
       "      <td>4</td>\n",
       "      <td>11319</td>\n",
       "    </tr>\n",
       "    <tr>\n",
       "      <th>Ghana</th>\n",
       "      <td>4</td>\n",
       "      <td>8633</td>\n",
       "    </tr>\n",
       "    <tr>\n",
       "      <th>Egypt</th>\n",
       "      <td>3</td>\n",
       "      <td>7810</td>\n",
       "    </tr>\n",
       "    <tr>\n",
       "      <th>Zambia</th>\n",
       "      <td>3</td>\n",
       "      <td>8221</td>\n",
       "    </tr>\n",
       "    <tr>\n",
       "      <th>Botswana</th>\n",
       "      <td>3</td>\n",
       "      <td>8639</td>\n",
       "    </tr>\n",
       "    <tr>\n",
       "      <th>Sudan</th>\n",
       "      <td>3</td>\n",
       "      <td>8140</td>\n",
       "    </tr>\n",
       "    <tr>\n",
       "      <th>Zimbabwe</th>\n",
       "      <td>3</td>\n",
       "      <td>6767</td>\n",
       "    </tr>\n",
       "    <tr>\n",
       "      <th>Ethiopia</th>\n",
       "      <td>3</td>\n",
       "      <td>7936</td>\n",
       "    </tr>\n",
       "    <tr>\n",
       "      <th>Malawi</th>\n",
       "      <td>3</td>\n",
       "      <td>8639</td>\n",
       "    </tr>\n",
       "    <tr>\n",
       "      <th>Rwanda</th>\n",
       "      <td>2</td>\n",
       "      <td>2707</td>\n",
       "    </tr>\n",
       "    <tr>\n",
       "      <th>Congo (Democratic Republic of the)</th>\n",
       "      <td>2</td>\n",
       "      <td>5607</td>\n",
       "    </tr>\n",
       "    <tr>\n",
       "      <th>Gambia</th>\n",
       "      <td>2</td>\n",
       "      <td>3171</td>\n",
       "    </tr>\n",
       "    <tr>\n",
       "      <th>Burundi</th>\n",
       "      <td>2</td>\n",
       "      <td>5112</td>\n",
       "    </tr>\n",
       "    <tr>\n",
       "      <th>Angola</th>\n",
       "      <td>2</td>\n",
       "      <td>4562</td>\n",
       "    </tr>\n",
       "    <tr>\n",
       "      <th>Eswatini</th>\n",
       "      <td>1</td>\n",
       "      <td>2880</td>\n",
       "    </tr>\n",
       "    <tr>\n",
       "      <th>Djibouti</th>\n",
       "      <td>1</td>\n",
       "      <td>1297</td>\n",
       "    </tr>\n",
       "    <tr>\n",
       "      <th>Lesotho</th>\n",
       "      <td>1</td>\n",
       "      <td>2880</td>\n",
       "    </tr>\n",
       "    <tr>\n",
       "      <th>South Sudan</th>\n",
       "      <td>1</td>\n",
       "      <td>2869</td>\n",
       "    </tr>\n",
       "    <tr>\n",
       "      <th>Congo</th>\n",
       "      <td>1</td>\n",
       "      <td>2876</td>\n",
       "    </tr>\n",
       "    <tr>\n",
       "      <th>Burkina Faso</th>\n",
       "      <td>1</td>\n",
       "      <td>0</td>\n",
       "    </tr>\n",
       "    <tr>\n",
       "      <th>Seychelles</th>\n",
       "      <td>1</td>\n",
       "      <td>2879</td>\n",
       "    </tr>\n",
       "  </tbody>\n",
       "</table>\n",
       "</div>"
      ],
      "text/plain": [
       "                                    nb_of_probes  nb_of_measurements\n",
       "country_name                                                        \n",
       "South Africa                                  91              235996\n",
       "Kenya                                         13               33892\n",
       "Tunisia                                        9               19946\n",
       "Benin                                          7               19429\n",
       "Uganda                                         7               13022\n",
       "Cameroon                                       7               15412\n",
       "Tanzania, United Republic of                   7               17211\n",
       "Togo                                           6               14540\n",
       "Senegal                                        6               16736\n",
       "Mozambique                                     6               17277\n",
       "Morocco                                        5               11344\n",
       "Mauritius                                      5               11180\n",
       "Algeria                                        4               10928\n",
       "Nigeria                                        4                8638\n",
       "Madagascar                                     4               11319\n",
       "Ghana                                          4                8633\n",
       "Egypt                                          3                7810\n",
       "Zambia                                         3                8221\n",
       "Botswana                                       3                8639\n",
       "Sudan                                          3                8140\n",
       "Zimbabwe                                       3                6767\n",
       "Ethiopia                                       3                7936\n",
       "Malawi                                         3                8639\n",
       "Rwanda                                         2                2707\n",
       "Congo (Democratic Republic of the)             2                5607\n",
       "Gambia                                         2                3171\n",
       "Burundi                                        2                5112\n",
       "Angola                                         2                4562\n",
       "Eswatini                                       1                2880\n",
       "Djibouti                                       1                1297\n",
       "Lesotho                                        1                2880\n",
       "South Sudan                                    1                2869\n",
       "Congo                                          1                2876\n",
       "Burkina Faso                                   1                   0\n",
       "Seychelles                                     1                2879"
      ]
     },
     "execution_count": 98,
     "metadata": {
      "tags": []
     },
     "output_type": "execute_result"
    }
   ],
   "source": [
    "data.groupby('country_name')[['prb_id', 'rtt']]\\\n",
    "    .agg({'prb_id':'nunique', 'rtt':'count'})\\\n",
    "    .sort_values(by='prb_id', ascending=False)\\\n",
    "    .rename(columns={'prb_id': 'nb_of_probes', 'rtt': 'nb_of_measurements'})"
   ]
  },
  {
   "cell_type": "markdown",
   "metadata": {
    "colab_type": "text",
    "id": "f5_KN3v2XFy9"
   },
   "source": [
    "### II.5 Spatializing probes location and RTT\n",
    "<a id='maps'>"
   ]
  },
  {
   "cell_type": "code",
   "execution_count": 46,
   "metadata": {
    "colab": {
     "base_uri": "https://localhost:8080/",
     "height": 204
    },
    "colab_type": "code",
    "id": "Qp3cbAGDXFy9",
    "outputId": "dc15427e-ad63-4a97-bcf5-8e05ad0c3ca5"
   },
   "outputs": [
    {
     "data": {
      "text/html": [
       "<div>\n",
       "<style scoped>\n",
       "    .dataframe tbody tr th:only-of-type {\n",
       "        vertical-align: middle;\n",
       "    }\n",
       "\n",
       "    .dataframe tbody tr th {\n",
       "        vertical-align: top;\n",
       "    }\n",
       "\n",
       "    .dataframe thead th {\n",
       "        text-align: right;\n",
       "    }\n",
       "</style>\n",
       "<table border=\"1\" class=\"dataframe\">\n",
       "  <thead>\n",
       "    <tr style=\"text-align: right;\">\n",
       "      <th></th>\n",
       "      <th>prb_id</th>\n",
       "      <th>description</th>\n",
       "      <th>lon</th>\n",
       "      <th>lat</th>\n",
       "    </tr>\n",
       "  </thead>\n",
       "  <tbody>\n",
       "    <tr>\n",
       "      <th>0</th>\n",
       "      <td>35067</td>\n",
       "      <td>Rue Bruxelles</td>\n",
       "      <td>-6.2395</td>\n",
       "      <td>33.8205</td>\n",
       "    </tr>\n",
       "    <tr>\n",
       "      <th>1</th>\n",
       "      <td>27571</td>\n",
       "      <td>BennieJ Home</td>\n",
       "      <td>28.1405</td>\n",
       "      <td>-25.8125</td>\n",
       "    </tr>\n",
       "    <tr>\n",
       "      <th>2</th>\n",
       "      <td>21682</td>\n",
       "      <td>Strand</td>\n",
       "      <td>18.8315</td>\n",
       "      <td>-34.1015</td>\n",
       "    </tr>\n",
       "    <tr>\n",
       "      <th>3</th>\n",
       "      <td>12286</td>\n",
       "      <td>eNetworks Samrand</td>\n",
       "      <td>28.1415</td>\n",
       "      <td>-25.9295</td>\n",
       "    </tr>\n",
       "    <tr>\n",
       "      <th>4</th>\n",
       "      <td>13810</td>\n",
       "      <td>Internet Solutions [http://www.is.co.za] - Mas...</td>\n",
       "      <td>28.2275</td>\n",
       "      <td>-29.6125</td>\n",
       "    </tr>\n",
       "  </tbody>\n",
       "</table>\n",
       "</div>"
      ],
      "text/plain": [
       "   prb_id                                        description      lon      lat\n",
       "0   35067                                      Rue Bruxelles  -6.2395  33.8205\n",
       "1   27571                                       BennieJ Home  28.1405 -25.8125\n",
       "2   21682                                             Strand  18.8315 -34.1015\n",
       "3   12286                                  eNetworks Samrand  28.1415 -25.9295\n",
       "4   13810  Internet Solutions [http://www.is.co.za] - Mas...  28.2275 -29.6125"
      ]
     },
     "execution_count": 46,
     "metadata": {
      "tags": []
     },
     "output_type": "execute_result"
    }
   ],
   "source": [
    "# Retrieve probes location\n",
    "probes_loc = data.drop_duplicates(subset=['prb_id'])[['prb_id', 'description', 'lon', 'lat']]\n",
    "probes_loc.head()"
   ]
  },
  {
   "cell_type": "markdown",
   "metadata": {
    "colab_type": "text",
    "id": "NHWZnIqmXFzB"
   },
   "source": [
    "#### II.5.1 Probes location\n",
    "<a id='probes-location'>"
   ]
  },
  {
   "cell_type": "code",
   "execution_count": 47,
   "metadata": {
    "colab": {
     "base_uri": "https://localhost:8080/",
     "height": 892
    },
    "colab_type": "code",
    "id": "F8SEiatmXFzC",
    "outputId": "c47fa24c-3b78-4107-ca26-d4907025253f"
   },
   "outputs": [
    {
     "data": {
      "text/html": [
       "<div style=\"width:100%;\"><div style=\"position:relative;width:100%;height:0;padding-bottom:60%;\"><iframe src=\"data:text/html;charset=utf-8;base64,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\" style=\"position:absolute;width:100%;height:100%;left:0;top:0;border:none !important;\" allowfullscreen webkitallowfullscreen mozallowfullscreen></iframe></div></div>"
      ],
      "text/plain": [
       "<folium.folium.Map at 0x7fa9ec04aa20>"
      ]
     },
     "execution_count": 47,
     "metadata": {
      "tags": []
     },
     "output_type": "execute_result"
    }
   ],
   "source": [
    "# Instantiate a folium map object\n",
    "m = folium.Map([5, 20], tiles='Mapbox Bright', zoom_start=3)\n",
    "\n",
    "# mark each station as a point\n",
    "for index, row in probes_loc.iterrows():\n",
    "    folium.Marker([row['lat'], row['lon']],\n",
    "                        #radius=5,\n",
    "                        popup=row['description'],\n",
    "                        icon=folium.Icon(color='darkred', icon='info-sign')\n",
    "                       ).add_to(m)\n",
    "m"
   ]
  },
  {
   "cell_type": "markdown",
   "metadata": {
    "colab_type": "text",
    "id": "XfECyfRMXFzF"
   },
   "source": [
    "#### II.5.2 Probes location heat map\n",
    "<a id='probes-location-heatmap'></a>"
   ]
  },
  {
   "cell_type": "markdown",
   "metadata": {
    "colab_type": "text",
    "id": "UqikYj7EXFzG"
   },
   "source": [
    "*Preliminary remark: This kind of visualization might be somewhat misleading as visual effect extremely sensitive to the vis. parameters. However, it highlights that most probes are located in South, West and North Africa.*"
   ]
  },
  {
   "cell_type": "code",
   "execution_count": 48,
   "metadata": {
    "colab": {
     "base_uri": "https://localhost:8080/",
     "height": 892
    },
    "colab_type": "code",
    "id": "fOSox6ZYXFzG",
    "outputId": "9ccf5890-aadd-441a-c72f-4f0c0b49718c"
   },
   "outputs": [
    {
     "data": {
      "text/html": [
       "<div style=\"width:100%;\"><div style=\"position:relative;width:100%;height:0;padding-bottom:60%;\"><iframe src=\"data:text/html;charset=utf-8;base64,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\" style=\"position:absolute;width:100%;height:100%;left:0;top:0;border:none !important;\" allowfullscreen webkitallowfullscreen mozallowfullscreen></iframe></div></div>"
      ],
      "text/plain": [
       "<folium.folium.Map at 0x7fa9ebd88eb8>"
      ]
     },
     "execution_count": 48,
     "metadata": {
      "tags": []
     },
     "output_type": "execute_result"
    }
   ],
   "source": [
    "# Probes locations Heatmap (density of probes)\n",
    "\n",
    "# Instantiate a folium map object\n",
    "#m = folium.Map([5, 20], tiles='Mapbox Control Room', zoom_start=3)\n",
    "m = folium.Map([5, 20], tiles='cartodbdark_matter', zoom_start=3)\n",
    "\n",
    "# convert to (n, 2) nd-array format for heatmap\n",
    "probesArr = probes_loc[['lat', 'lon']].as_matrix()\n",
    "\n",
    "# plot heatmap\n",
    "m.add_children(plugins.HeatMap(probesArr, radius=10, \n",
    "                               blur=10,\n",
    "                               min_opacity=0.8,\n",
    "                               gradient={0.3: '#110e8f', 0.8: '#cc4e74', 1: '#f2f800'}))\n",
    "m"
   ]
  },
  {
   "cell_type": "markdown",
   "metadata": {
    "colab_type": "text",
    "id": "ka7RhZlnXFzN"
   },
   "source": [
    "#### II.5.3 Hexbin RTT median\n",
    "<a id='hexbin-rtt-median'>"
   ]
  },
  {
   "cell_type": "markdown",
   "metadata": {
    "colab_type": "text",
    "id": "VU3UdiszXFzO"
   },
   "source": [
    "// To be fixed: hexagons looks shifted on the right -- as unprojected - map projection (most probably Google Mercator required)"
   ]
  },
  {
   "cell_type": "code",
   "execution_count": 49,
   "metadata": {
    "colab": {
     "base_uri": "https://localhost:8080/",
     "height": 951
    },
    "colab_type": "code",
    "id": "WerhdjvXXFzO",
    "outputId": "36b6bac9-d3cc-4ad6-85ac-6484c8e9b991"
   },
   "outputs": [
    {
     "data": {
      "text/html": [
       "<div style=\"width:100%;\"><div style=\"position:relative;width:100%;height:0;padding-bottom:60%;\"><iframe src=\"data:text/html;charset=utf-8;base64,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\" style=\"position:absolute;width:100%;height:100%;left:0;top:0;border:none !important;\" allowfullscreen webkitallowfullscreen mozallowfullscreen></iframe></div></div>"
      ],
      "text/plain": [
       "<folium.folium.Map at 0x7fa9eb014048>"
      ]
     },
     "execution_count": 49,
     "metadata": {
      "tags": []
     },
     "output_type": "execute_result"
    },
    {
     "data": {
      "image/png": "[encoded data removed]",
      "text/plain": [
       "<Figure size 432x144 with 1 Axes>"
      ]
     },
     "metadata": {
      "tags": []
     },
     "output_type": "display_data"
    }
   ],
   "source": [
    "# Median RTT aggregated - hexbin map\n",
    "fig = plt.figure(figsize=(8, 8))\n",
    "ax = fig.add_subplot(1, 1, 1)\n",
    "\n",
    "hb = ax.hexbin(data.lon, data.lat, C = df.rtt, \n",
    "           reduce_C_function = np.median, gridsize=30, \n",
    "           mincnt=0, cmap=YlGnBu_5.get_mpl_colormap(), \n",
    "           linewidths=0.5, edgecolors='none')\n",
    "\n",
    "ax.set_axis_off()\n",
    "\n",
    "xmin, xmax = ax.get_xlim()\n",
    "ymin, ymax = ax.get_ylim()\n",
    "\n",
    "plt.savefig('rtt-median.png', transparent=True, pad_inches=0, bbox_inches='tight', dpi=300)\n",
    "plt.close(fig) # do not display default hexbin\n",
    "\n",
    "# Plot legend\n",
    "# https://matplotlib.org/examples/api/colorbar_only.html\n",
    "fig = plt.figure(figsize=(6, 2))\n",
    "ax1 = fig.add_axes([0, 0, 1, 0.1])\n",
    "cmap = hb.cmap\n",
    "norm = mpl.colors.Normalize(vmin=10, vmax=300)\n",
    "\n",
    "cb1 = mpl.colorbar.ColorbarBase(ax1, cmap=cmap, norm=norm, orientation='horizontal')\n",
    "\n",
    "cb1.set_label('Median Round-Trip-Time (RTT) in ms')\n",
    "\n",
    "# Save as png and overlay on folium map\n",
    "data_overlay = plt.imread('rtt-median.png')\n",
    "\n",
    "m = folium.Map([5, 20], tiles='cartodbpositron', zoom_start=3, control_scale=True)\n",
    "\n",
    "m.add_child(ImageOverlay(data_overlay, opacity=0.8, \\\n",
    "        bounds =[[ymin, xmin], [ymax, xmax]]))\n",
    "\n",
    "m"
   ]
  },
  {
   "cell_type": "markdown",
   "metadata": {
    "colab_type": "text",
    "id": "dM_TTTI6XFzT"
   },
   "source": [
    "### II.6 Assessing RTT variability by probe and firmware\n",
    "<a id='rtt-variation-probe-firmware'>"
   ]
  },
  {
   "cell_type": "code",
   "execution_count": 50,
   "metadata": {
    "colab": {
     "base_uri": "https://localhost:8080/",
     "height": 1088
    },
    "colab_type": "code",
    "id": "X0D7YiQgXFzU",
    "outputId": "681cb349-2cfe-40fd-a9f4-b1319a2bbea4"
   },
   "outputs": [
    {
     "data": {
      "text/plain": [
       "prb_id\n",
       "35743    941.519535\n",
       "2456     399.435737\n",
       "35067    263.944003\n",
       "30033    259.873705\n",
       "23531    236.346965\n",
       "21632    228.583824\n",
       "28493    222.289882\n",
       "21770    213.473528\n",
       "21715    195.367829\n",
       "32381    189.326322\n",
       "19592    184.517663\n",
       "4519     181.347457\n",
       "14712    180.457141\n",
       "11383    178.688472\n",
       "32206    176.288848\n",
       "239      175.945578\n",
       "21610    156.239397\n",
       "50011    150.248411\n",
       "30145    145.066153\n",
       "21682    141.897949\n",
       "4153     138.381247\n",
       "15269    136.998219\n",
       "33838    134.303803\n",
       "12168    129.583220\n",
       "22588    121.188746\n",
       "3461     120.901329\n",
       "10843    120.130631\n",
       "14867    118.590701\n",
       "14419    112.082882\n",
       "19984    108.980009\n",
       "            ...    \n",
       "13734      3.803250\n",
       "13705      3.793669\n",
       "35742      3.719424\n",
       "21673      3.545849\n",
       "29857      3.104209\n",
       "25355      2.888534\n",
       "33126      2.881804\n",
       "50139      2.864981\n",
       "20772      2.759435\n",
       "11327      2.621536\n",
       "13725      2.508494\n",
       "33289      2.507391\n",
       "12207      2.298269\n",
       "30021      2.263489\n",
       "35736      2.026521\n",
       "32258      1.992480\n",
       "12286      1.974966\n",
       "33105      1.910403\n",
       "13236      1.858907\n",
       "14960      1.704408\n",
       "13503      1.627229\n",
       "16466      1.537468\n",
       "25283      1.380246\n",
       "25296      1.370082\n",
       "14316      1.356850\n",
       "13810      0.708735\n",
       "13754      0.637214\n",
       "12465      0.501153\n",
       "18514      0.383156\n",
       "32674      0.081097\n",
       "Name: rtt, Length: 212, dtype: float64"
      ]
     },
     "execution_count": 50,
     "metadata": {
      "tags": []
     },
     "output_type": "execute_result"
    }
   ],
   "source": [
    "# RTTs Standard Deviation by probe\n",
    "data.dropna(subset=['rtt'])\\\n",
    "    .groupby('prb_id')['rtt']\\\n",
    "    .agg('std')\\\n",
    "    .sort_values(ascending=False)"
   ]
  },
  {
   "cell_type": "code",
   "execution_count": 51,
   "metadata": {
    "colab": {
     "base_uri": "https://localhost:8080/",
     "height": 187
    },
    "colab_type": "code",
    "id": "zbsQ7iYTXFzX",
    "outputId": "6d34f837-e736-459c-bd94-833b5b5c2116"
   },
   "outputs": [
    {
     "data": {
      "text/plain": [
       "firmware_version\n",
       "4650    195.367829\n",
       "4790    136.248082\n",
       "4780    127.046378\n",
       "4940    126.085855\n",
       "4760    116.196127\n",
       "4770     74.396395\n",
       "4900     52.327388\n",
       "4910     14.542528\n",
       "Name: rtt, dtype: float64"
      ]
     },
     "execution_count": 51,
     "metadata": {
      "tags": []
     },
     "output_type": "execute_result"
    }
   ],
   "source": [
    "# RTTs Standard Deviation by probes' firmware version\n",
    "data.dropna(subset=['rtt'])\\\n",
    "    .groupby('firmware_version')['rtt']\\\n",
    "    .agg('std')\\\n",
    "    .sort_values(ascending=False)"
   ]
  },
  {
   "cell_type": "code",
   "execution_count": 52,
   "metadata": {
    "colab": {
     "base_uri": "https://localhost:8080/",
     "height": 1071
    },
    "colab_type": "code",
    "id": "fauAiRj4XFzc",
    "outputId": "f7c092d4-3e03-460a-aef2-f58cac282ce4"
   },
   "outputs": [
    {
     "data": {
      "text/plain": [
       "country_name                        firmware_version\n",
       "Algeria                             4780                  2854\n",
       "                                    4940                  8074\n",
       "Angola                              4940                  4562\n",
       "Benin                               4760                  2753\n",
       "                                    4770                  2874\n",
       "                                    4900                   418\n",
       "                                    4940                 13384\n",
       "Botswana                            4790                  2879\n",
       "                                    4940                  5760\n",
       "Burundi                             4940                  5112\n",
       "Cameroon                            4650                  2158\n",
       "                                    4770                  2738\n",
       "                                    4790                  1451\n",
       "                                    4940                  9065\n",
       "Congo                               4940                  2876\n",
       "Congo (Democratic Republic of the)  4940                  5607\n",
       "Djibouti                            4940                  1297\n",
       "Egypt                               4780                  5670\n",
       "                                    4940                  2140\n",
       "Eswatini                            4940                  2880\n",
       "Ethiopia                            4940                  7936\n",
       "Gambia                              4940                  3171\n",
       "Ghana                               4790                  2875\n",
       "                                    4910                   303\n",
       "                                    4940                  5455\n",
       "Kenya                               4770                  2859\n",
       "                                    4910                   302\n",
       "                                    4940                 30731\n",
       "Lesotho                             4940                  2880\n",
       "Madagascar                          4940                 11319\n",
       "Malawi                              4940                  8639\n",
       "Mauritius                           4790                  2550\n",
       "                                    4940                  8630\n",
       "Morocco                             4780                  2187\n",
       "                                    4940                  9157\n",
       "Mozambique                          4940                 17277\n",
       "Nigeria                             4940                  8638\n",
       "Rwanda                              4940                  2707\n",
       "Senegal                             4760                  2727\n",
       "                                    4790                  2877\n",
       "                                    4940                 11132\n",
       "Seychelles                          4940                  2879\n",
       "South Africa                        4760                  2879\n",
       "                                    4770                  8478\n",
       "                                    4780                  2832\n",
       "                                    4790                 25642\n",
       "                                    4900                  3225\n",
       "                                    4910                  3182\n",
       "                                    4940                189758\n",
       "South Sudan                         4940                  2869\n",
       "Sudan                               4940                  8140\n",
       "Tanzania, United Republic of        4770                  2837\n",
       "                                    4940                 14374\n",
       "Togo                                4940                 14540\n",
       "Tunisia                             4790                  2879\n",
       "                                    4940                 17067\n",
       "Uganda                              4940                 13022\n",
       "Zambia                              4940                  8221\n",
       "Zimbabwe                            4900                   436\n",
       "                                    4940                  6331\n",
       "Name: rtt, dtype: int64"
      ]
     },
     "execution_count": 52,
     "metadata": {
      "tags": []
     },
     "output_type": "execute_result"
    }
   ],
   "source": [
    "# List of different firmware version used by country and associated number of measurements carried out\n",
    "data.dropna(subset=['rtt'])\\\n",
    "    .groupby(['country_name', 'firmware_version'])['rtt']\\\n",
    "    .agg('count')"
   ]
  },
  {
   "cell_type": "markdown",
   "metadata": {
    "colab_type": "text",
    "id": "0SzQCUReP-LU"
   },
   "source": [
    "### II.7 Packet loss analysis"
   ]
  },
  {
   "cell_type": "code",
   "execution_count": 53,
   "metadata": {
    "colab": {
     "base_uri": "https://localhost:8080/",
     "height": 80
    },
    "colab_type": "code",
    "id": "CzCX40AtP8na",
    "outputId": "bfa9243c-0309-40f9-c8ab-9bc263695b79"
   },
   "outputs": [
    {
     "data": {
      "text/html": [
       "<div>\n",
       "<style scoped>\n",
       "    .dataframe tbody tr th:only-of-type {\n",
       "        vertical-align: middle;\n",
       "    }\n",
       "\n",
       "    .dataframe tbody tr th {\n",
       "        vertical-align: top;\n",
       "    }\n",
       "\n",
       "    .dataframe thead th {\n",
       "        text-align: right;\n",
       "    }\n",
       "</style>\n",
       "<table border=\"1\" class=\"dataframe\">\n",
       "  <thead>\n",
       "    <tr style=\"text-align: right;\">\n",
       "      <th></th>\n",
       "      <th>prb_id</th>\n",
       "      <th>start_time</th>\n",
       "      <th>end_time</th>\n",
       "      <th>last_time_sync</th>\n",
       "      <th>firmware_version</th>\n",
       "      <th>nb_packets</th>\n",
       "      <th>nb_rtts</th>\n",
       "      <th>rtt</th>\n",
       "      <th>ip_v4</th>\n",
       "      <th>description</th>\n",
       "      <th>lon</th>\n",
       "      <th>lat</th>\n",
       "      <th>country_name</th>\n",
       "      <th>country_code</th>\n",
       "    </tr>\n",
       "  </thead>\n",
       "  <tbody>\n",
       "    <tr>\n",
       "      <th>0</th>\n",
       "      <td>35067</td>\n",
       "      <td>1543622568</td>\n",
       "      <td>1543622568</td>\n",
       "      <td>206</td>\n",
       "      <td>4780</td>\n",
       "      <td>3</td>\n",
       "      <td>3</td>\n",
       "      <td>92.663667</td>\n",
       "      <td>41.248.146.40</td>\n",
       "      <td>Rue Bruxelles</td>\n",
       "      <td>-6.2395</td>\n",
       "      <td>33.8205</td>\n",
       "      <td>Morocco</td>\n",
       "      <td>MA</td>\n",
       "    </tr>\n",
       "  </tbody>\n",
       "</table>\n",
       "</div>"
      ],
      "text/plain": [
       "   prb_id  start_time    end_time  last_time_sync  firmware_version  \\\n",
       "0   35067  1543622568  1543622568             206              4780   \n",
       "\n",
       "   nb_packets  nb_rtts        rtt          ip_v4    description     lon  \\\n",
       "0           3        3  92.663667  41.248.146.40  Rue Bruxelles -6.2395   \n",
       "\n",
       "       lat country_name country_code  \n",
       "0  33.8205      Morocco           MA  "
      ]
     },
     "execution_count": 53,
     "metadata": {
      "tags": []
     },
     "output_type": "execute_result"
    }
   ],
   "source": [
    "data.head(1)"
   ]
  },
  {
   "cell_type": "markdown",
   "metadata": {
    "colab_type": "text",
    "id": "I3RO7qCSQNbE"
   },
   "source": [
    "* `nb_packets`: number of packets sent\n",
    "* `nb_rtts`: nb. of successfully sent packets out of total sent"
   ]
  },
  {
   "cell_type": "code",
   "execution_count": 0,
   "metadata": {
    "colab": {},
    "colab_type": "code",
    "id": "7SDQdwmzQGJI"
   },
   "outputs": [],
   "source": [
    "# Adding packet loss percentage column\n",
    "data['packet_loss_percent'] = 100 * (data['nb_packets'] - data['nb_rtts']) / data['nb_packets']"
   ]
  },
  {
   "cell_type": "code",
   "execution_count": 55,
   "metadata": {
    "colab": {
     "base_uri": "https://localhost:8080/",
     "height": 275
    },
    "colab_type": "code",
    "id": "2UhrqfTGRK4P",
    "outputId": "d6a74b92-7308-41ad-abe5-e53ef03df691"
   },
   "outputs": [
    {
     "data": {
      "text/html": [
       "<div>\n",
       "<style scoped>\n",
       "    .dataframe tbody tr th:only-of-type {\n",
       "        vertical-align: middle;\n",
       "    }\n",
       "\n",
       "    .dataframe tbody tr th {\n",
       "        vertical-align: top;\n",
       "    }\n",
       "\n",
       "    .dataframe thead th {\n",
       "        text-align: right;\n",
       "    }\n",
       "</style>\n",
       "<table border=\"1\" class=\"dataframe\">\n",
       "  <thead>\n",
       "    <tr style=\"text-align: right;\">\n",
       "      <th></th>\n",
       "      <th>prb_id</th>\n",
       "      <th>start_time</th>\n",
       "      <th>end_time</th>\n",
       "      <th>last_time_sync</th>\n",
       "      <th>firmware_version</th>\n",
       "      <th>nb_packets</th>\n",
       "      <th>nb_rtts</th>\n",
       "      <th>rtt</th>\n",
       "      <th>ip_v4</th>\n",
       "      <th>description</th>\n",
       "      <th>lon</th>\n",
       "      <th>lat</th>\n",
       "      <th>country_name</th>\n",
       "      <th>country_code</th>\n",
       "      <th>packet_loss_percent</th>\n",
       "    </tr>\n",
       "  </thead>\n",
       "  <tbody>\n",
       "    <tr>\n",
       "      <th>0</th>\n",
       "      <td>35067</td>\n",
       "      <td>1543622568</td>\n",
       "      <td>1543622568</td>\n",
       "      <td>206</td>\n",
       "      <td>4780</td>\n",
       "      <td>3</td>\n",
       "      <td>3</td>\n",
       "      <td>92.663667</td>\n",
       "      <td>41.248.146.40</td>\n",
       "      <td>Rue Bruxelles</td>\n",
       "      <td>-6.2395</td>\n",
       "      <td>33.8205</td>\n",
       "      <td>Morocco</td>\n",
       "      <td>MA</td>\n",
       "      <td>0.0</td>\n",
       "    </tr>\n",
       "    <tr>\n",
       "      <th>1</th>\n",
       "      <td>27571</td>\n",
       "      <td>1543622572</td>\n",
       "      <td>1543622572</td>\n",
       "      <td>57</td>\n",
       "      <td>4940</td>\n",
       "      <td>3</td>\n",
       "      <td>3</td>\n",
       "      <td>172.185667</td>\n",
       "      <td>45.222.33.70</td>\n",
       "      <td>BennieJ Home</td>\n",
       "      <td>28.1405</td>\n",
       "      <td>-25.8125</td>\n",
       "      <td>South Africa</td>\n",
       "      <td>ZA</td>\n",
       "      <td>0.0</td>\n",
       "    </tr>\n",
       "    <tr>\n",
       "      <th>2</th>\n",
       "      <td>21682</td>\n",
       "      <td>1543622575</td>\n",
       "      <td>1543622575</td>\n",
       "      <td>49</td>\n",
       "      <td>4940</td>\n",
       "      <td>3</td>\n",
       "      <td>3</td>\n",
       "      <td>175.827000</td>\n",
       "      <td>None</td>\n",
       "      <td>Strand</td>\n",
       "      <td>18.8315</td>\n",
       "      <td>-34.1015</td>\n",
       "      <td>South Africa</td>\n",
       "      <td>ZA</td>\n",
       "      <td>0.0</td>\n",
       "    </tr>\n",
       "    <tr>\n",
       "      <th>3</th>\n",
       "      <td>12286</td>\n",
       "      <td>1543622580</td>\n",
       "      <td>1543622581</td>\n",
       "      <td>37</td>\n",
       "      <td>4760</td>\n",
       "      <td>3</td>\n",
       "      <td>3</td>\n",
       "      <td>169.836667</td>\n",
       "      <td>None</td>\n",
       "      <td>eNetworks Samrand</td>\n",
       "      <td>28.1415</td>\n",
       "      <td>-25.9295</td>\n",
       "      <td>South Africa</td>\n",
       "      <td>ZA</td>\n",
       "      <td>0.0</td>\n",
       "    </tr>\n",
       "    <tr>\n",
       "      <th>4</th>\n",
       "      <td>13810</td>\n",
       "      <td>1543622581</td>\n",
       "      <td>1543622582</td>\n",
       "      <td>60</td>\n",
       "      <td>4940</td>\n",
       "      <td>3</td>\n",
       "      <td>3</td>\n",
       "      <td>179.662333</td>\n",
       "      <td>197.96.8.2</td>\n",
       "      <td>Internet Solutions [http://www.is.co.za] - Mas...</td>\n",
       "      <td>28.2275</td>\n",
       "      <td>-29.6125</td>\n",
       "      <td>Lesotho</td>\n",
       "      <td>LS</td>\n",
       "      <td>0.0</td>\n",
       "    </tr>\n",
       "  </tbody>\n",
       "</table>\n",
       "</div>"
      ],
      "text/plain": [
       "   prb_id  start_time    end_time  last_time_sync  firmware_version  \\\n",
       "0   35067  1543622568  1543622568             206              4780   \n",
       "1   27571  1543622572  1543622572              57              4940   \n",
       "2   21682  1543622575  1543622575              49              4940   \n",
       "3   12286  1543622580  1543622581              37              4760   \n",
       "4   13810  1543622581  1543622582              60              4940   \n",
       "\n",
       "   nb_packets  nb_rtts         rtt          ip_v4  \\\n",
       "0           3        3   92.663667  41.248.146.40   \n",
       "1           3        3  172.185667   45.222.33.70   \n",
       "2           3        3  175.827000           None   \n",
       "3           3        3  169.836667           None   \n",
       "4           3        3  179.662333     197.96.8.2   \n",
       "\n",
       "                                         description      lon      lat  \\\n",
       "0                                      Rue Bruxelles  -6.2395  33.8205   \n",
       "1                                       BennieJ Home  28.1405 -25.8125   \n",
       "2                                             Strand  18.8315 -34.1015   \n",
       "3                                  eNetworks Samrand  28.1415 -25.9295   \n",
       "4  Internet Solutions [http://www.is.co.za] - Mas...  28.2275 -29.6125   \n",
       "\n",
       "   country_name country_code  packet_loss_percent  \n",
       "0       Morocco           MA                  0.0  \n",
       "1  South Africa           ZA                  0.0  \n",
       "2  South Africa           ZA                  0.0  \n",
       "3  South Africa           ZA                  0.0  \n",
       "4       Lesotho           LS                  0.0  "
      ]
     },
     "execution_count": 55,
     "metadata": {
      "tags": []
     },
     "output_type": "execute_result"
    }
   ],
   "source": [
    "data.head()"
   ]
  },
  {
   "cell_type": "code",
   "execution_count": 56,
   "metadata": {
    "colab": {
     "base_uri": "https://localhost:8080/",
     "height": 337
    },
    "colab_type": "code",
    "id": "tTSe8ZoNRjHQ",
    "outputId": "743565fb-40e9-466b-95d3-d403fa56073c"
   },
   "outputs": [
    {
     "data": {
      "image/png": "[encoded data removed]",
      "text/plain": [
       "<Figure size 720x360 with 1 Axes>"
      ]
     },
     "metadata": {
      "tags": []
     },
     "output_type": "display_data"
    }
   ],
   "source": [
    "# Quick histogram of 'packet'\n",
    "fig, ax = plt.subplots()\n",
    "data['packet_loss_percent'].hist(ax=ax, bins=20, bottom=0.1, figsize=(10, 5))\n",
    "ax.set_yscale('log')\n",
    "ax.set_xlabel('Percentage of packet loss');\n",
    "ax.set_ylabel('# of results');"
   ]
  },
  {
   "cell_type": "code",
   "execution_count": 57,
   "metadata": {
    "colab": {
     "base_uri": "https://localhost:8080/",
     "height": 1165
    },
    "colab_type": "code",
    "id": "NLL5bBg8TqqN",
    "outputId": "e84cef41-82b8-4f5f-a06b-fc21cbb5564d"
   },
   "outputs": [
    {
     "data": {
      "text/html": [
       "<div>\n",
       "<style scoped>\n",
       "    .dataframe tbody tr th:only-of-type {\n",
       "        vertical-align: middle;\n",
       "    }\n",
       "\n",
       "    .dataframe tbody tr th {\n",
       "        vertical-align: top;\n",
       "    }\n",
       "\n",
       "    .dataframe thead th {\n",
       "        text-align: right;\n",
       "    }\n",
       "</style>\n",
       "<table border=\"1\" class=\"dataframe\">\n",
       "  <thead>\n",
       "    <tr style=\"text-align: right;\">\n",
       "      <th></th>\n",
       "      <th>% packet loss mean</th>\n",
       "      <th>nb_of_measurements</th>\n",
       "      <th># of probes deployed</th>\n",
       "    </tr>\n",
       "    <tr>\n",
       "      <th>country_name</th>\n",
       "      <th></th>\n",
       "      <th></th>\n",
       "      <th></th>\n",
       "    </tr>\n",
       "  </thead>\n",
       "  <tbody>\n",
       "    <tr>\n",
       "      <th>Burkina Faso</th>\n",
       "      <td>100.000000</td>\n",
       "      <td>0</td>\n",
       "      <td>1</td>\n",
       "    </tr>\n",
       "    <tr>\n",
       "      <th>Rwanda</th>\n",
       "      <td>51.582901</td>\n",
       "      <td>2707</td>\n",
       "      <td>2</td>\n",
       "    </tr>\n",
       "    <tr>\n",
       "      <th>Ghana</th>\n",
       "      <td>25.064398</td>\n",
       "      <td>8633</td>\n",
       "      <td>4</td>\n",
       "    </tr>\n",
       "    <tr>\n",
       "      <th>Nigeria</th>\n",
       "      <td>25.020255</td>\n",
       "      <td>8638</td>\n",
       "      <td>4</td>\n",
       "    </tr>\n",
       "    <tr>\n",
       "      <th>Congo (Democratic Republic of the)</th>\n",
       "      <td>24.069479</td>\n",
       "      <td>5607</td>\n",
       "      <td>2</td>\n",
       "    </tr>\n",
       "    <tr>\n",
       "      <th>Uganda</th>\n",
       "      <td>21.598357</td>\n",
       "      <td>13022</td>\n",
       "      <td>7</td>\n",
       "    </tr>\n",
       "    <tr>\n",
       "      <th>Mauritius</th>\n",
       "      <td>20.486284</td>\n",
       "      <td>11180</td>\n",
       "      <td>5</td>\n",
       "    </tr>\n",
       "    <tr>\n",
       "      <th>Tanzania, United Republic of</th>\n",
       "      <td>14.506157</td>\n",
       "      <td>17211</td>\n",
       "      <td>7</td>\n",
       "    </tr>\n",
       "    <tr>\n",
       "      <th>Tunisia</th>\n",
       "      <td>13.076688</td>\n",
       "      <td>19946</td>\n",
       "      <td>9</td>\n",
       "    </tr>\n",
       "    <tr>\n",
       "      <th>Egypt</th>\n",
       "      <td>12.485454</td>\n",
       "      <td>7810</td>\n",
       "      <td>3</td>\n",
       "    </tr>\n",
       "    <tr>\n",
       "      <th>Kenya</th>\n",
       "      <td>12.263394</td>\n",
       "      <td>33892</td>\n",
       "      <td>13</td>\n",
       "    </tr>\n",
       "    <tr>\n",
       "      <th>South Africa</th>\n",
       "      <td>6.230024</td>\n",
       "      <td>235996</td>\n",
       "      <td>91</td>\n",
       "    </tr>\n",
       "    <tr>\n",
       "      <th>Ethiopia</th>\n",
       "      <td>3.988362</td>\n",
       "      <td>7936</td>\n",
       "      <td>3</td>\n",
       "    </tr>\n",
       "    <tr>\n",
       "      <th>Algeria</th>\n",
       "      <td>2.341598</td>\n",
       "      <td>10928</td>\n",
       "      <td>4</td>\n",
       "    </tr>\n",
       "    <tr>\n",
       "      <th>Morocco</th>\n",
       "      <td>1.930797</td>\n",
       "      <td>11344</td>\n",
       "      <td>5</td>\n",
       "    </tr>\n",
       "    <tr>\n",
       "      <th>Sudan</th>\n",
       "      <td>1.902569</td>\n",
       "      <td>8140</td>\n",
       "      <td>3</td>\n",
       "    </tr>\n",
       "    <tr>\n",
       "      <th>Senegal</th>\n",
       "      <td>1.794029</td>\n",
       "      <td>16736</td>\n",
       "      <td>6</td>\n",
       "    </tr>\n",
       "    <tr>\n",
       "      <th>Cameroon</th>\n",
       "      <td>1.686610</td>\n",
       "      <td>15412</td>\n",
       "      <td>7</td>\n",
       "    </tr>\n",
       "    <tr>\n",
       "      <th>Madagascar</th>\n",
       "      <td>1.372378</td>\n",
       "      <td>11319</td>\n",
       "      <td>4</td>\n",
       "    </tr>\n",
       "    <tr>\n",
       "      <th>Zimbabwe</th>\n",
       "      <td>1.048678</td>\n",
       "      <td>6767</td>\n",
       "      <td>3</td>\n",
       "    </tr>\n",
       "    <tr>\n",
       "      <th>Zambia</th>\n",
       "      <td>0.784337</td>\n",
       "      <td>8221</td>\n",
       "      <td>3</td>\n",
       "    </tr>\n",
       "    <tr>\n",
       "      <th>Togo</th>\n",
       "      <td>0.762698</td>\n",
       "      <td>14540</td>\n",
       "      <td>6</td>\n",
       "    </tr>\n",
       "    <tr>\n",
       "      <th>Benin</th>\n",
       "      <td>0.517857</td>\n",
       "      <td>19429</td>\n",
       "      <td>7</td>\n",
       "    </tr>\n",
       "    <tr>\n",
       "      <th>Burundi</th>\n",
       "      <td>0.499838</td>\n",
       "      <td>5112</td>\n",
       "      <td>2</td>\n",
       "    </tr>\n",
       "    <tr>\n",
       "      <th>Gambia</th>\n",
       "      <td>0.147121</td>\n",
       "      <td>3171</td>\n",
       "      <td>2</td>\n",
       "    </tr>\n",
       "    <tr>\n",
       "      <th>Congo</th>\n",
       "      <td>0.138889</td>\n",
       "      <td>2876</td>\n",
       "      <td>1</td>\n",
       "    </tr>\n",
       "    <tr>\n",
       "      <th>Malawi</th>\n",
       "      <td>0.077160</td>\n",
       "      <td>8639</td>\n",
       "      <td>3</td>\n",
       "    </tr>\n",
       "    <tr>\n",
       "      <th>Angola</th>\n",
       "      <td>0.058428</td>\n",
       "      <td>4562</td>\n",
       "      <td>2</td>\n",
       "    </tr>\n",
       "    <tr>\n",
       "      <th>South Sudan</th>\n",
       "      <td>0.058092</td>\n",
       "      <td>2869</td>\n",
       "      <td>1</td>\n",
       "    </tr>\n",
       "    <tr>\n",
       "      <th>Djibouti</th>\n",
       "      <td>0.025700</td>\n",
       "      <td>1297</td>\n",
       "      <td>1</td>\n",
       "    </tr>\n",
       "    <tr>\n",
       "      <th>Mozambique</th>\n",
       "      <td>0.025077</td>\n",
       "      <td>17277</td>\n",
       "      <td>6</td>\n",
       "    </tr>\n",
       "    <tr>\n",
       "      <th>Eswatini</th>\n",
       "      <td>0.023148</td>\n",
       "      <td>2880</td>\n",
       "      <td>1</td>\n",
       "    </tr>\n",
       "    <tr>\n",
       "      <th>Botswana</th>\n",
       "      <td>0.011575</td>\n",
       "      <td>8639</td>\n",
       "      <td>3</td>\n",
       "    </tr>\n",
       "    <tr>\n",
       "      <th>Lesotho</th>\n",
       "      <td>0.000000</td>\n",
       "      <td>2880</td>\n",
       "      <td>1</td>\n",
       "    </tr>\n",
       "    <tr>\n",
       "      <th>Seychelles</th>\n",
       "      <td>0.000000</td>\n",
       "      <td>2879</td>\n",
       "      <td>1</td>\n",
       "    </tr>\n",
       "  </tbody>\n",
       "</table>\n",
       "</div>"
      ],
      "text/plain": [
       "                                    % packet loss mean  nb_of_measurements  \\\n",
       "country_name                                                                 \n",
       "Burkina Faso                                100.000000                   0   \n",
       "Rwanda                                       51.582901                2707   \n",
       "Ghana                                        25.064398                8633   \n",
       "Nigeria                                      25.020255                8638   \n",
       "Congo (Democratic Republic of the)           24.069479                5607   \n",
       "Uganda                                       21.598357               13022   \n",
       "Mauritius                                    20.486284               11180   \n",
       "Tanzania, United Republic of                 14.506157               17211   \n",
       "Tunisia                                      13.076688               19946   \n",
       "Egypt                                        12.485454                7810   \n",
       "Kenya                                        12.263394               33892   \n",
       "South Africa                                  6.230024              235996   \n",
       "Ethiopia                                      3.988362                7936   \n",
       "Algeria                                       2.341598               10928   \n",
       "Morocco                                       1.930797               11344   \n",
       "Sudan                                         1.902569                8140   \n",
       "Senegal                                       1.794029               16736   \n",
       "Cameroon                                      1.686610               15412   \n",
       "Madagascar                                    1.372378               11319   \n",
       "Zimbabwe                                      1.048678                6767   \n",
       "Zambia                                        0.784337                8221   \n",
       "Togo                                          0.762698               14540   \n",
       "Benin                                         0.517857               19429   \n",
       "Burundi                                       0.499838                5112   \n",
       "Gambia                                        0.147121                3171   \n",
       "Congo                                         0.138889                2876   \n",
       "Malawi                                        0.077160                8639   \n",
       "Angola                                        0.058428                4562   \n",
       "South Sudan                                   0.058092                2869   \n",
       "Djibouti                                      0.025700                1297   \n",
       "Mozambique                                    0.025077               17277   \n",
       "Eswatini                                      0.023148                2880   \n",
       "Botswana                                      0.011575                8639   \n",
       "Lesotho                                       0.000000                2880   \n",
       "Seychelles                                    0.000000                2879   \n",
       "\n",
       "                                    # of probes deployed  \n",
       "country_name                                              \n",
       "Burkina Faso                                           1  \n",
       "Rwanda                                                 2  \n",
       "Ghana                                                  4  \n",
       "Nigeria                                                4  \n",
       "Congo (Democratic Republic of the)                     2  \n",
       "Uganda                                                 7  \n",
       "Mauritius                                              5  \n",
       "Tanzania, United Republic of                           7  \n",
       "Tunisia                                                9  \n",
       "Egypt                                                  3  \n",
       "Kenya                                                 13  \n",
       "South Africa                                          91  \n",
       "Ethiopia                                               3  \n",
       "Algeria                                                4  \n",
       "Morocco                                                5  \n",
       "Sudan                                                  3  \n",
       "Senegal                                                6  \n",
       "Cameroon                                               7  \n",
       "Madagascar                                             4  \n",
       "Zimbabwe                                               3  \n",
       "Zambia                                                 3  \n",
       "Togo                                                   6  \n",
       "Benin                                                  7  \n",
       "Burundi                                                2  \n",
       "Gambia                                                 2  \n",
       "Congo                                                  1  \n",
       "Malawi                                                 3  \n",
       "Angola                                                 2  \n",
       "South Sudan                                            1  \n",
       "Djibouti                                               1  \n",
       "Mozambique                                             6  \n",
       "Eswatini                                               1  \n",
       "Botswana                                               3  \n",
       "Lesotho                                                1  \n",
       "Seychelles                                             1  "
      ]
     },
     "execution_count": 57,
     "metadata": {
      "tags": []
     },
     "output_type": "execute_result"
    }
   ],
   "source": [
    "# Percentage Packet loss by country\n",
    "data.groupby('country_name')[['packet_loss_percent', 'rtt', 'prb_id']]\\\n",
    "    .agg({'packet_loss_percent':'mean', 'rtt':'count', 'prb_id': 'nunique'})\\\n",
    "    .sort_values(by='packet_loss_percent', ascending=False)\\\n",
    "    .rename(columns={'packet_loss_percent': '% packet loss mean', 'rtt': 'nb_of_measurements', 'prb_id': '# of probes deployed'})"
   ]
  },
  {
   "cell_type": "markdown",
   "metadata": {
    "colab_type": "text",
    "id": "i6deo5KLbyEq"
   },
   "source": [
    "### II.8 Boxplots of RTT by hour of the day\n",
    "\n",
    "[TO BE DONE]"
   ]
  },
  {
   "cell_type": "markdown",
   "metadata": {
    "colab_type": "text",
    "id": "nwhjbTQOPIyv"
   },
   "source": [
    "## III. Feature importances experiment [on-going]\n",
    "\n",
    "\n",
    "The objective of this section is to use a [Random Forest Regressor](https://scikit-learn.org/stable/modules/generated/sklearn.ensemble.RandomForestRegressor.html)  to measure/assess the relative importance of each feature while trying to predict total Round-Trip-Time. \n"
   ]
  },
  {
   "cell_type": "code",
   "execution_count": 0,
   "metadata": {
    "colab": {},
    "colab_type": "code",
    "id": "1VRrfFnqaRei"
   },
   "outputs": [],
   "source": [
    "# Let's take a sample of our data for now\n",
    "sample_size = 100000\n",
    "data_sample = data.sample(n=sample_size, random_state=1)"
   ]
  },
  {
   "cell_type": "markdown",
   "metadata": {
    "colab_type": "text",
    "id": "ujHqH8vjhu8V"
   },
   "source": [
    "### III.1 Feature engineering"
   ]
  },
  {
   "cell_type": "markdown",
   "metadata": {
    "colab_type": "text",
    "id": "wcrSCg1MQc7S"
   },
   "source": [
    "#### III.1.1 Calculating distance from destination point to probes"
   ]
  },
  {
   "cell_type": "code",
   "execution_count": 242,
   "metadata": {
    "colab": {
     "base_uri": "https://localhost:8080/",
     "height": 411
    },
    "colab_type": "code",
    "id": "uCFXlQvvdo73",
    "outputId": "e39cb0fb-b21b-41d9-bbd0-9f6de598a129"
   },
   "outputs": [
    {
     "data": {
      "text/html": [
       "<div>\n",
       "<style scoped>\n",
       "    .dataframe tbody tr th:only-of-type {\n",
       "        vertical-align: middle;\n",
       "    }\n",
       "\n",
       "    .dataframe tbody tr th {\n",
       "        vertical-align: top;\n",
       "    }\n",
       "\n",
       "    .dataframe thead th {\n",
       "        text-align: right;\n",
       "    }\n",
       "</style>\n",
       "<table border=\"1\" class=\"dataframe\">\n",
       "  <thead>\n",
       "    <tr style=\"text-align: right;\">\n",
       "      <th></th>\n",
       "      <th>datetime</th>\n",
       "      <th>prb_id</th>\n",
       "      <th>start_time</th>\n",
       "      <th>end_time</th>\n",
       "      <th>last_time_sync</th>\n",
       "      <th>firmware_version</th>\n",
       "      <th>nb_packets</th>\n",
       "      <th>nb_rtts</th>\n",
       "      <th>rtt</th>\n",
       "      <th>ip_v4</th>\n",
       "      <th>description</th>\n",
       "      <th>lon</th>\n",
       "      <th>lat</th>\n",
       "      <th>country_name</th>\n",
       "      <th>country_code</th>\n",
       "      <th>coordinates</th>\n",
       "    </tr>\n",
       "  </thead>\n",
       "  <tbody>\n",
       "    <tr>\n",
       "      <th>280769</th>\n",
       "      <td>2018-12-14 15:36:33</td>\n",
       "      <td>24798</td>\n",
       "      <td>1544801793</td>\n",
       "      <td>1544801793</td>\n",
       "      <td>69</td>\n",
       "      <td>4940</td>\n",
       "      <td>3</td>\n",
       "      <td>3</td>\n",
       "      <td>146.508000</td>\n",
       "      <td>196.49.5.74</td>\n",
       "      <td>Astrium TISPA Office</td>\n",
       "      <td>39.2115</td>\n",
       "      <td>-6.7885</td>\n",
       "      <td>Tanzania, United Republic of</td>\n",
       "      <td>TZ</td>\n",
       "      <td>POINT (39.2115 -6.7885)</td>\n",
       "    </tr>\n",
       "    <tr>\n",
       "      <th>540020</th>\n",
       "      <td>2018-12-27 14:07:00</td>\n",
       "      <td>50322</td>\n",
       "      <td>1545919620</td>\n",
       "      <td>1545919620</td>\n",
       "      <td>40</td>\n",
       "      <td>4940</td>\n",
       "      <td>3</td>\n",
       "      <td>3</td>\n",
       "      <td>182.638333</td>\n",
       "      <td>155.93.219.254</td>\n",
       "      <td>Atlas1</td>\n",
       "      <td>31.0785</td>\n",
       "      <td>-29.7215</td>\n",
       "      <td>South Africa</td>\n",
       "      <td>ZA</td>\n",
       "      <td>POINT (31.0785 -29.7215)</td>\n",
       "    </tr>\n",
       "    <tr>\n",
       "      <th>178827</th>\n",
       "      <td>2018-12-09 17:21:55</td>\n",
       "      <td>14968</td>\n",
       "      <td>1544376115</td>\n",
       "      <td>1544376115</td>\n",
       "      <td>18</td>\n",
       "      <td>4940</td>\n",
       "      <td>3</td>\n",
       "      <td>3</td>\n",
       "      <td>182.977667</td>\n",
       "      <td>63.223.6.90</td>\n",
       "      <td>PCCW Global - atl01.mpm02 - MZ</td>\n",
       "      <td>32.5705</td>\n",
       "      <td>-25.9685</td>\n",
       "      <td>Mozambique</td>\n",
       "      <td>MZ</td>\n",
       "      <td>POINT (32.5705 -25.9685)</td>\n",
       "    </tr>\n",
       "    <tr>\n",
       "      <th>239444</th>\n",
       "      <td>2018-12-12 15:37:14</td>\n",
       "      <td>14465</td>\n",
       "      <td>1544629034</td>\n",
       "      <td>1544629035</td>\n",
       "      <td>9</td>\n",
       "      <td>4940</td>\n",
       "      <td>3</td>\n",
       "      <td>3</td>\n",
       "      <td>215.902333</td>\n",
       "      <td>196.216.164.50</td>\n",
       "      <td>Namibia University of Science and Technology</td>\n",
       "      <td>17.0805</td>\n",
       "      <td>-22.5705</td>\n",
       "      <td>NaN</td>\n",
       "      <td>NaN</td>\n",
       "      <td>POINT (17.0805 -22.5705)</td>\n",
       "    </tr>\n",
       "    <tr>\n",
       "      <th>452020</th>\n",
       "      <td>2018-12-23 03:33:25</td>\n",
       "      <td>22215</td>\n",
       "      <td>1545536005</td>\n",
       "      <td>1545536009</td>\n",
       "      <td>9</td>\n",
       "      <td>4940</td>\n",
       "      <td>3</td>\n",
       "      <td>2</td>\n",
       "      <td>142.938500</td>\n",
       "      <td>160.119.216.205</td>\n",
       "      <td>icolo.io MBA1</td>\n",
       "      <td>39.5875</td>\n",
       "      <td>-4.0105</td>\n",
       "      <td>Kenya</td>\n",
       "      <td>KE</td>\n",
       "      <td>POINT (39.5875 -4.0105)</td>\n",
       "    </tr>\n",
       "  </tbody>\n",
       "</table>\n",
       "</div>"
      ],
      "text/plain": [
       "                  datetime  prb_id  start_time    end_time  last_time_sync  \\\n",
       "280769 2018-12-14 15:36:33   24798  1544801793  1544801793              69   \n",
       "540020 2018-12-27 14:07:00   50322  1545919620  1545919620              40   \n",
       "178827 2018-12-09 17:21:55   14968  1544376115  1544376115              18   \n",
       "239444 2018-12-12 15:37:14   14465  1544629034  1544629035               9   \n",
       "452020 2018-12-23 03:33:25   22215  1545536005  1545536009               9   \n",
       "\n",
       "        firmware_version  nb_packets  nb_rtts         rtt            ip_v4  \\\n",
       "280769              4940           3        3  146.508000      196.49.5.74   \n",
       "540020              4940           3        3  182.638333   155.93.219.254   \n",
       "178827              4940           3        3  182.977667      63.223.6.90   \n",
       "239444              4940           3        3  215.902333   196.216.164.50   \n",
       "452020              4940           3        2  142.938500  160.119.216.205   \n",
       "\n",
       "                                         description      lon      lat  \\\n",
       "280769                          Astrium TISPA Office  39.2115  -6.7885   \n",
       "540020                                        Atlas1  31.0785 -29.7215   \n",
       "178827                PCCW Global - atl01.mpm02 - MZ  32.5705 -25.9685   \n",
       "239444  Namibia University of Science and Technology  17.0805 -22.5705   \n",
       "452020                                 icolo.io MBA1  39.5875  -4.0105   \n",
       "\n",
       "                        country_name country_code               coordinates  \n",
       "280769  Tanzania, United Republic of           TZ   POINT (39.2115 -6.7885)  \n",
       "540020                  South Africa           ZA  POINT (31.0785 -29.7215)  \n",
       "178827                    Mozambique           MZ  POINT (32.5705 -25.9685)  \n",
       "239444                           NaN          NaN  POINT (17.0805 -22.5705)  \n",
       "452020                         Kenya           KE   POINT (39.5875 -4.0105)  "
      ]
     },
     "execution_count": 242,
     "metadata": {
      "tags": []
     },
     "output_type": "execute_result"
    }
   ],
   "source": [
    "# Converting to geopandas dataframe\n",
    "data_sample['coordinates'] = list(zip(data_sample.lon, data_sample.lat))\n",
    "data_sample['coordinates'] = data_sample['coordinates'].apply(Point)\n",
    "gdf = gpd.GeoDataFrame(data_sample, geometry='coordinates')\n",
    "gdf.crs = {'init' :'epsg:4326'} \n",
    "gdf.head()"
   ]
  },
  {
   "cell_type": "markdown",
   "metadata": {
    "colab_type": "text",
    "id": "8rP-PIOwWdMF"
   },
   "source": [
    "To be able to calculate distance on a sphere, we need to use a World Equidistant Cylindrical map projection that must be centered in our IP destination location."
   ]
  },
  {
   "cell_type": "code",
   "execution_count": 0,
   "metadata": {
    "colab": {},
    "colab_type": "code",
    "id": "DR5LL0LBRMAN"
   },
   "outputs": [],
   "source": [
    "# Projection parameters (centered on our point of interest)\n",
    "proj4_txt = ('+proj=eqc +lat_ts=60 +lat_0={} '\n",
    "             '+lon_0={} +x_0=0 +y_0=0 +ellps=WGS84 '\n",
    "             '+datum=WGS84 +units=m +no_defs').format(lat_dest, lon_dest)"
   ]
  },
  {
   "cell_type": "code",
   "execution_count": 0,
   "metadata": {
    "colab": {},
    "colab_type": "code",
    "id": "V2EC1POqe9PN"
   },
   "outputs": [],
   "source": [
    "# Reprojecting to World Equidistant Cylindrical (coordinates will be expressed in meters from now)\n",
    "gdf_proj = gdf.to_crs(proj4_txt) "
   ]
  },
  {
   "cell_type": "code",
   "execution_count": 0,
   "metadata": {
    "colab": {},
    "colab_type": "code",
    "id": "bnwaRPOaf0M5"
   },
   "outputs": [],
   "source": [
    "# Creating a point object for destination point\n",
    "destination_location_df = gpd.GeoSeries([Point(lon_dest, lat_dest)], crs=from_epsg(4326))\n",
    "\n",
    "# And reprojecting\n",
    "destination_location_df = destination_location_df.to_crs(proj4_txt)"
   ]
  },
  {
   "cell_type": "code",
   "execution_count": 0,
   "metadata": {
    "colab": {},
    "colab_type": "code",
    "id": "TgjVgeJofDNK"
   },
   "outputs": [],
   "source": [
    "def calculateDistance(row, dest_geom, src_col='geometry', target_col='distance'):\n",
    "    \"\"\"\n",
    "    Calculates the distance between a single Shapely Point geometry and a GeoDataFrame with Point geometries.\n",
    "\n",
    "    Parameters\n",
    "    ----------\n",
    "    dest_geom : shapely.Point\n",
    "        A single Shapely Point geometry to which the distances will be calculated to.\n",
    "    src_col : str\n",
    "        A name of the column that has the Shapely Point objects from where the distances will be calculated from.\n",
    "    target_col : str\n",
    "        A name of the target column where the result will be stored.\n",
    "    \"\"\"\n",
    "    # Calculate the distances\n",
    "    dist = row[src_col].distance(dest_geom)\n",
    "    # Tranform into kilometers\n",
    "    dist_km = int(dist/1000)\n",
    "    # Assign the distance to the original data\n",
    "    row[target_col] = dist_km\n",
    "    return row"
   ]
  },
  {
   "cell_type": "code",
   "execution_count": 0,
   "metadata": {
    "colab": {},
    "colab_type": "code",
    "id": "Yqt05By7gONi"
   },
   "outputs": [],
   "source": [
    "# Getting poi geometry\n",
    "destination_location_df_geom = destination_location_df.get(0)\n",
    "\n",
    "# Calculating the distance and adding a new column\n",
    "gdf_proj = gdf_proj.apply(calculateDistance, dest_geom=destination_location_df_geom,\n",
    "                                        src_col='coordinates', target_col='dist_to_dest', axis=1)"
   ]
  },
  {
   "cell_type": "code",
   "execution_count": 248,
   "metadata": {
    "colab": {
     "base_uri": "https://localhost:8080/",
     "height": 204
    },
    "colab_type": "code",
    "id": "azYS9zvng7GN",
    "outputId": "0e45e383-0e0a-4eae-a9e8-5f295320c5cf"
   },
   "outputs": [
    {
     "data": {
      "text/html": [
       "<div>\n",
       "<style scoped>\n",
       "    .dataframe tbody tr th:only-of-type {\n",
       "        vertical-align: middle;\n",
       "    }\n",
       "\n",
       "    .dataframe tbody tr th {\n",
       "        vertical-align: top;\n",
       "    }\n",
       "\n",
       "    .dataframe thead th {\n",
       "        text-align: right;\n",
       "    }\n",
       "</style>\n",
       "<table border=\"1\" class=\"dataframe\">\n",
       "  <thead>\n",
       "    <tr style=\"text-align: right;\">\n",
       "      <th></th>\n",
       "      <th>prb_id</th>\n",
       "      <th>country_name</th>\n",
       "      <th>description</th>\n",
       "      <th>dist_to_dest</th>\n",
       "    </tr>\n",
       "  </thead>\n",
       "  <tbody>\n",
       "    <tr>\n",
       "      <th>280769</th>\n",
       "      <td>24798</td>\n",
       "      <td>Tanzania, United Republic of</td>\n",
       "      <td>Astrium TISPA Office</td>\n",
       "      <td>7156</td>\n",
       "    </tr>\n",
       "    <tr>\n",
       "      <th>540020</th>\n",
       "      <td>50322</td>\n",
       "      <td>South Africa</td>\n",
       "      <td>Atlas1</td>\n",
       "      <td>9477</td>\n",
       "    </tr>\n",
       "    <tr>\n",
       "      <th>178827</th>\n",
       "      <td>14968</td>\n",
       "      <td>Mozambique</td>\n",
       "      <td>PCCW Global - atl01.mpm02 - MZ</td>\n",
       "      <td>9089</td>\n",
       "    </tr>\n",
       "    <tr>\n",
       "      <th>239444</th>\n",
       "      <td>14465</td>\n",
       "      <td>NaN</td>\n",
       "      <td>Namibia University of Science and Technology</td>\n",
       "      <td>8550</td>\n",
       "    </tr>\n",
       "    <tr>\n",
       "      <th>452020</th>\n",
       "      <td>22215</td>\n",
       "      <td>Kenya</td>\n",
       "      <td>icolo.io MBA1</td>\n",
       "      <td>6875</td>\n",
       "    </tr>\n",
       "  </tbody>\n",
       "</table>\n",
       "</div>"
      ],
      "text/plain": [
       "        prb_id                  country_name  \\\n",
       "280769   24798  Tanzania, United Republic of   \n",
       "540020   50322                  South Africa   \n",
       "178827   14968                    Mozambique   \n",
       "239444   14465                           NaN   \n",
       "452020   22215                         Kenya   \n",
       "\n",
       "                                         description  dist_to_dest  \n",
       "280769                          Astrium TISPA Office          7156  \n",
       "540020                                        Atlas1          9477  \n",
       "178827                PCCW Global - atl01.mpm02 - MZ          9089  \n",
       "239444  Namibia University of Science and Technology          8550  \n",
       "452020                                 icolo.io MBA1          6875  "
      ]
     },
     "execution_count": 248,
     "metadata": {
      "tags": []
     },
     "output_type": "execute_result"
    }
   ],
   "source": [
    "# Let's check our new 'dist_to_dest' column\n",
    "gdf_proj[['prb_id', 'country_name', 'description', 'dist_to_dest']].head()"
   ]
  },
  {
   "cell_type": "markdown",
   "metadata": {
    "colab_type": "text",
    "id": "bfgo1OyIh16Y"
   },
   "source": [
    "#### III.1.2 Extracting hour of the day"
   ]
  },
  {
   "cell_type": "code",
   "execution_count": 0,
   "metadata": {
    "colab": {},
    "colab_type": "code",
    "id": "VwBuLeEFhANs"
   },
   "outputs": [],
   "source": [
    "gdf_proj['hour_of_day'] = gdf_proj.datetime.apply(lambda x: x.hour)"
   ]
  },
  {
   "cell_type": "markdown",
   "metadata": {
    "colab_type": "text",
    "id": "vlkOv9BEkcge"
   },
   "source": [
    "#### III.1.3 Packet loss"
   ]
  },
  {
   "cell_type": "code",
   "execution_count": 0,
   "metadata": {
    "colab": {},
    "colab_type": "code",
    "id": "34jP-b9KkBix"
   },
   "outputs": [],
   "source": [
    "gdf_proj['packet_loss_percent'] = 100 * (gdf['nb_packets'] - gdf['nb_rtts']) / gdf['nb_packets']"
   ]
  },
  {
   "cell_type": "code",
   "execution_count": 251,
   "metadata": {
    "colab": {
     "base_uri": "https://localhost:8080/",
     "height": 411
    },
    "colab_type": "code",
    "id": "YIsWJUMokkfG",
    "outputId": "423afb32-85cc-4e65-b69a-e40e8a7c13a5"
   },
   "outputs": [
    {
     "data": {
      "text/html": [
       "<div>\n",
       "<style scoped>\n",
       "    .dataframe tbody tr th:only-of-type {\n",
       "        vertical-align: middle;\n",
       "    }\n",
       "\n",
       "    .dataframe tbody tr th {\n",
       "        vertical-align: top;\n",
       "    }\n",
       "\n",
       "    .dataframe thead th {\n",
       "        text-align: right;\n",
       "    }\n",
       "</style>\n",
       "<table border=\"1\" class=\"dataframe\">\n",
       "  <thead>\n",
       "    <tr style=\"text-align: right;\">\n",
       "      <th></th>\n",
       "      <th>datetime</th>\n",
       "      <th>prb_id</th>\n",
       "      <th>start_time</th>\n",
       "      <th>end_time</th>\n",
       "      <th>last_time_sync</th>\n",
       "      <th>firmware_version</th>\n",
       "      <th>nb_packets</th>\n",
       "      <th>nb_rtts</th>\n",
       "      <th>rtt</th>\n",
       "      <th>ip_v4</th>\n",
       "      <th>description</th>\n",
       "      <th>lon</th>\n",
       "      <th>lat</th>\n",
       "      <th>country_name</th>\n",
       "      <th>country_code</th>\n",
       "      <th>coordinates</th>\n",
       "      <th>dist_to_dest</th>\n",
       "      <th>hour_of_day</th>\n",
       "      <th>packet_loss_percent</th>\n",
       "    </tr>\n",
       "  </thead>\n",
       "  <tbody>\n",
       "    <tr>\n",
       "      <th>280769</th>\n",
       "      <td>2018-12-14 15:36:33</td>\n",
       "      <td>24798</td>\n",
       "      <td>1544801793</td>\n",
       "      <td>1544801793</td>\n",
       "      <td>69</td>\n",
       "      <td>4940</td>\n",
       "      <td>3</td>\n",
       "      <td>3</td>\n",
       "      <td>146.508000</td>\n",
       "      <td>196.49.5.74</td>\n",
       "      <td>Astrium TISPA Office</td>\n",
       "      <td>39.2115</td>\n",
       "      <td>-6.7885</td>\n",
       "      <td>Tanzania, United Republic of</td>\n",
       "      <td>TZ</td>\n",
       "      <td>POINT (2531254.939326471 -6694019.467668236)</td>\n",
       "      <td>7156</td>\n",
       "      <td>15</td>\n",
       "      <td>0.000000</td>\n",
       "    </tr>\n",
       "    <tr>\n",
       "      <th>540020</th>\n",
       "      <td>2018-12-27 14:07:00</td>\n",
       "      <td>50322</td>\n",
       "      <td>1545919620</td>\n",
       "      <td>1545919620</td>\n",
       "      <td>40</td>\n",
       "      <td>4940</td>\n",
       "      <td>3</td>\n",
       "      <td>3</td>\n",
       "      <td>182.638333</td>\n",
       "      <td>155.93.219.254</td>\n",
       "      <td>Atlas1</td>\n",
       "      <td>31.0785</td>\n",
       "      <td>-29.7215</td>\n",
       "      <td>South Africa</td>\n",
       "      <td>ZA</td>\n",
       "      <td>POINT (2078574.230015623 -9246909.350030379)</td>\n",
       "      <td>9477</td>\n",
       "      <td>14</td>\n",
       "      <td>0.000000</td>\n",
       "    </tr>\n",
       "    <tr>\n",
       "      <th>178827</th>\n",
       "      <td>2018-12-09 17:21:55</td>\n",
       "      <td>14968</td>\n",
       "      <td>1544376115</td>\n",
       "      <td>1544376115</td>\n",
       "      <td>18</td>\n",
       "      <td>4940</td>\n",
       "      <td>3</td>\n",
       "      <td>3</td>\n",
       "      <td>182.977667</td>\n",
       "      <td>63.223.6.90</td>\n",
       "      <td>PCCW Global - atl01.mpm02 - MZ</td>\n",
       "      <td>32.5705</td>\n",
       "      <td>-25.9685</td>\n",
       "      <td>Mozambique</td>\n",
       "      <td>MZ</td>\n",
       "      <td>POINT (2161618.570147406 -8829127.301083224)</td>\n",
       "      <td>9089</td>\n",
       "      <td>17</td>\n",
       "      <td>0.000000</td>\n",
       "    </tr>\n",
       "    <tr>\n",
       "      <th>239444</th>\n",
       "      <td>2018-12-12 15:37:14</td>\n",
       "      <td>14465</td>\n",
       "      <td>1544629034</td>\n",
       "      <td>1544629035</td>\n",
       "      <td>9</td>\n",
       "      <td>4940</td>\n",
       "      <td>3</td>\n",
       "      <td>3</td>\n",
       "      <td>215.902333</td>\n",
       "      <td>196.216.164.50</td>\n",
       "      <td>Namibia University of Science and Technology</td>\n",
       "      <td>17.0805</td>\n",
       "      <td>-22.5705</td>\n",
       "      <td>NaN</td>\n",
       "      <td>NaN</td>\n",
       "      <td>POINT (1299449.113953502 -8450863.671367681)</td>\n",
       "      <td>8550</td>\n",
       "      <td>15</td>\n",
       "      <td>0.000000</td>\n",
       "    </tr>\n",
       "    <tr>\n",
       "      <th>452020</th>\n",
       "      <td>2018-12-23 03:33:25</td>\n",
       "      <td>22215</td>\n",
       "      <td>1545536005</td>\n",
       "      <td>1545536009</td>\n",
       "      <td>9</td>\n",
       "      <td>4940</td>\n",
       "      <td>3</td>\n",
       "      <td>2</td>\n",
       "      <td>142.938500</td>\n",
       "      <td>160.119.216.205</td>\n",
       "      <td>icolo.io MBA1</td>\n",
       "      <td>39.5875</td>\n",
       "      <td>-4.0105</td>\n",
       "      <td>Kenya</td>\n",
       "      <td>KE</td>\n",
       "      <td>POINT (2552183.003595606 -6384773.922244523)</td>\n",
       "      <td>6875</td>\n",
       "      <td>3</td>\n",
       "      <td>33.333333</td>\n",
       "    </tr>\n",
       "  </tbody>\n",
       "</table>\n",
       "</div>"
      ],
      "text/plain": [
       "                  datetime  prb_id  start_time    end_time  last_time_sync  \\\n",
       "280769 2018-12-14 15:36:33   24798  1544801793  1544801793              69   \n",
       "540020 2018-12-27 14:07:00   50322  1545919620  1545919620              40   \n",
       "178827 2018-12-09 17:21:55   14968  1544376115  1544376115              18   \n",
       "239444 2018-12-12 15:37:14   14465  1544629034  1544629035               9   \n",
       "452020 2018-12-23 03:33:25   22215  1545536005  1545536009               9   \n",
       "\n",
       "        firmware_version  nb_packets  nb_rtts         rtt            ip_v4  \\\n",
       "280769              4940           3        3  146.508000      196.49.5.74   \n",
       "540020              4940           3        3  182.638333   155.93.219.254   \n",
       "178827              4940           3        3  182.977667      63.223.6.90   \n",
       "239444              4940           3        3  215.902333   196.216.164.50   \n",
       "452020              4940           3        2  142.938500  160.119.216.205   \n",
       "\n",
       "                                         description      lon      lat  \\\n",
       "280769                          Astrium TISPA Office  39.2115  -6.7885   \n",
       "540020                                        Atlas1  31.0785 -29.7215   \n",
       "178827                PCCW Global - atl01.mpm02 - MZ  32.5705 -25.9685   \n",
       "239444  Namibia University of Science and Technology  17.0805 -22.5705   \n",
       "452020                                 icolo.io MBA1  39.5875  -4.0105   \n",
       "\n",
       "                        country_name country_code  \\\n",
       "280769  Tanzania, United Republic of           TZ   \n",
       "540020                  South Africa           ZA   \n",
       "178827                    Mozambique           MZ   \n",
       "239444                           NaN          NaN   \n",
       "452020                         Kenya           KE   \n",
       "\n",
       "                                         coordinates  dist_to_dest  \\\n",
       "280769  POINT (2531254.939326471 -6694019.467668236)          7156   \n",
       "540020  POINT (2078574.230015623 -9246909.350030379)          9477   \n",
       "178827  POINT (2161618.570147406 -8829127.301083224)          9089   \n",
       "239444  POINT (1299449.113953502 -8450863.671367681)          8550   \n",
       "452020  POINT (2552183.003595606 -6384773.922244523)          6875   \n",
       "\n",
       "        hour_of_day  packet_loss_percent  \n",
       "280769           15             0.000000  \n",
       "540020           14             0.000000  \n",
       "178827           17             0.000000  \n",
       "239444           15             0.000000  \n",
       "452020            3            33.333333  "
      ]
     },
     "execution_count": 251,
     "metadata": {
      "tags": []
     },
     "output_type": "execute_result"
    }
   ],
   "source": [
    "gdf_proj.head()"
   ]
  },
  {
   "cell_type": "markdown",
   "metadata": {
    "colab_type": "text",
    "id": "jdJvE_xOkmhv"
   },
   "source": [
    "### III.2 Assessing Feature Importances with Random Forests"
   ]
  },
  {
   "cell_type": "markdown",
   "metadata": {
    "colab_type": "text",
    "id": "DC95duzFmA2t"
   },
   "source": [
    "Our features will be the following: \n",
    "* `firmware_version`: firmware version;\n",
    "* `dist_to_dest`: distance to destination (here TTN in Ireland);\n",
    "* `hour_of_day`: hour of the day;\n",
    "*  `packet_loss_percent`: percentage of packet loss"
   ]
  },
  {
   "cell_type": "code",
   "execution_count": 0,
   "metadata": {
    "colab": {},
    "colab_type": "code",
    "id": "5sSC5fWwlG4j"
   },
   "outputs": [],
   "source": [
    "# Remore NA if any\n",
    "df_features_target = gdf_proj[['firmware_version', 'dist_to_dest', 'hour_of_day', 'packet_loss_percent', 'rtt']].dropna()\n",
    "\n",
    "# Select X and Y\n",
    "data_train = df_features_target.iloc[:,[0, 1, 2, 3]]\n",
    "data_target = df_features_target.iloc[:,-1]"
   ]
  },
  {
   "cell_type": "code",
   "execution_count": 0,
   "metadata": {
    "colab": {},
    "colab_type": "code",
    "id": "K6ntOMuS76WD"
   },
   "outputs": [],
   "source": [
    "# Select category to \"hot encode\"\n",
    "firmware_cat = data_train[['firmware_version']]\n",
    "\n",
    "# Perform hot encoding\n",
    "cat_encoder = OneHotEncoder(sparse=False)\n",
    "firmware_cat_1hot = cat_encoder.fit_transform(firmware_cat)\n",
    "\n",
    "# Concat all features\n",
    "X_train = np.c_[data_train.iloc[:,[1, 2, 3]].values, firmware_cat_1hot]\n",
    "\n",
    "# Reshape target\n",
    "Y_train = data_target.values.reshape(-1, 1)"
   ]
  },
  {
   "cell_type": "code",
   "execution_count": 254,
   "metadata": {
    "colab": {
     "base_uri": "https://localhost:8080/",
     "height": 119
    },
    "colab_type": "code",
    "id": "_irH8kNg91HV",
    "outputId": "93b56bb1-75f8-4e1d-a7fb-d3835f63deb8"
   },
   "outputs": [
    {
     "data": {
      "text/plain": [
       "RandomForestRegressor(bootstrap=True, criterion='mse', max_depth=None,\n",
       "           max_features='auto', max_leaf_nodes=None,\n",
       "           min_impurity_decrease=0.0, min_impurity_split=None,\n",
       "           min_samples_leaf=1, min_samples_split=2,\n",
       "           min_weight_fraction_leaf=0.0, n_estimators=500, n_jobs=None,\n",
       "           oob_score=False, random_state=42, verbose=0, warm_start=False)"
      ]
     },
     "execution_count": 254,
     "metadata": {
      "tags": []
     },
     "output_type": "execute_result"
    }
   ],
   "source": [
    "# Fit a RandomForestRegressor\n",
    "forest_reg = RandomForestRegressor(n_estimators=500, random_state=42)\n",
    "forest_reg.fit(X_train, Y_train)"
   ]
  },
  {
   "cell_type": "code",
   "execution_count": 0,
   "metadata": {
    "colab": {},
    "colab_type": "code",
    "id": "jRcsUKPfA8_h"
   },
   "outputs": [],
   "source": [
    "# List of feature names\n",
    "feature_names = ['distance to destination', 'hour of day', 'packet loss percentage'] +\\\n",
    "                ['firmware_version: ' + str(int(fw)) for fw in list(cat_encoder.categories_[0])]\n"
   ]
  },
  {
   "cell_type": "code",
   "execution_count": 0,
   "metadata": {
    "colab": {},
    "colab_type": "code",
    "id": "wLeOFMXMC5OJ"
   },
   "outputs": [],
   "source": [
    "feature_importances = {}\n",
    "\n",
    "# Feature importance\n",
    "for name, score in zip(feature_names, forest_reg.feature_importances_):\n",
    "  feature_importances[name] = score"
   ]
  },
  {
   "cell_type": "code",
   "execution_count": 257,
   "metadata": {
    "colab": {
     "base_uri": "https://localhost:8080/",
     "height": 204
    },
    "colab_type": "code",
    "id": "EjuSMSHsD3KA",
    "outputId": "03103e15-7565-44da-f441-2a832685b9b7"
   },
   "outputs": [
    {
     "data": {
      "text/plain": [
       "{'distance to destination': 0.47026613814704593,\n",
       " 'firmware_version: 4650': 0.0015692514389770824,\n",
       " 'firmware_version: 4760': 0.000999954680758872,\n",
       " 'firmware_version: 4770': 0.003022044048764769,\n",
       " 'firmware_version: 4780': 0.0025156628363566386,\n",
       " 'firmware_version: 4790': 0.01028597520901314,\n",
       " 'firmware_version: 4900': 0.00019418709137367625,\n",
       " 'firmware_version: 4910': 3.590614422903186e-05,\n",
       " 'firmware_version: 4940': 0.008055362218180172,\n",
       " 'hour of day': 0.10166464583084464,\n",
       " 'packet loss percentage': 0.4013908723544556}"
      ]
     },
     "execution_count": 257,
     "metadata": {
      "tags": []
     },
     "output_type": "execute_result"
    }
   ],
   "source": [
    "feature_importances"
   ]
  }
 ],
 "metadata": {
  "colab": {
   "collapsed_sections": [],
   "name": "ripe-ncc-recurring-traceroute-to-ttn.ipynb",
   "provenance": [],
   "toc_visible": true,
   "version": "0.3.2"
  },
  "kernelspec": {
   "display_name": "Python [conda env:ripe-ttn]",
   "language": "python",
   "name": "conda-env-ripe-ttn-py"
  },
  "language_info": {
   "codemirror_mode": {
    "name": "ipython",
    "version": 3
   },
   "file_extension": ".py",
   "mimetype": "text/x-python",
   "name": "python",
   "nbconvert_exporter": "python",
   "pygments_lexer": "ipython3",
   "version": "3.7.2"
  }
 },
 "nbformat": 4,
 "nbformat_minor": 1
}
