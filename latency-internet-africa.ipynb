{
 "cells": [
  {
   "cell_type": "markdown",
   "metadata": {
    "colab_type": "text",
    "id": "4q5ZcP7iXFxZ"
   },
   "source": [
    "### RIPE NCC RECURRING TRACEROUTE MEASUREMENT TO `eu.thethings.network`\n",
    "___"
   ]
  },
  {
   "cell_type": "code",
   "execution_count": 1,
   "metadata": {
    "colab": {},
    "colab_type": "code",
    "id": "sbrEFQ9pXFxb"
   },
   "outputs": [],
   "source": [
    "from datetime import datetime\n",
    "import time\n",
    "import requests\n",
    "import numpy as np\n",
    "import pandas as pd\n",
    "import matplotlib.pyplot as plt\n",
    "import matplotlib as mpl\n",
    "\n",
    "import seaborn as sns\n",
    "import os.path\n",
    "import folium\n",
    "\n",
    "import geopandas as gpd\n",
    "from shapely.geometry import Point\n",
    "from fiona.crs import from_epsg\n",
    "\n",
    "from folium import plugins\n",
    "from folium.raster_layers import ImageOverlay\n",
    "from palettable.colorbrewer.sequential import YlGnBu_5, YlOrBr_5,Oranges_5, Reds_5\n",
    "\n",
    "import utilities as utils\n",
    "\n",
    "#import sklearn\n",
    "#from sklearn.preprocessing import OneHotEncoder\n",
    "#from sklearn.ensemble import RandomForestRegressor\n",
    "\n",
    "%matplotlib inline\n",
    "plt.rcParams['figure.figsize'] = (10, 5)\n",
    "\n",
    "import warnings\n",
    "warnings.filterwarnings('ignore')\n",
    "\n",
    "%load_ext autoreload\n",
    "%autoreload 2"
   ]
  },
  {
   "cell_type": "code",
   "execution_count": 2,
   "metadata": {
    "colab": {},
    "colab_type": "code",
    "id": "dpxzaq2WXFxe"
   },
   "outputs": [],
   "source": [
    "# Constants and global vars\n",
    "data_dir = 'data'"
   ]
  },
  {
   "cell_type": "markdown",
   "metadata": {
    "colab_type": "text",
    "id": "iFjjILZHXFxj"
   },
   "source": [
    "## I. Data Loading and Preprocessing\n",
    "<a id='data-loading'>"
   ]
  },
  {
   "cell_type": "markdown",
   "metadata": {
    "colab_type": "text",
    "id": "gGNhCNuHXFxk"
   },
   "source": [
    "### I.1 Measurements"
   ]
  },
  {
   "cell_type": "code",
   "execution_count": 7,
   "metadata": {},
   "outputs": [],
   "source": [
    "#probes = [13114,21673,33284]"
   ]
  },
  {
   "cell_type": "code",
   "execution_count": 8,
   "metadata": {},
   "outputs": [
    {
     "name": "stdout",
     "output_type": "stream",
     "text": [
      "Fetching data from:\n",
      "https://atlas.ripe.net/api/v2/measurements/17468431/results/?start=1543618800&stop=1543705200&probe_ids=None\n"
     ]
    }
   ],
   "source": [
    "json_data = utils.get_measurements(measurement_id=17468431, start='01/12/2018', stop='02/12/2018')"
   ]
  },
  {
   "cell_type": "code",
   "execution_count": 9,
   "metadata": {
    "colab": {
     "base_uri": "https://localhost:8080/",
     "height": 34
    },
    "colab_type": "code",
    "id": "GcZJxaR9XFxo",
    "outputId": "f14ee5f5-e1b1-47f6-97a7-f201936c486d"
   },
   "outputs": [
    {
     "name": "stdout",
     "output_type": "stream",
     "text": [
      "20902 results\n"
     ]
    }
   ],
   "source": [
    "# Number of records\n",
    "print(str(len(json_data)) + ' results')"
   ]
  },
  {
   "cell_type": "code",
   "execution_count": 17,
   "metadata": {
    "colab": {
     "base_uri": "https://localhost:8080/",
     "height": 1000
    },
    "colab_type": "code",
    "id": "MkCL9-SHXFxw",
    "outputId": "c40a3e13-55dc-451f-ef04-1039651cc406"
   },
   "outputs": [
    {
     "data": {
      "text/plain": [
       "{'af': 4,\n",
       " 'dst_addr': '52.169.76.255',\n",
       " 'dst_name': '52.169.76.255',\n",
       " 'endtime': 1543618976,\n",
       " 'from': '169.0.103.214',\n",
       " 'fw': 4940,\n",
       " 'group_id': 17468431,\n",
       " 'lts': 8,\n",
       " 'msm_id': 17468431,\n",
       " 'msm_name': 'Traceroute',\n",
       " 'paris_id': 3,\n",
       " 'prb_id': 21682,\n",
       " 'proto': 'TCP',\n",
       " 'result': [{'hop': 64,\n",
       "   'result': [{'flags': 'SA',\n",
       "     'from': '52.169.76.255',\n",
       "     'hdropts': [{'mss': 1440}],\n",
       "     'rtt': 176.065,\n",
       "     'size': 4,\n",
       "     'ttl': 50},\n",
       "    {'flags': 'SA',\n",
       "     'from': '52.169.76.255',\n",
       "     'hdropts': [{'mss': 1440}],\n",
       "     'rtt': 176.794,\n",
       "     'size': 4,\n",
       "     'ttl': 50},\n",
       "    {'flags': 'SA',\n",
       "     'from': '52.169.76.255',\n",
       "     'hdropts': [{'mss': 1440}],\n",
       "     'rtt': 178.843,\n",
       "     'size': 4,\n",
       "     'ttl': 50}]}],\n",
       " 'size': 0,\n",
       " 'src_addr': '192.168.3.14',\n",
       " 'stored_timestamp': 1543619072,\n",
       " 'timestamp': 1543618975,\n",
       " 'type': 'traceroute'}"
      ]
     },
     "execution_count": 17,
     "metadata": {},
     "output_type": "execute_result"
    }
   ],
   "source": [
    "# An exemple of result\n",
    "json_data[0]"
   ]
  },
  {
   "cell_type": "markdown",
   "metadata": {
    "colab_type": "text",
    "id": "oiFbXicHXFxz"
   },
   "source": [
    "* **Measurement results data structure**\n",
    "\n",
    "*Note that according to probe's firmware version, returned fields might differ*\n",
    "\n",
    "From: https://atlas.ripe.net/docs/data_struct/\n",
    "\n",
    "* `af`: adress familly with possible values: {4: IPv4, 6: IPv6}\n",
    "* `dst_addr`: IP address of the destination (string)\n",
    "* `dst_name`: name of the destination (string)\n",
    "* `from`: IP address of the probe as known by controller (string)\n",
    "* `fw`: firmware version of the probe\n",
    "* `group_id`: if the measurement belongs to a group of measurements, the identifier of the group (int)\n",
    "* `lts`: last time synchronised. How long ago (in seconds) the clock of the probe was found to be in sync with that of a controller. The value -1 is used to indicate that the probe does not know whether it is in sync (int)\n",
    "* `msm_id`: measurement identifier (int)\n",
    "* `msm_name`: measurement type \"Ping\" (string)\n",
    "* `paris_id`: variation for the Paris mode of traceroute (int)\n",
    "* `prb_id`: source probe ID (int)\n",
    "* `proto`: \"UDP\", \"ICMP\", or \"TCP\" (string)\n",
    "* `result`: list of hop elements (array of objects). Objects have the following fields:\n",
    "    * `hop`: hop number (int)\n",
    "    * `error`: [optional] when an error occurs trying to send a packet. In that case there will not be a result structure. (string)\n",
    "    * `result`: variable content, depending on type of response (array of objects) \n",
    "objects have the following fields:\n",
    "        * `flags`: \"flags\" -- (optional) TCP flags in the reply packet, for TCP traceroute, concatenated, in the order 'F' (FIN), 'S' (SYN), 'R' (RST), 'P' (PSH), 'A' (ACK), 'U' (URG) (fw >= 4600) (string)\n",
    "        * `from`: IPv4 or IPv6 source address in reply (string)\n",
    "        * `rtt`:  round-trip-time of reply, not present when the response is late in ms (float)\n",
    "        * `size`: size of reply (int)\n",
    "        * `ttl`: time-to-live in reply (int)\n",
    "    * `size`: packet size (int)\n",
    "    * `src_addr`: source address used by probe (string)\n",
    "    * `timestamp`: Unix timestamp for start of measurement (int)\n",
    "    * `type`: \"traceroute\" (string)    \n",
    "\n",
    "\n"
   ]
  },
  {
   "cell_type": "markdown",
   "metadata": {
    "colab_type": "text",
    "id": "E9vOL5pzLz9T"
   },
   "source": [
    "* **Checking destination IP address and fetching lon, lat for later use**"
   ]
  },
  {
   "cell_type": "code",
   "execution_count": 0,
   "metadata": {
    "colab": {
     "base_uri": "https://localhost:8080/",
     "height": 71
    },
    "colab_type": "code",
    "id": "5RhGrCKbi7mr",
    "outputId": "f56ab5cd-951c-4d55-bc5a-b339808d773e"
   },
   "outputs": [
    {
     "name": "stdout",
     "output_type": "stream",
     "text": [
      "Destination IP address:  {'52.169.76.255'}\n",
      "{'ip': '52.169.76.255', 'city': 'Dublin', 'region': 'Leinster', 'country': 'IE', 'loc': '53.3331,-6.2489', 'org': 'AS8075 Microsoft Corporation', 'postal': 'D02'}\n"
     ]
    }
   ],
   "source": [
    "# Let's check quickly all probes trace to the same IP address\n",
    "ip_dest = set(map(lambda x: x['dst_addr'], json_data))\n",
    "print('Destination IP address: ', ip_dest)\n",
    "\n",
    "# Building the url as a long string in one go\n",
    "url_ipinfo = 'http://ipinfo.io/{}?token=630bc5fdf2a21f'.format(list(ip_dest)[0])\n",
    "url_ipinfo\n",
    "\n",
    "r = requests.get(url_ipinfo)\n",
    "json_ipinfo = r.json()\n",
    "\n",
    "print(json_ipinfo)\n",
    "lat_dest, lon_dest = map(lambda x: float(x), json_ipinfo['loc'].split(','))"
   ]
  },
  {
   "cell_type": "code",
   "execution_count": 0,
   "metadata": {
    "colab": {
     "base_uri": "https://localhost:8080/",
     "height": 34
    },
    "colab_type": "code",
    "id": "OkGvCv42Qlt2",
    "outputId": "b3a60e0d-70f8-491c-86f6-8f45a2720b8f"
   },
   "outputs": [
    {
     "data": {
      "text/plain": [
       "'http://ipinfo.io/52.169.76.255?token=630bc5fdf2a21f'"
      ]
     },
     "execution_count": 13,
     "metadata": {
      "tags": []
     },
     "output_type": "execute_result"
    }
   ],
   "source": [
    "url_ipinfo"
   ]
  },
  {
   "cell_type": "code",
   "execution_count": 0,
   "metadata": {
    "colab": {
     "base_uri": "https://localhost:8080/",
     "height": 136
    },
    "colab_type": "code",
    "id": "c-anRWUYQz21",
    "outputId": "4a1f62fe-e498-4d21-8819-0acab921cb70"
   },
   "outputs": [
    {
     "data": {
      "text/plain": [
       "{'city': 'Dublin',\n",
       " 'country': 'IE',\n",
       " 'ip': '52.169.76.255',\n",
       " 'loc': '53.3331,-6.2489',\n",
       " 'org': 'AS8075 Microsoft Corporation',\n",
       " 'postal': 'D02',\n",
       " 'region': 'Leinster'}"
      ]
     },
     "execution_count": 14,
     "metadata": {
      "tags": []
     },
     "output_type": "execute_result"
    }
   ],
   "source": [
    "json_ipinfo"
   ]
  },
  {
   "cell_type": "code",
   "execution_count": 42,
   "metadata": {
    "colab": {},
    "colab_type": "code",
    "id": "2oNj5ukHXFx0"
   },
   "outputs": [],
   "source": [
    "# Utilities functions and lambdas\n",
    "\n",
    "# Filtering/mapping Predicates\n",
    "has_result = lambda row: not('error' in row['result'][0])\n",
    "is_late = lambda pack: 'late' in pack\n",
    "is_timed_out = lambda pack: 'x' in pack\n",
    "is_error = lambda pack: 'error' in pack\n",
    "is_err = lambda pack: 'err' in pack\n",
    "is_empty = lambda pack: not(bool(pack))\n",
    "\n",
    "get_result = lambda row: row['result'][0]['result']\n",
    "get_nb_packets = lambda row: len(get_result(row))\n",
    "get_max_nb_hops = lambda row: row['result'][0]['hop']\n",
    "get_rtts = lambda row: list(filter(lambda pack: not(is_late(pack) or\n",
    "                                                    is_timed_out(pack) or\n",
    "                                                    is_error(pack) or \n",
    "                                                    is_err(pack) or\n",
    "                                                    is_empty(pack)), get_result(row)))\n",
    "\n",
    "get_nb_rtts = lambda row: len(get_rtts(row))\n",
    "get_rtts_mean = lambda row: np.mean(list(map(lambda pack: pack['rtt'], get_rtts(row))))\n",
    "get_ttl = lambda row: get_rtts(row)[0]['ttl']\n",
    "\n",
    "to_datetime = lambda x: datetime.utcfromtimestamp(x).strftime('%Y-%m-%d %H:%M:%S')"
   ]
  },
  {
   "cell_type": "code",
   "execution_count": 51,
   "metadata": {
    "colab": {},
    "colab_type": "code",
    "id": "l7V5ojkEXFx2"
   },
   "outputs": [],
   "source": [
    "# Postprocess json data\n",
    "measurements = []\n",
    "for row in json_data:\n",
    "    if has_result(row) and get_nb_rtts(row) > 0:\n",
    "        measurements.append(\n",
    "            {'prb_id': row['prb_id'],\n",
    "             'ip_from': row['from'],\n",
    "             'paris_id': row['paris_id'],\n",
    "             'datetime': to_datetime(row['timestamp']),\n",
    "             'start_time': row['timestamp'],\n",
    "             'end_time': row['endtime'],\n",
    "             'last_time_sync': row['lts'],\n",
    "             'firmware_version': row['fw'],\n",
    "             'nb_hops': get_max_nb_hops(row) - get_ttl(row),\n",
    "             'nb_packets': get_nb_packets(row),\n",
    "             'nb_rtts': get_nb_rtts(row),             \n",
    "             'rtt': get_rtts_mean(row)})"
   ]
  },
  {
   "cell_type": "code",
   "execution_count": 52,
   "metadata": {
    "colab": {},
    "colab_type": "code",
    "id": "zxkNP5JjXFx4"
   },
   "outputs": [],
   "source": [
    "# Convert to Pandas dataframe \n",
    "columns = ['datetime', 'prb_id', 'ip_from', 'paris_id', 'start_time', 'end_time', \n",
    "           'last_time_sync', 'firmware_version', 'nb_hops', 'nb_packets', 'nb_rtts', 'rtt']\n",
    "\n",
    "df = pd.DataFrame(measurements, columns=columns)\n",
    "df['datetime'] = pd.to_datetime(df['datetime'])\n",
    "df.set_index('datetime', inplace=True)\n",
    "df.sort_index(inplace=True)"
   ]
  },
  {
   "cell_type": "code",
   "execution_count": 55,
   "metadata": {
    "colab": {
     "base_uri": "https://localhost:8080/",
     "height": 235
    },
    "colab_type": "code",
    "id": "qHmZbZ98XFx7",
    "outputId": "20afd14e-45fe-4b5c-e736-7b3e117c22f1"
   },
   "outputs": [
    {
     "data": {
      "text/html": [
       "<div>\n",
       "<style scoped>\n",
       "    .dataframe tbody tr th:only-of-type {\n",
       "        vertical-align: middle;\n",
       "    }\n",
       "\n",
       "    .dataframe tbody tr th {\n",
       "        vertical-align: top;\n",
       "    }\n",
       "\n",
       "    .dataframe thead th {\n",
       "        text-align: right;\n",
       "    }\n",
       "</style>\n",
       "<table border=\"1\" class=\"dataframe\">\n",
       "  <thead>\n",
       "    <tr style=\"text-align: right;\">\n",
       "      <th></th>\n",
       "      <th>prb_id</th>\n",
       "      <th>ip_from</th>\n",
       "      <th>paris_id</th>\n",
       "      <th>start_time</th>\n",
       "      <th>end_time</th>\n",
       "      <th>last_time_sync</th>\n",
       "      <th>firmware_version</th>\n",
       "      <th>nb_hops</th>\n",
       "      <th>nb_packets</th>\n",
       "      <th>nb_rtts</th>\n",
       "      <th>rtt</th>\n",
       "    </tr>\n",
       "    <tr>\n",
       "      <th>datetime</th>\n",
       "      <th></th>\n",
       "      <th></th>\n",
       "      <th></th>\n",
       "      <th></th>\n",
       "      <th></th>\n",
       "      <th></th>\n",
       "      <th></th>\n",
       "      <th></th>\n",
       "      <th></th>\n",
       "      <th></th>\n",
       "      <th></th>\n",
       "    </tr>\n",
       "  </thead>\n",
       "  <tbody>\n",
       "    <tr>\n",
       "      <th>2018-11-30 23:02:49</th>\n",
       "      <td>35067</td>\n",
       "      <td>41.248.208.162</td>\n",
       "      <td>8</td>\n",
       "      <td>1543618969</td>\n",
       "      <td>1543618970</td>\n",
       "      <td>204</td>\n",
       "      <td>4780</td>\n",
       "      <td>17</td>\n",
       "      <td>3</td>\n",
       "      <td>3</td>\n",
       "      <td>94.480667</td>\n",
       "    </tr>\n",
       "    <tr>\n",
       "      <th>2018-11-30 23:02:55</th>\n",
       "      <td>21682</td>\n",
       "      <td>169.0.103.214</td>\n",
       "      <td>3</td>\n",
       "      <td>1543618975</td>\n",
       "      <td>1543618976</td>\n",
       "      <td>8</td>\n",
       "      <td>4940</td>\n",
       "      <td>14</td>\n",
       "      <td>3</td>\n",
       "      <td>3</td>\n",
       "      <td>177.234000</td>\n",
       "    </tr>\n",
       "    <tr>\n",
       "      <th>2018-11-30 23:03:00</th>\n",
       "      <td>33073</td>\n",
       "      <td>196.15.205.17</td>\n",
       "      <td>3</td>\n",
       "      <td>1543618980</td>\n",
       "      <td>1543618980</td>\n",
       "      <td>48</td>\n",
       "      <td>4940</td>\n",
       "      <td>14</td>\n",
       "      <td>3</td>\n",
       "      <td>3</td>\n",
       "      <td>172.731000</td>\n",
       "    </tr>\n",
       "    <tr>\n",
       "      <th>2018-11-30 23:03:02</th>\n",
       "      <td>50355</td>\n",
       "      <td>155.93.192.173</td>\n",
       "      <td>4</td>\n",
       "      <td>1543618982</td>\n",
       "      <td>1543618982</td>\n",
       "      <td>49</td>\n",
       "      <td>4940</td>\n",
       "      <td>14</td>\n",
       "      <td>3</td>\n",
       "      <td>3</td>\n",
       "      <td>178.559000</td>\n",
       "    </tr>\n",
       "    <tr>\n",
       "      <th>2018-11-30 23:03:03</th>\n",
       "      <td>11383</td>\n",
       "      <td>196.1.95.103</td>\n",
       "      <td>3</td>\n",
       "      <td>1543618983</td>\n",
       "      <td>1543618984</td>\n",
       "      <td>91</td>\n",
       "      <td>4940</td>\n",
       "      <td>17</td>\n",
       "      <td>3</td>\n",
       "      <td>3</td>\n",
       "      <td>96.144667</td>\n",
       "    </tr>\n",
       "  </tbody>\n",
       "</table>\n",
       "</div>"
      ],
      "text/plain": [
       "                     prb_id         ip_from  paris_id  start_time    end_time  \\\n",
       "datetime                                                                        \n",
       "2018-11-30 23:02:49   35067  41.248.208.162         8  1543618969  1543618970   \n",
       "2018-11-30 23:02:55   21682   169.0.103.214         3  1543618975  1543618976   \n",
       "2018-11-30 23:03:00   33073   196.15.205.17         3  1543618980  1543618980   \n",
       "2018-11-30 23:03:02   50355  155.93.192.173         4  1543618982  1543618982   \n",
       "2018-11-30 23:03:03   11383    196.1.95.103         3  1543618983  1543618984   \n",
       "\n",
       "                     last_time_sync  firmware_version  nb_hops  nb_packets  \\\n",
       "datetime                                                                     \n",
       "2018-11-30 23:02:49             204              4780       17           3   \n",
       "2018-11-30 23:02:55               8              4940       14           3   \n",
       "2018-11-30 23:03:00              48              4940       14           3   \n",
       "2018-11-30 23:03:02              49              4940       14           3   \n",
       "2018-11-30 23:03:03              91              4940       17           3   \n",
       "\n",
       "                     nb_rtts         rtt  \n",
       "datetime                                  \n",
       "2018-11-30 23:02:49        3   94.480667  \n",
       "2018-11-30 23:02:55        3  177.234000  \n",
       "2018-11-30 23:03:00        3  172.731000  \n",
       "2018-11-30 23:03:02        3  178.559000  \n",
       "2018-11-30 23:03:03        3   96.144667  "
      ]
     },
     "execution_count": 55,
     "metadata": {},
     "output_type": "execute_result"
    }
   ],
   "source": [
    "df.head()"
   ]
  },
  {
   "cell_type": "markdown",
   "metadata": {
    "colab_type": "text",
    "id": "8Z3ATuaAXFx-"
   },
   "source": [
    "### I.2 Probes description\n",
    "<a id='probes-description'>"
   ]
  },
  {
   "cell_type": "markdown",
   "metadata": {},
   "source": [
    "#### Trying to identify ASNs for NRENs in Africa\n",
    "\n",
    "* List of Afrian NRENs\n",
    "https://www.africaconnect2.net/Partners/African_NRENs/Pages/Home.aspx\n",
    "https://en.wikipedia.org/wiki/National_research_and_education_network\n",
    "\n",
    "* Additional info: \n",
    "    * https://bgpview.io\n",
    "    * UbuntuNet NRENs: https://bgpview.io/asn/36944#downstreams-v4\n",
    "\n"
   ]
  },
  {
   "cell_type": "code",
   "execution_count": 85,
   "metadata": {
    "colab": {},
    "colab_type": "code",
    "id": "CZWd_-u-XFx_"
   },
   "outputs": [],
   "source": [
    "# Get list of probes involved in measurements\n",
    "probes_id = list(df['prb_id'].unique())"
   ]
  },
  {
   "cell_type": "code",
   "execution_count": 86,
   "metadata": {},
   "outputs": [],
   "source": [
    "json_data_probe = utils.get_probes(probes_id)"
   ]
  },
  {
   "cell_type": "code",
   "execution_count": 87,
   "metadata": {
    "colab": {
     "base_uri": "https://localhost:8080/",
     "height": 510
    },
    "colab_type": "code",
    "id": "oIs3qBS5XFyG",
    "outputId": "c4c7b11e-7a8c-4525-feab-55456fee71bf"
   },
   "outputs": [
    {
     "data": {
      "text/plain": [
       "{'address_v4': '196.1.95.16',\n",
       " 'address_v6': '2001:4278:1000:1::16',\n",
       " 'asn_v4': 8346,\n",
       " 'asn_v6': 8346,\n",
       " 'country_code': 'SN',\n",
       " 'description': 'UCAD Probe',\n",
       " 'first_connected': 1291147153,\n",
       " 'geometry': {'type': 'Point', 'coordinates': [-17.4415, 14.6715]},\n",
       " 'id': 239,\n",
       " 'is_anchor': False,\n",
       " 'is_public': True,\n",
       " 'last_connected': 1566556239,\n",
       " 'prefix_v4': '196.1.92.0/22',\n",
       " 'prefix_v6': '2001:4278::/32',\n",
       " 'status': {'id': 1, 'name': 'Connected', 'since': '2019-08-18T18:45:22Z'},\n",
       " 'status_since': 1566153922,\n",
       " 'tags': [{'name': 'Office', 'slug': 'office'},\n",
       "  {'name': 'No NAT', 'slug': 'no-nat'},\n",
       "  {'name': 'system: V1', 'slug': 'system-v1'},\n",
       "  {'name': 'system: Resolves A Correctly',\n",
       "   'slug': 'system-resolves-a-correctly'},\n",
       "  {'name': 'system: Resolves AAAA Correctly',\n",
       "   'slug': 'system-resolves-aaaa-correctly'},\n",
       "  {'name': 'system: IPv4 Works', 'slug': 'system-ipv4-works'},\n",
       "  {'name': \"system: IPv6 Doesn't Work\", 'slug': 'system-ipv6-doesnt-work'},\n",
       "  {'name': 'system: IPv4 Capable', 'slug': 'system-ipv4-capable'},\n",
       "  {'name': 'system: IPv6 Capable', 'slug': 'system-ipv6-capable'},\n",
       "  {'name': 'system: IPv4 Stable 1d', 'slug': 'system-ipv4-stable-1d'}],\n",
       " 'total_uptime': 234484800,\n",
       " 'type': 'Probe'}"
      ]
     },
     "execution_count": 87,
     "metadata": {},
     "output_type": "execute_result"
    }
   ],
   "source": [
    "# An example of probe's description.\n",
    "json_data_probe['results'][0]"
   ]
  },
  {
   "cell_type": "code",
   "execution_count": 88,
   "metadata": {
    "colab": {},
    "colab_type": "code",
    "id": "4HmPuOPkXFyK"
   },
   "outputs": [],
   "source": [
    "# Postprocess json data\n",
    "probes = []\n",
    "for i, row in enumerate(json_data_probe['results']):\n",
    "        probes.append(\n",
    "            {'prb_id': row['id'],\n",
    "             'ip_v4': row['address_v4'],\n",
    "             'asn': str(row['asn_v4']),\n",
    "             'country_code': row['country_code'],\n",
    "             'description': row['description'],\n",
    "             'lon': row['geometry']['coordinates'][0],\n",
    "             'lat': row['geometry']['coordinates'][1]})"
   ]
  },
  {
   "cell_type": "code",
   "execution_count": 89,
   "metadata": {
    "colab": {},
    "colab_type": "code",
    "id": "bF6Y-6swXFyO"
   },
   "outputs": [],
   "source": [
    "# Convert to Pandas dataframe \n",
    "columns = ['prb_id','ip_v4', 'asn', 'country_code', 'description', 'lon', 'lat']\n",
    "df_probes = pd.DataFrame(probes, columns=columns)"
   ]
  },
  {
   "cell_type": "code",
   "execution_count": 90,
   "metadata": {
    "colab": {
     "base_uri": "https://localhost:8080/",
     "height": 85
    },
    "colab_type": "code",
    "id": "dxPc2HO2XFyR",
    "outputId": "b51b0c74-89b0-4356-9348-a3b2f668e601"
   },
   "outputs": [
    {
     "name": "stdout",
     "output_type": "stream",
     "text": [
      "Number of countries:  35\n",
      "['SN' 'ZA' 'MU' 'TN' 'BW' 'CM' 'GH' 'TZ' 'UG' 'CG' 'BJ' 'NG' 'MA' 'BI'\n",
      " 'KE' 'MZ' 'ET' 'ZM' 'SZ' 'AO' 'MW' 'LS' 'NA' 'MG' 'SD' 'SS' 'SC' 'CD'\n",
      " 'DZ' 'ZW' 'GM' 'TG' 'RW' 'EG' 'DJ']\n"
     ]
    }
   ],
   "source": [
    "print('Number of countries: ', len(df_probes['country_code'].unique()))\n",
    "print(df_probes['country_code'].unique())"
   ]
  },
  {
   "cell_type": "code",
   "execution_count": 91,
   "metadata": {
    "colab": {
     "base_uri": "https://localhost:8080/",
     "height": 306
    },
    "colab_type": "code",
    "id": "ExKTlZZMXFyV",
    "outputId": "4624180d-922d-445c-b4e9-9957044b4f7a"
   },
   "outputs": [
    {
     "data": {
      "text/html": [
       "<div>\n",
       "<style scoped>\n",
       "    .dataframe tbody tr th:only-of-type {\n",
       "        vertical-align: middle;\n",
       "    }\n",
       "\n",
       "    .dataframe tbody tr th {\n",
       "        vertical-align: top;\n",
       "    }\n",
       "\n",
       "    .dataframe thead th {\n",
       "        text-align: right;\n",
       "    }\n",
       "</style>\n",
       "<table border=\"1\" class=\"dataframe\">\n",
       "  <thead>\n",
       "    <tr style=\"text-align: right;\">\n",
       "      <th></th>\n",
       "      <th>name</th>\n",
       "      <th>alpha-2</th>\n",
       "      <th>alpha-3</th>\n",
       "      <th>country-code</th>\n",
       "      <th>iso_3166-2</th>\n",
       "      <th>region</th>\n",
       "      <th>sub-region</th>\n",
       "      <th>intermediate-region</th>\n",
       "      <th>region-code</th>\n",
       "      <th>sub-region-code</th>\n",
       "      <th>intermediate-region-code</th>\n",
       "    </tr>\n",
       "  </thead>\n",
       "  <tbody>\n",
       "    <tr>\n",
       "      <th>0</th>\n",
       "      <td>Afghanistan</td>\n",
       "      <td>AF</td>\n",
       "      <td>AFG</td>\n",
       "      <td>4</td>\n",
       "      <td>ISO 3166-2:AF</td>\n",
       "      <td>Asia</td>\n",
       "      <td>Southern Asia</td>\n",
       "      <td>NaN</td>\n",
       "      <td>142.0</td>\n",
       "      <td>34.0</td>\n",
       "      <td>NaN</td>\n",
       "    </tr>\n",
       "    <tr>\n",
       "      <th>1</th>\n",
       "      <td>Åland Islands</td>\n",
       "      <td>AX</td>\n",
       "      <td>ALA</td>\n",
       "      <td>248</td>\n",
       "      <td>ISO 3166-2:AX</td>\n",
       "      <td>Europe</td>\n",
       "      <td>Northern Europe</td>\n",
       "      <td>NaN</td>\n",
       "      <td>150.0</td>\n",
       "      <td>154.0</td>\n",
       "      <td>NaN</td>\n",
       "    </tr>\n",
       "    <tr>\n",
       "      <th>2</th>\n",
       "      <td>Albania</td>\n",
       "      <td>AL</td>\n",
       "      <td>ALB</td>\n",
       "      <td>8</td>\n",
       "      <td>ISO 3166-2:AL</td>\n",
       "      <td>Europe</td>\n",
       "      <td>Southern Europe</td>\n",
       "      <td>NaN</td>\n",
       "      <td>150.0</td>\n",
       "      <td>39.0</td>\n",
       "      <td>NaN</td>\n",
       "    </tr>\n",
       "    <tr>\n",
       "      <th>3</th>\n",
       "      <td>Algeria</td>\n",
       "      <td>DZ</td>\n",
       "      <td>DZA</td>\n",
       "      <td>12</td>\n",
       "      <td>ISO 3166-2:DZ</td>\n",
       "      <td>Africa</td>\n",
       "      <td>Northern Africa</td>\n",
       "      <td>NaN</td>\n",
       "      <td>2.0</td>\n",
       "      <td>15.0</td>\n",
       "      <td>NaN</td>\n",
       "    </tr>\n",
       "    <tr>\n",
       "      <th>4</th>\n",
       "      <td>American Samoa</td>\n",
       "      <td>AS</td>\n",
       "      <td>ASM</td>\n",
       "      <td>16</td>\n",
       "      <td>ISO 3166-2:AS</td>\n",
       "      <td>Oceania</td>\n",
       "      <td>Polynesia</td>\n",
       "      <td>NaN</td>\n",
       "      <td>9.0</td>\n",
       "      <td>61.0</td>\n",
       "      <td>NaN</td>\n",
       "    </tr>\n",
       "  </tbody>\n",
       "</table>\n",
       "</div>"
      ],
      "text/plain": [
       "             name alpha-2 alpha-3  country-code     iso_3166-2   region  \\\n",
       "0     Afghanistan      AF     AFG             4  ISO 3166-2:AF     Asia   \n",
       "1   Åland Islands      AX     ALA           248  ISO 3166-2:AX   Europe   \n",
       "2         Albania      AL     ALB             8  ISO 3166-2:AL   Europe   \n",
       "3         Algeria      DZ     DZA            12  ISO 3166-2:DZ   Africa   \n",
       "4  American Samoa      AS     ASM            16  ISO 3166-2:AS  Oceania   \n",
       "\n",
       "        sub-region intermediate-region  region-code  sub-region-code  \\\n",
       "0    Southern Asia                 NaN        142.0             34.0   \n",
       "1  Northern Europe                 NaN        150.0            154.0   \n",
       "2  Southern Europe                 NaN        150.0             39.0   \n",
       "3  Northern Africa                 NaN          2.0             15.0   \n",
       "4        Polynesia                 NaN          9.0             61.0   \n",
       "\n",
       "   intermediate-region-code  \n",
       "0                       NaN  \n",
       "1                       NaN  \n",
       "2                       NaN  \n",
       "3                       NaN  \n",
       "4                       NaN  "
      ]
     },
     "execution_count": 91,
     "metadata": {},
     "output_type": "execute_result"
    }
   ],
   "source": [
    "# Loading country codes\n",
    "country_codes = pd.read_csv('https://raw.githubusercontent.com/franckalbinet/' + \n",
    "                            'latency-internet-africa/master/data/country_codes.csv')\n",
    "\n",
    "country_codes.head()"
   ]
  },
  {
   "cell_type": "code",
   "execution_count": 92,
   "metadata": {
    "colab": {
     "base_uri": "https://localhost:8080/",
     "height": 204
    },
    "colab_type": "code",
    "id": "9yJGliUPXFyX",
    "outputId": "d1b7a5b3-8bf7-4d27-9cdb-56fbff01d7bf"
   },
   "outputs": [
    {
     "data": {
      "text/html": [
       "<div>\n",
       "<style scoped>\n",
       "    .dataframe tbody tr th:only-of-type {\n",
       "        vertical-align: middle;\n",
       "    }\n",
       "\n",
       "    .dataframe tbody tr th {\n",
       "        vertical-align: top;\n",
       "    }\n",
       "\n",
       "    .dataframe thead th {\n",
       "        text-align: right;\n",
       "    }\n",
       "</style>\n",
       "<table border=\"1\" class=\"dataframe\">\n",
       "  <thead>\n",
       "    <tr style=\"text-align: right;\">\n",
       "      <th></th>\n",
       "      <th>prb_id</th>\n",
       "      <th>ip_v4</th>\n",
       "      <th>asn</th>\n",
       "      <th>description</th>\n",
       "      <th>lon</th>\n",
       "      <th>lat</th>\n",
       "      <th>country_name</th>\n",
       "      <th>country_code</th>\n",
       "    </tr>\n",
       "  </thead>\n",
       "  <tbody>\n",
       "    <tr>\n",
       "      <th>0</th>\n",
       "      <td>239</td>\n",
       "      <td>196.1.95.16</td>\n",
       "      <td>8346</td>\n",
       "      <td>UCAD Probe</td>\n",
       "      <td>-17.4415</td>\n",
       "      <td>14.6715</td>\n",
       "      <td>Senegal</td>\n",
       "      <td>SN</td>\n",
       "    </tr>\n",
       "    <tr>\n",
       "      <th>1</th>\n",
       "      <td>242</td>\n",
       "      <td>None</td>\n",
       "      <td>328453</td>\n",
       "      <td>1 Belvedere</td>\n",
       "      <td>18.4895</td>\n",
       "      <td>-33.9815</td>\n",
       "      <td>South Africa</td>\n",
       "      <td>ZA</td>\n",
       "    </tr>\n",
       "    <tr>\n",
       "      <th>2</th>\n",
       "      <td>446</td>\n",
       "      <td>196.192.112.229</td>\n",
       "      <td>37708</td>\n",
       "      <td>AFRINIC Mauritius</td>\n",
       "      <td>57.4995</td>\n",
       "      <td>-20.2395</td>\n",
       "      <td>Mauritius</td>\n",
       "      <td>MU</td>\n",
       "    </tr>\n",
       "    <tr>\n",
       "      <th>3</th>\n",
       "      <td>473</td>\n",
       "      <td>196.4.161.3</td>\n",
       "      <td>3741</td>\n",
       "      <td>Internet Solutions [http://www.is.co.za] - Ros...</td>\n",
       "      <td>28.0405</td>\n",
       "      <td>-26.1515</td>\n",
       "      <td>South Africa</td>\n",
       "      <td>ZA</td>\n",
       "    </tr>\n",
       "    <tr>\n",
       "      <th>4</th>\n",
       "      <td>567</td>\n",
       "      <td>193.95.66.40</td>\n",
       "      <td>2609</td>\n",
       "      <td>ATI, BELVEDERE, 1G/s</td>\n",
       "      <td>10.1805</td>\n",
       "      <td>36.8205</td>\n",
       "      <td>Tunisia</td>\n",
       "      <td>TN</td>\n",
       "    </tr>\n",
       "  </tbody>\n",
       "</table>\n",
       "</div>"
      ],
      "text/plain": [
       "   prb_id            ip_v4     asn  \\\n",
       "0     239      196.1.95.16    8346   \n",
       "1     242             None  328453   \n",
       "2     446  196.192.112.229   37708   \n",
       "3     473      196.4.161.3    3741   \n",
       "4     567     193.95.66.40    2609   \n",
       "\n",
       "                                         description      lon      lat  \\\n",
       "0                                         UCAD Probe -17.4415  14.6715   \n",
       "1                                        1 Belvedere  18.4895 -33.9815   \n",
       "2                                  AFRINIC Mauritius  57.4995 -20.2395   \n",
       "3  Internet Solutions [http://www.is.co.za] - Ros...  28.0405 -26.1515   \n",
       "4                               ATI, BELVEDERE, 1G/s  10.1805  36.8205   \n",
       "\n",
       "   country_name country_code  \n",
       "0       Senegal           SN  \n",
       "1  South Africa           ZA  \n",
       "2     Mauritius           MU  \n",
       "3  South Africa           ZA  \n",
       "4       Tunisia           TN  "
      ]
     },
     "execution_count": 92,
     "metadata": {},
     "output_type": "execute_result"
    }
   ],
   "source": [
    "# Joining/merging with country code to get full country name\n",
    "df_probes = pd.merge(df_probes, country_codes[['name', 'alpha-2']], left_on='country_code', \n",
    "                     right_on='alpha-2', how='left')\n",
    "df_probes = df_probes.drop(['country_code'], axis=1)\n",
    "df_probes.rename(columns={'alpha-2':'country_code', 'name': 'country_name'}, inplace=True)\n",
    "df_probes.head()"
   ]
  },
  {
   "cell_type": "markdown",
   "metadata": {
    "colab_type": "text",
    "id": "gFzhHrRmXyhL"
   },
   "source": [
    "* **It looks like we don't get the IP address from all probes. Let's use the ip address provided in measurement results instead.**"
   ]
  },
  {
   "cell_type": "code",
   "execution_count": 93,
   "metadata": {
    "colab": {},
    "colab_type": "code",
    "id": "4nTgqXQBXHti"
   },
   "outputs": [],
   "source": [
    "# Note that each probe can have several IP addresses. We keep only one.\n",
    "ip_from_measurement = df[['prb_id','ip_from']].reset_index().drop(columns=['datetime']).drop_duplicates(subset='prb_id')"
   ]
  },
  {
   "cell_type": "code",
   "execution_count": 94,
   "metadata": {
    "colab": {},
    "colab_type": "code",
    "id": "9xo7zIrxaChY"
   },
   "outputs": [],
   "source": [
    "df_probes = pd.merge(df_probes, ip_from_measurement, left_on='prb_id', right_on='prb_id', how='left') "
   ]
  },
  {
   "cell_type": "code",
   "execution_count": 95,
   "metadata": {
    "colab": {
     "base_uri": "https://localhost:8080/",
     "height": 204
    },
    "colab_type": "code",
    "id": "PmgzvUdzanl3",
    "outputId": "6e4c90c8-e415-433a-8128-7e47595ba51c"
   },
   "outputs": [
    {
     "data": {
      "text/html": [
       "<div>\n",
       "<style scoped>\n",
       "    .dataframe tbody tr th:only-of-type {\n",
       "        vertical-align: middle;\n",
       "    }\n",
       "\n",
       "    .dataframe tbody tr th {\n",
       "        vertical-align: top;\n",
       "    }\n",
       "\n",
       "    .dataframe thead th {\n",
       "        text-align: right;\n",
       "    }\n",
       "</style>\n",
       "<table border=\"1\" class=\"dataframe\">\n",
       "  <thead>\n",
       "    <tr style=\"text-align: right;\">\n",
       "      <th></th>\n",
       "      <th>prb_id</th>\n",
       "      <th>ip_v4</th>\n",
       "      <th>asn</th>\n",
       "      <th>description</th>\n",
       "      <th>lon</th>\n",
       "      <th>lat</th>\n",
       "      <th>country_name</th>\n",
       "      <th>country_code</th>\n",
       "      <th>ip_from</th>\n",
       "    </tr>\n",
       "  </thead>\n",
       "  <tbody>\n",
       "    <tr>\n",
       "      <th>0</th>\n",
       "      <td>239</td>\n",
       "      <td>196.1.95.16</td>\n",
       "      <td>8346</td>\n",
       "      <td>UCAD Probe</td>\n",
       "      <td>-17.4415</td>\n",
       "      <td>14.6715</td>\n",
       "      <td>Senegal</td>\n",
       "      <td>SN</td>\n",
       "      <td>196.1.95.16</td>\n",
       "    </tr>\n",
       "    <tr>\n",
       "      <th>1</th>\n",
       "      <td>242</td>\n",
       "      <td>None</td>\n",
       "      <td>328453</td>\n",
       "      <td>1 Belvedere</td>\n",
       "      <td>18.4895</td>\n",
       "      <td>-33.9815</td>\n",
       "      <td>South Africa</td>\n",
       "      <td>ZA</td>\n",
       "      <td>196.210.11.182</td>\n",
       "    </tr>\n",
       "    <tr>\n",
       "      <th>2</th>\n",
       "      <td>446</td>\n",
       "      <td>196.192.112.229</td>\n",
       "      <td>37708</td>\n",
       "      <td>AFRINIC Mauritius</td>\n",
       "      <td>57.4995</td>\n",
       "      <td>-20.2395</td>\n",
       "      <td>Mauritius</td>\n",
       "      <td>MU</td>\n",
       "      <td>196.192.112.229</td>\n",
       "    </tr>\n",
       "    <tr>\n",
       "      <th>3</th>\n",
       "      <td>473</td>\n",
       "      <td>196.4.161.3</td>\n",
       "      <td>3741</td>\n",
       "      <td>Internet Solutions [http://www.is.co.za] - Ros...</td>\n",
       "      <td>28.0405</td>\n",
       "      <td>-26.1515</td>\n",
       "      <td>South Africa</td>\n",
       "      <td>ZA</td>\n",
       "      <td>196.4.161.3</td>\n",
       "    </tr>\n",
       "    <tr>\n",
       "      <th>4</th>\n",
       "      <td>567</td>\n",
       "      <td>193.95.66.40</td>\n",
       "      <td>2609</td>\n",
       "      <td>ATI, BELVEDERE, 1G/s</td>\n",
       "      <td>10.1805</td>\n",
       "      <td>36.8205</td>\n",
       "      <td>Tunisia</td>\n",
       "      <td>TN</td>\n",
       "      <td>193.95.66.40</td>\n",
       "    </tr>\n",
       "  </tbody>\n",
       "</table>\n",
       "</div>"
      ],
      "text/plain": [
       "   prb_id            ip_v4     asn  \\\n",
       "0     239      196.1.95.16    8346   \n",
       "1     242             None  328453   \n",
       "2     446  196.192.112.229   37708   \n",
       "3     473      196.4.161.3    3741   \n",
       "4     567     193.95.66.40    2609   \n",
       "\n",
       "                                         description      lon      lat  \\\n",
       "0                                         UCAD Probe -17.4415  14.6715   \n",
       "1                                        1 Belvedere  18.4895 -33.9815   \n",
       "2                                  AFRINIC Mauritius  57.4995 -20.2395   \n",
       "3  Internet Solutions [http://www.is.co.za] - Ros...  28.0405 -26.1515   \n",
       "4                               ATI, BELVEDERE, 1G/s  10.1805  36.8205   \n",
       "\n",
       "   country_name country_code          ip_from  \n",
       "0       Senegal           SN      196.1.95.16  \n",
       "1  South Africa           ZA   196.210.11.182  \n",
       "2     Mauritius           MU  196.192.112.229  \n",
       "3  South Africa           ZA      196.4.161.3  \n",
       "4       Tunisia           TN     193.95.66.40  "
      ]
     },
     "execution_count": 95,
     "metadata": {},
     "output_type": "execute_result"
    }
   ],
   "source": [
    "df_probes.head()"
   ]
  },
  {
   "cell_type": "code",
   "execution_count": 96,
   "metadata": {
    "colab": {},
    "colab_type": "code",
    "id": "FsXi7gJmVolN"
   },
   "outputs": [],
   "source": [
    "ipinfo_lookup = []\n",
    "for ip in df_probes['ip_from'].values:\n",
    "  r = requests.get('http://ipinfo.io/{}?token=your-token'.format(ip))\n",
    "  ipinfo_lookup.append(r.json())"
   ]
  },
  {
   "cell_type": "code",
   "execution_count": 97,
   "metadata": {
    "colab": {
     "base_uri": "https://localhost:8080/",
     "height": 204
    },
    "colab_type": "code",
    "id": "tr1uA1s6bZJg",
    "outputId": "176a49c8-014f-4eee-c6aa-3db474a9bfcb"
   },
   "outputs": [
    {
     "data": {
      "text/html": [
       "<div>\n",
       "<style scoped>\n",
       "    .dataframe tbody tr th:only-of-type {\n",
       "        vertical-align: middle;\n",
       "    }\n",
       "\n",
       "    .dataframe tbody tr th {\n",
       "        vertical-align: top;\n",
       "    }\n",
       "\n",
       "    .dataframe thead th {\n",
       "        text-align: right;\n",
       "    }\n",
       "</style>\n",
       "<table border=\"1\" class=\"dataframe\">\n",
       "  <thead>\n",
       "    <tr style=\"text-align: right;\">\n",
       "      <th></th>\n",
       "      <th>city</th>\n",
       "      <th>country</th>\n",
       "      <th>hostname</th>\n",
       "      <th>ip</th>\n",
       "      <th>loc</th>\n",
       "      <th>org</th>\n",
       "      <th>postal</th>\n",
       "      <th>region</th>\n",
       "    </tr>\n",
       "  </thead>\n",
       "  <tbody>\n",
       "    <tr>\n",
       "      <th>0</th>\n",
       "      <td></td>\n",
       "      <td>SN</td>\n",
       "      <td>dkr-sn.probe.atlas.ucad.sn</td>\n",
       "      <td>196.1.95.16</td>\n",
       "      <td>14.0000,-14.0000</td>\n",
       "      <td>AS8346 SONATEL-AS Autonomous System</td>\n",
       "      <td>NaN</td>\n",
       "      <td></td>\n",
       "    </tr>\n",
       "    <tr>\n",
       "      <th>1</th>\n",
       "      <td>Cape Town</td>\n",
       "      <td>ZA</td>\n",
       "      <td>196-210-11-182.dynamic.isadsl.co.za</td>\n",
       "      <td>196.210.11.182</td>\n",
       "      <td>-33.9258,18.4232</td>\n",
       "      <td>AS3741 Internet Solutions</td>\n",
       "      <td>7945</td>\n",
       "      <td>Western Cape</td>\n",
       "    </tr>\n",
       "    <tr>\n",
       "      <th>2</th>\n",
       "      <td></td>\n",
       "      <td>MU</td>\n",
       "      <td>p446.probes.atlas.ripe.net</td>\n",
       "      <td>196.192.112.229</td>\n",
       "      <td>-20.2833,57.5500</td>\n",
       "      <td>AS37708 African Network Information Center - (...</td>\n",
       "      <td>NaN</td>\n",
       "      <td></td>\n",
       "    </tr>\n",
       "    <tr>\n",
       "      <th>3</th>\n",
       "      <td></td>\n",
       "      <td>ZA</td>\n",
       "      <td>ripe-ncc.is.co.za</td>\n",
       "      <td>196.4.161.3</td>\n",
       "      <td>-29.0000,24.0000</td>\n",
       "      <td>AS3741 Internet Solutions</td>\n",
       "      <td>NaN</td>\n",
       "      <td></td>\n",
       "    </tr>\n",
       "    <tr>\n",
       "      <th>4</th>\n",
       "      <td>Tunis</td>\n",
       "      <td>TN</td>\n",
       "      <td>NaN</td>\n",
       "      <td>193.95.66.40</td>\n",
       "      <td>36.8190,10.1658</td>\n",
       "      <td>AS2609 Tunisia BackBone AS</td>\n",
       "      <td>NaN</td>\n",
       "      <td>Tūnis</td>\n",
       "    </tr>\n",
       "  </tbody>\n",
       "</table>\n",
       "</div>"
      ],
      "text/plain": [
       "        city country                             hostname               ip  \\\n",
       "0                 SN           dkr-sn.probe.atlas.ucad.sn      196.1.95.16   \n",
       "1  Cape Town      ZA  196-210-11-182.dynamic.isadsl.co.za   196.210.11.182   \n",
       "2                 MU           p446.probes.atlas.ripe.net  196.192.112.229   \n",
       "3                 ZA                    ripe-ncc.is.co.za      196.4.161.3   \n",
       "4      Tunis      TN                                  NaN     193.95.66.40   \n",
       "\n",
       "                loc                                                org postal  \\\n",
       "0  14.0000,-14.0000                AS8346 SONATEL-AS Autonomous System    NaN   \n",
       "1  -33.9258,18.4232                          AS3741 Internet Solutions   7945   \n",
       "2  -20.2833,57.5500  AS37708 African Network Information Center - (...    NaN   \n",
       "3  -29.0000,24.0000                          AS3741 Internet Solutions    NaN   \n",
       "4   36.8190,10.1658                         AS2609 Tunisia BackBone AS    NaN   \n",
       "\n",
       "         region  \n",
       "0                \n",
       "1  Western Cape  \n",
       "2                \n",
       "3                \n",
       "4         Tūnis  "
      ]
     },
     "execution_count": 97,
     "metadata": {},
     "output_type": "execute_result"
    }
   ],
   "source": [
    "df_ip_info = pd.DataFrame(ipinfo_lookup)\n",
    "df_ip_info.head()"
   ]
  },
  {
   "cell_type": "code",
   "execution_count": 98,
   "metadata": {
    "colab": {
     "base_uri": "https://localhost:8080/",
     "height": 479
    },
    "colab_type": "code",
    "id": "27WGfj2ad0wM",
    "outputId": "e4e1a3b1-eaeb-4753-d1a7-87f01637b316"
   },
   "outputs": [
    {
     "data": {
      "text/html": [
       "<div>\n",
       "<style scoped>\n",
       "    .dataframe tbody tr th:only-of-type {\n",
       "        vertical-align: middle;\n",
       "    }\n",
       "\n",
       "    .dataframe tbody tr th {\n",
       "        vertical-align: top;\n",
       "    }\n",
       "\n",
       "    .dataframe thead th {\n",
       "        text-align: right;\n",
       "    }\n",
       "</style>\n",
       "<table border=\"1\" class=\"dataframe\">\n",
       "  <thead>\n",
       "    <tr style=\"text-align: right;\">\n",
       "      <th></th>\n",
       "      <th>prb_id</th>\n",
       "      <th>ip_v4</th>\n",
       "      <th>asn</th>\n",
       "      <th>description</th>\n",
       "      <th>lon</th>\n",
       "      <th>lat</th>\n",
       "      <th>country_name</th>\n",
       "      <th>country_code</th>\n",
       "      <th>ip_from</th>\n",
       "      <th>city</th>\n",
       "      <th>country</th>\n",
       "      <th>hostname</th>\n",
       "      <th>ip</th>\n",
       "      <th>loc</th>\n",
       "      <th>org</th>\n",
       "      <th>postal</th>\n",
       "      <th>region</th>\n",
       "    </tr>\n",
       "  </thead>\n",
       "  <tbody>\n",
       "    <tr>\n",
       "      <th>0</th>\n",
       "      <td>239</td>\n",
       "      <td>196.1.95.16</td>\n",
       "      <td>8346</td>\n",
       "      <td>UCAD Probe</td>\n",
       "      <td>-17.4415</td>\n",
       "      <td>14.6715</td>\n",
       "      <td>Senegal</td>\n",
       "      <td>SN</td>\n",
       "      <td>196.1.95.16</td>\n",
       "      <td></td>\n",
       "      <td>SN</td>\n",
       "      <td>dkr-sn.probe.atlas.ucad.sn</td>\n",
       "      <td>196.1.95.16</td>\n",
       "      <td>14.0000,-14.0000</td>\n",
       "      <td>AS8346 SONATEL-AS Autonomous System</td>\n",
       "      <td>NaN</td>\n",
       "      <td></td>\n",
       "    </tr>\n",
       "    <tr>\n",
       "      <th>1</th>\n",
       "      <td>242</td>\n",
       "      <td>None</td>\n",
       "      <td>328453</td>\n",
       "      <td>1 Belvedere</td>\n",
       "      <td>18.4895</td>\n",
       "      <td>-33.9815</td>\n",
       "      <td>South Africa</td>\n",
       "      <td>ZA</td>\n",
       "      <td>196.210.11.182</td>\n",
       "      <td>Cape Town</td>\n",
       "      <td>ZA</td>\n",
       "      <td>196-210-11-182.dynamic.isadsl.co.za</td>\n",
       "      <td>196.210.11.182</td>\n",
       "      <td>-33.9258,18.4232</td>\n",
       "      <td>AS3741 Internet Solutions</td>\n",
       "      <td>7945</td>\n",
       "      <td>Western Cape</td>\n",
       "    </tr>\n",
       "    <tr>\n",
       "      <th>2</th>\n",
       "      <td>446</td>\n",
       "      <td>196.192.112.229</td>\n",
       "      <td>37708</td>\n",
       "      <td>AFRINIC Mauritius</td>\n",
       "      <td>57.4995</td>\n",
       "      <td>-20.2395</td>\n",
       "      <td>Mauritius</td>\n",
       "      <td>MU</td>\n",
       "      <td>196.192.112.229</td>\n",
       "      <td></td>\n",
       "      <td>MU</td>\n",
       "      <td>p446.probes.atlas.ripe.net</td>\n",
       "      <td>196.192.112.229</td>\n",
       "      <td>-20.2833,57.5500</td>\n",
       "      <td>AS37708 African Network Information Center - (...</td>\n",
       "      <td>NaN</td>\n",
       "      <td></td>\n",
       "    </tr>\n",
       "    <tr>\n",
       "      <th>3</th>\n",
       "      <td>473</td>\n",
       "      <td>196.4.161.3</td>\n",
       "      <td>3741</td>\n",
       "      <td>Internet Solutions [http://www.is.co.za] - Ros...</td>\n",
       "      <td>28.0405</td>\n",
       "      <td>-26.1515</td>\n",
       "      <td>South Africa</td>\n",
       "      <td>ZA</td>\n",
       "      <td>196.4.161.3</td>\n",
       "      <td></td>\n",
       "      <td>ZA</td>\n",
       "      <td>ripe-ncc.is.co.za</td>\n",
       "      <td>196.4.161.3</td>\n",
       "      <td>-29.0000,24.0000</td>\n",
       "      <td>AS3741 Internet Solutions</td>\n",
       "      <td>NaN</td>\n",
       "      <td></td>\n",
       "    </tr>\n",
       "    <tr>\n",
       "      <th>4</th>\n",
       "      <td>567</td>\n",
       "      <td>193.95.66.40</td>\n",
       "      <td>2609</td>\n",
       "      <td>ATI, BELVEDERE, 1G/s</td>\n",
       "      <td>10.1805</td>\n",
       "      <td>36.8205</td>\n",
       "      <td>Tunisia</td>\n",
       "      <td>TN</td>\n",
       "      <td>193.95.66.40</td>\n",
       "      <td>Tunis</td>\n",
       "      <td>TN</td>\n",
       "      <td>NaN</td>\n",
       "      <td>193.95.66.40</td>\n",
       "      <td>36.8190,10.1658</td>\n",
       "      <td>AS2609 Tunisia BackBone AS</td>\n",
       "      <td>NaN</td>\n",
       "      <td>Tūnis</td>\n",
       "    </tr>\n",
       "  </tbody>\n",
       "</table>\n",
       "</div>"
      ],
      "text/plain": [
       "   prb_id            ip_v4     asn  \\\n",
       "0     239      196.1.95.16    8346   \n",
       "1     242             None  328453   \n",
       "2     446  196.192.112.229   37708   \n",
       "3     473      196.4.161.3    3741   \n",
       "4     567     193.95.66.40    2609   \n",
       "\n",
       "                                         description      lon      lat  \\\n",
       "0                                         UCAD Probe -17.4415  14.6715   \n",
       "1                                        1 Belvedere  18.4895 -33.9815   \n",
       "2                                  AFRINIC Mauritius  57.4995 -20.2395   \n",
       "3  Internet Solutions [http://www.is.co.za] - Ros...  28.0405 -26.1515   \n",
       "4                               ATI, BELVEDERE, 1G/s  10.1805  36.8205   \n",
       "\n",
       "   country_name country_code          ip_from       city country  \\\n",
       "0       Senegal           SN      196.1.95.16                 SN   \n",
       "1  South Africa           ZA   196.210.11.182  Cape Town      ZA   \n",
       "2     Mauritius           MU  196.192.112.229                 MU   \n",
       "3  South Africa           ZA      196.4.161.3                 ZA   \n",
       "4       Tunisia           TN     193.95.66.40      Tunis      TN   \n",
       "\n",
       "                              hostname               ip               loc  \\\n",
       "0           dkr-sn.probe.atlas.ucad.sn      196.1.95.16  14.0000,-14.0000   \n",
       "1  196-210-11-182.dynamic.isadsl.co.za   196.210.11.182  -33.9258,18.4232   \n",
       "2           p446.probes.atlas.ripe.net  196.192.112.229  -20.2833,57.5500   \n",
       "3                    ripe-ncc.is.co.za      196.4.161.3  -29.0000,24.0000   \n",
       "4                                  NaN     193.95.66.40   36.8190,10.1658   \n",
       "\n",
       "                                                 org postal        region  \n",
       "0                AS8346 SONATEL-AS Autonomous System    NaN                \n",
       "1                          AS3741 Internet Solutions   7945  Western Cape  \n",
       "2  AS37708 African Network Information Center - (...    NaN                \n",
       "3                          AS3741 Internet Solutions    NaN                \n",
       "4                         AS2609 Tunisia BackBone AS    NaN         Tūnis  "
      ]
     },
     "execution_count": 98,
     "metadata": {},
     "output_type": "execute_result"
    }
   ],
   "source": [
    "df_probes = pd.merge(df_probes, df_ip_info, left_on='ip_from', right_on='ip', how='left') \n",
    "df_probes.head()"
   ]
  },
  {
   "cell_type": "code",
   "execution_count": 99,
   "metadata": {
    "colab": {},
    "colab_type": "code",
    "id": "OQTDye1WfqHG"
   },
   "outputs": [],
   "source": [
    "df_probes = df_probes[['prb_id', 'ip', 'asn', 'hostname', 'org', 'description', 'country_name', 'country_code', 'region', 'city', 'lon', 'lat']]"
   ]
  },
  {
   "cell_type": "code",
   "execution_count": 100,
   "metadata": {
    "colab": {
     "base_uri": "https://localhost:8080/",
     "height": 272
    },
    "colab_type": "code",
    "id": "pb4GGvA3f1Um",
    "outputId": "8760e242-3c52-4961-bd52-6a62281ab48d"
   },
   "outputs": [
    {
     "data": {
      "text/html": [
       "<div>\n",
       "<style scoped>\n",
       "    .dataframe tbody tr th:only-of-type {\n",
       "        vertical-align: middle;\n",
       "    }\n",
       "\n",
       "    .dataframe tbody tr th {\n",
       "        vertical-align: top;\n",
       "    }\n",
       "\n",
       "    .dataframe thead th {\n",
       "        text-align: right;\n",
       "    }\n",
       "</style>\n",
       "<table border=\"1\" class=\"dataframe\">\n",
       "  <thead>\n",
       "    <tr style=\"text-align: right;\">\n",
       "      <th></th>\n",
       "      <th>prb_id</th>\n",
       "      <th>ip</th>\n",
       "      <th>asn</th>\n",
       "      <th>hostname</th>\n",
       "      <th>org</th>\n",
       "      <th>description</th>\n",
       "      <th>country_name</th>\n",
       "      <th>country_code</th>\n",
       "      <th>region</th>\n",
       "      <th>city</th>\n",
       "      <th>lon</th>\n",
       "      <th>lat</th>\n",
       "    </tr>\n",
       "  </thead>\n",
       "  <tbody>\n",
       "    <tr>\n",
       "      <th>0</th>\n",
       "      <td>239</td>\n",
       "      <td>196.1.95.16</td>\n",
       "      <td>8346</td>\n",
       "      <td>dkr-sn.probe.atlas.ucad.sn</td>\n",
       "      <td>AS8346 SONATEL-AS Autonomous System</td>\n",
       "      <td>UCAD Probe</td>\n",
       "      <td>Senegal</td>\n",
       "      <td>SN</td>\n",
       "      <td></td>\n",
       "      <td></td>\n",
       "      <td>-17.4415</td>\n",
       "      <td>14.6715</td>\n",
       "    </tr>\n",
       "    <tr>\n",
       "      <th>1</th>\n",
       "      <td>242</td>\n",
       "      <td>196.210.11.182</td>\n",
       "      <td>328453</td>\n",
       "      <td>196-210-11-182.dynamic.isadsl.co.za</td>\n",
       "      <td>AS3741 Internet Solutions</td>\n",
       "      <td>1 Belvedere</td>\n",
       "      <td>South Africa</td>\n",
       "      <td>ZA</td>\n",
       "      <td>Western Cape</td>\n",
       "      <td>Cape Town</td>\n",
       "      <td>18.4895</td>\n",
       "      <td>-33.9815</td>\n",
       "    </tr>\n",
       "    <tr>\n",
       "      <th>2</th>\n",
       "      <td>446</td>\n",
       "      <td>196.192.112.229</td>\n",
       "      <td>37708</td>\n",
       "      <td>p446.probes.atlas.ripe.net</td>\n",
       "      <td>AS37708 African Network Information Center - (...</td>\n",
       "      <td>AFRINIC Mauritius</td>\n",
       "      <td>Mauritius</td>\n",
       "      <td>MU</td>\n",
       "      <td></td>\n",
       "      <td></td>\n",
       "      <td>57.4995</td>\n",
       "      <td>-20.2395</td>\n",
       "    </tr>\n",
       "    <tr>\n",
       "      <th>3</th>\n",
       "      <td>473</td>\n",
       "      <td>196.4.161.3</td>\n",
       "      <td>3741</td>\n",
       "      <td>ripe-ncc.is.co.za</td>\n",
       "      <td>AS3741 Internet Solutions</td>\n",
       "      <td>Internet Solutions [http://www.is.co.za] - Ros...</td>\n",
       "      <td>South Africa</td>\n",
       "      <td>ZA</td>\n",
       "      <td></td>\n",
       "      <td></td>\n",
       "      <td>28.0405</td>\n",
       "      <td>-26.1515</td>\n",
       "    </tr>\n",
       "    <tr>\n",
       "      <th>4</th>\n",
       "      <td>567</td>\n",
       "      <td>193.95.66.40</td>\n",
       "      <td>2609</td>\n",
       "      <td>NaN</td>\n",
       "      <td>AS2609 Tunisia BackBone AS</td>\n",
       "      <td>ATI, BELVEDERE, 1G/s</td>\n",
       "      <td>Tunisia</td>\n",
       "      <td>TN</td>\n",
       "      <td>Tūnis</td>\n",
       "      <td>Tunis</td>\n",
       "      <td>10.1805</td>\n",
       "      <td>36.8205</td>\n",
       "    </tr>\n",
       "  </tbody>\n",
       "</table>\n",
       "</div>"
      ],
      "text/plain": [
       "   prb_id               ip     asn                             hostname  \\\n",
       "0     239      196.1.95.16    8346           dkr-sn.probe.atlas.ucad.sn   \n",
       "1     242   196.210.11.182  328453  196-210-11-182.dynamic.isadsl.co.za   \n",
       "2     446  196.192.112.229   37708           p446.probes.atlas.ripe.net   \n",
       "3     473      196.4.161.3    3741                    ripe-ncc.is.co.za   \n",
       "4     567     193.95.66.40    2609                                  NaN   \n",
       "\n",
       "                                                 org  \\\n",
       "0                AS8346 SONATEL-AS Autonomous System   \n",
       "1                          AS3741 Internet Solutions   \n",
       "2  AS37708 African Network Information Center - (...   \n",
       "3                          AS3741 Internet Solutions   \n",
       "4                         AS2609 Tunisia BackBone AS   \n",
       "\n",
       "                                         description  country_name  \\\n",
       "0                                         UCAD Probe       Senegal   \n",
       "1                                        1 Belvedere  South Africa   \n",
       "2                                  AFRINIC Mauritius     Mauritius   \n",
       "3  Internet Solutions [http://www.is.co.za] - Ros...  South Africa   \n",
       "4                               ATI, BELVEDERE, 1G/s       Tunisia   \n",
       "\n",
       "  country_code        region       city      lon      lat  \n",
       "0           SN                          -17.4415  14.6715  \n",
       "1           ZA  Western Cape  Cape Town  18.4895 -33.9815  \n",
       "2           MU                           57.4995 -20.2395  \n",
       "3           ZA                           28.0405 -26.1515  \n",
       "4           TN         Tūnis      Tunis  10.1805  36.8205  "
      ]
     },
     "execution_count": 100,
     "metadata": {},
     "output_type": "execute_result"
    }
   ],
   "source": [
    "df_probes.head()"
   ]
  },
  {
   "cell_type": "code",
   "execution_count": 101,
   "metadata": {},
   "outputs": [],
   "source": [
    "# Saving probes description as csv\n",
    "utils.df_to_csv(df_probes, prefix_name='probes')"
   ]
  },
  {
   "cell_type": "markdown",
   "metadata": {
    "colab_type": "text",
    "id": "tgix6Tr-XFya"
   },
   "source": [
    "### I.3 Merging measurements and probes\n",
    "<a id='merge-measurements-probes'>"
   ]
  },
  {
   "cell_type": "code",
   "execution_count": 0,
   "metadata": {
    "colab": {},
    "colab_type": "code",
    "id": "jhdvZlWbXFyb"
   },
   "outputs": [],
   "source": [
    "# Joining/merging with country code to get full country name\n",
    "data = pd.merge(df.reset_index(), df_probes, left_on='prb_id', right_on='prb_id', how='left')"
   ]
  },
  {
   "cell_type": "code",
   "execution_count": 0,
   "metadata": {
    "colab": {
     "base_uri": "https://localhost:8080/",
     "height": 719
    },
    "colab_type": "code",
    "id": "Qzv6TpWLXFye",
    "outputId": "a024a627-3387-4483-fdc8-6887e7f54eed"
   },
   "outputs": [
    {
     "data": {
      "text/html": [
       "<div>\n",
       "<style scoped>\n",
       "    .dataframe tbody tr th:only-of-type {\n",
       "        vertical-align: middle;\n",
       "    }\n",
       "\n",
       "    .dataframe tbody tr th {\n",
       "        vertical-align: top;\n",
       "    }\n",
       "\n",
       "    .dataframe thead th {\n",
       "        text-align: right;\n",
       "    }\n",
       "</style>\n",
       "<table border=\"1\" class=\"dataframe\">\n",
       "  <thead>\n",
       "    <tr style=\"text-align: right;\">\n",
       "      <th></th>\n",
       "      <th>datetime</th>\n",
       "      <th>prb_id</th>\n",
       "      <th>start_time</th>\n",
       "      <th>end_time</th>\n",
       "      <th>last_time_sync</th>\n",
       "      <th>firmware_version</th>\n",
       "      <th>nb_packets</th>\n",
       "      <th>nb_rtts</th>\n",
       "      <th>rtt</th>\n",
       "      <th>ip_v4</th>\n",
       "      <th>description</th>\n",
       "      <th>lon</th>\n",
       "      <th>lat</th>\n",
       "      <th>country_name</th>\n",
       "      <th>country_code</th>\n",
       "    </tr>\n",
       "  </thead>\n",
       "  <tbody>\n",
       "    <tr>\n",
       "      <th>0</th>\n",
       "      <td>2018-12-01 00:02:48</td>\n",
       "      <td>35067</td>\n",
       "      <td>1543622568</td>\n",
       "      <td>1543622568</td>\n",
       "      <td>206</td>\n",
       "      <td>4780</td>\n",
       "      <td>3</td>\n",
       "      <td>3</td>\n",
       "      <td>92.663667</td>\n",
       "      <td>41.249.120.100</td>\n",
       "      <td>Rue Bruxelles</td>\n",
       "      <td>-6.2395</td>\n",
       "      <td>33.8205</td>\n",
       "      <td>Morocco</td>\n",
       "      <td>MA</td>\n",
       "    </tr>\n",
       "    <tr>\n",
       "      <th>1</th>\n",
       "      <td>2018-12-01 00:02:52</td>\n",
       "      <td>27571</td>\n",
       "      <td>1543622572</td>\n",
       "      <td>1543622572</td>\n",
       "      <td>57</td>\n",
       "      <td>4940</td>\n",
       "      <td>3</td>\n",
       "      <td>3</td>\n",
       "      <td>172.185667</td>\n",
       "      <td>45.222.33.70</td>\n",
       "      <td>BennieJ Home</td>\n",
       "      <td>28.1405</td>\n",
       "      <td>-25.8125</td>\n",
       "      <td>South Africa</td>\n",
       "      <td>ZA</td>\n",
       "    </tr>\n",
       "    <tr>\n",
       "      <th>2</th>\n",
       "      <td>2018-12-01 00:02:55</td>\n",
       "      <td>21682</td>\n",
       "      <td>1543622575</td>\n",
       "      <td>1543622575</td>\n",
       "      <td>49</td>\n",
       "      <td>4940</td>\n",
       "      <td>3</td>\n",
       "      <td>3</td>\n",
       "      <td>175.827000</td>\n",
       "      <td>None</td>\n",
       "      <td>Strand</td>\n",
       "      <td>18.8315</td>\n",
       "      <td>-34.1015</td>\n",
       "      <td>South Africa</td>\n",
       "      <td>ZA</td>\n",
       "    </tr>\n",
       "    <tr>\n",
       "      <th>3</th>\n",
       "      <td>2018-12-01 00:03:00</td>\n",
       "      <td>12286</td>\n",
       "      <td>1543622580</td>\n",
       "      <td>1543622581</td>\n",
       "      <td>37</td>\n",
       "      <td>4760</td>\n",
       "      <td>3</td>\n",
       "      <td>3</td>\n",
       "      <td>169.836667</td>\n",
       "      <td>None</td>\n",
       "      <td>eNetworks Samrand</td>\n",
       "      <td>28.1415</td>\n",
       "      <td>-25.9295</td>\n",
       "      <td>South Africa</td>\n",
       "      <td>ZA</td>\n",
       "    </tr>\n",
       "    <tr>\n",
       "      <th>4</th>\n",
       "      <td>2018-12-01 00:03:01</td>\n",
       "      <td>13810</td>\n",
       "      <td>1543622581</td>\n",
       "      <td>1543622582</td>\n",
       "      <td>60</td>\n",
       "      <td>4940</td>\n",
       "      <td>3</td>\n",
       "      <td>3</td>\n",
       "      <td>179.662333</td>\n",
       "      <td>197.96.8.2</td>\n",
       "      <td>Internet Solutions [http://www.is.co.za] - Mas...</td>\n",
       "      <td>28.2275</td>\n",
       "      <td>-29.6125</td>\n",
       "      <td>Lesotho</td>\n",
       "      <td>LS</td>\n",
       "    </tr>\n",
       "    <tr>\n",
       "      <th>5</th>\n",
       "      <td>2018-12-01 00:03:01</td>\n",
       "      <td>10243</td>\n",
       "      <td>1543622581</td>\n",
       "      <td>1543622581</td>\n",
       "      <td>20</td>\n",
       "      <td>4940</td>\n",
       "      <td>3</td>\n",
       "      <td>3</td>\n",
       "      <td>151.962667</td>\n",
       "      <td>41.221.32.130</td>\n",
       "      <td>SimbaNET TZ</td>\n",
       "      <td>39.2795</td>\n",
       "      <td>-6.7915</td>\n",
       "      <td>Tanzania, United Republic of</td>\n",
       "      <td>TZ</td>\n",
       "    </tr>\n",
       "    <tr>\n",
       "      <th>6</th>\n",
       "      <td>2018-12-01 00:03:03</td>\n",
       "      <td>11383</td>\n",
       "      <td>1543622583</td>\n",
       "      <td>1543622584</td>\n",
       "      <td>45</td>\n",
       "      <td>4940</td>\n",
       "      <td>3</td>\n",
       "      <td>3</td>\n",
       "      <td>94.094000</td>\n",
       "      <td>196.1.95.103</td>\n",
       "      <td>UCAD-NG-Probe</td>\n",
       "      <td>-17.3685</td>\n",
       "      <td>14.7585</td>\n",
       "      <td>Senegal</td>\n",
       "      <td>SN</td>\n",
       "    </tr>\n",
       "    <tr>\n",
       "      <th>7</th>\n",
       "      <td>2018-12-01 00:03:04</td>\n",
       "      <td>33073</td>\n",
       "      <td>1543622584</td>\n",
       "      <td>1543622585</td>\n",
       "      <td>49</td>\n",
       "      <td>4940</td>\n",
       "      <td>3</td>\n",
       "      <td>3</td>\n",
       "      <td>171.836333</td>\n",
       "      <td>196.15.205.17</td>\n",
       "      <td>SecundaSpar</td>\n",
       "      <td>29.1905</td>\n",
       "      <td>-26.5215</td>\n",
       "      <td>South Africa</td>\n",
       "      <td>ZA</td>\n",
       "    </tr>\n",
       "    <tr>\n",
       "      <th>8</th>\n",
       "      <td>2018-12-01 00:03:04</td>\n",
       "      <td>50355</td>\n",
       "      <td>1543622584</td>\n",
       "      <td>1543622584</td>\n",
       "      <td>53</td>\n",
       "      <td>4940</td>\n",
       "      <td>3</td>\n",
       "      <td>3</td>\n",
       "      <td>177.840333</td>\n",
       "      <td>155.93.192.242</td>\n",
       "      <td>Cool Ideas FTTH client</td>\n",
       "      <td>30.8295</td>\n",
       "      <td>-29.7805</td>\n",
       "      <td>South Africa</td>\n",
       "      <td>ZA</td>\n",
       "    </tr>\n",
       "    <tr>\n",
       "      <th>9</th>\n",
       "      <td>2018-12-01 00:03:10</td>\n",
       "      <td>22252</td>\n",
       "      <td>1543622590</td>\n",
       "      <td>1543622591</td>\n",
       "      <td>71</td>\n",
       "      <td>4940</td>\n",
       "      <td>3</td>\n",
       "      <td>3</td>\n",
       "      <td>184.301667</td>\n",
       "      <td>41.72.136.130</td>\n",
       "      <td>Hetzner Africa - Johannesburg</td>\n",
       "      <td>28.1395</td>\n",
       "      <td>-25.9315</td>\n",
       "      <td>South Africa</td>\n",
       "      <td>ZA</td>\n",
       "    </tr>\n",
       "  </tbody>\n",
       "</table>\n",
       "</div>"
      ],
      "text/plain": [
       "             datetime  prb_id  ...                  country_name  country_code\n",
       "0 2018-12-01 00:02:48   35067  ...                       Morocco            MA\n",
       "1 2018-12-01 00:02:52   27571  ...                  South Africa            ZA\n",
       "2 2018-12-01 00:02:55   21682  ...                  South Africa            ZA\n",
       "3 2018-12-01 00:03:00   12286  ...                  South Africa            ZA\n",
       "4 2018-12-01 00:03:01   13810  ...                       Lesotho            LS\n",
       "5 2018-12-01 00:03:01   10243  ...  Tanzania, United Republic of            TZ\n",
       "6 2018-12-01 00:03:03   11383  ...                       Senegal            SN\n",
       "7 2018-12-01 00:03:04   33073  ...                  South Africa            ZA\n",
       "8 2018-12-01 00:03:04   50355  ...                  South Africa            ZA\n",
       "9 2018-12-01 00:03:10   22252  ...                  South Africa            ZA\n",
       "\n",
       "[10 rows x 15 columns]"
      ]
     },
     "execution_count": 21,
     "metadata": {
      "tags": []
     },
     "output_type": "execute_result"
    }
   ],
   "source": [
    "data.head(10)"
   ]
  },
  {
   "cell_type": "code",
   "execution_count": 0,
   "metadata": {
    "colab": {},
    "colab_type": "code",
    "id": "1EjO_frdXFyj"
   },
   "outputs": [],
   "source": [
    "# Saving build data frame as csv for later re-use\n",
    "#base_filename = 'data-dump-' + datetime.now().strftime('%Y-%m-%d')\n",
    "#data.to_csv(os.path.join(data_dir, base_filename + '.csv'), index=False)"
   ]
  },
  {
   "cell_type": "markdown",
   "metadata": {
    "colab_type": "text",
    "id": "7LugDcssXFyl"
   },
   "source": [
    "## II. Exploratory Data Analysis (EDA)\n",
    "<a id='data-loading'>"
   ]
  },
  {
   "cell_type": "code",
   "execution_count": 0,
   "metadata": {
    "colab": {
     "base_uri": "https://localhost:8080/",
     "height": 34
    },
    "colab_type": "code",
    "id": "vkUm2QJ6XFym",
    "outputId": "180a436f-75ed-4d47-8b90-4c7fdda0dd33"
   },
   "outputs": [
    {
     "data": {
      "text/plain": [
       "(606940, 15)"
      ]
     },
     "execution_count": 22,
     "metadata": {
      "tags": []
     },
     "output_type": "execute_result"
    }
   ],
   "source": [
    "# How many measurements and columns\n",
    "data.shape"
   ]
  },
  {
   "cell_type": "code",
   "execution_count": 0,
   "metadata": {
    "colab": {
     "base_uri": "https://localhost:8080/",
     "height": 170
    },
    "colab_type": "code",
    "id": "Eg-NjnC6XFyp",
    "outputId": "a740819a-2538-423a-9535-1739b951f547"
   },
   "outputs": [
    {
     "data": {
      "text/plain": [
       "count    564253.000000\n",
       "mean        165.532495\n",
       "std         125.118821\n",
       "min           0.483333\n",
       "25%         130.974333\n",
       "50%         169.441333\n",
       "75%         183.322000\n",
       "max        6292.648333\n",
       "Name: rtt, dtype: float64"
      ]
     },
     "execution_count": 23,
     "metadata": {
      "tags": []
     },
     "output_type": "execute_result"
    }
   ],
   "source": [
    "# Quick descriptive statistics\n",
    "data['rtt'].describe()"
   ]
  },
  {
   "cell_type": "markdown",
   "metadata": {
    "colab_type": "text",
    "id": "dUx26FAkXFys"
   },
   "source": [
    "### II.1 Round Trip Time overall histogram \n",
    "<a id='overall-histogram'>"
   ]
  },
  {
   "cell_type": "code",
   "execution_count": 0,
   "metadata": {
    "colab": {
     "base_uri": "https://localhost:8080/",
     "height": 337
    },
    "colab_type": "code",
    "id": "nwt2Y7TKXFyt",
    "outputId": "82b353b0-2bcc-4e56-c51c-1c02e56e8952"
   },
   "outputs": [
    {
     "data": {
      "image/png": "[encoded data removed]",
      "text/plain": [
       "<Figure size 720x360 with 1 Axes>"
      ]
     },
     "metadata": {
      "tags": []
     },
     "output_type": "display_data"
    }
   ],
   "source": [
    "# Quick histogram of 'rtt'\n",
    "fig, ax = plt.subplots()\n",
    "data['rtt'].hist(ax=ax, bins=100, bottom=0.1, figsize=(10, 5))\n",
    "#ax.set_yscale('log')\n",
    "ax.set_xlabel('Round Trip Time (ms)');\n",
    "ax.set_ylabel('# of Traceroute  - log scale');"
   ]
  },
  {
   "cell_type": "markdown",
   "metadata": {
    "colab_type": "text",
    "id": "4MicxUlWXFyv"
   },
   "source": [
    "### II.2 Boxplots of Round-Trip-Time (RTT) by country\n",
    "<a id='boxplot-by-country'>"
   ]
  },
  {
   "cell_type": "code",
   "execution_count": 0,
   "metadata": {
    "colab": {},
    "colab_type": "code",
    "id": "_h-RBDGYwfY0"
   },
   "outputs": [],
   "source": [
    "def get_sorted_group_vals(df, grp_col, val_col, sort_by='median', ascending=False, ):\n",
    "    \"\"\"\n",
    "    Transform a dataframe into a new one with group name as column and values as rows sorted by specified statistic (default median)\n",
    "\n",
    "    Parameters\n",
    "    ----------\n",
    "    df : dataframe to transform\n",
    "    grp_col : name of the column to group by (str)\n",
    "    val_col : name of the column containing values (str)\n",
    "    sort_by = median, mean, ... \n",
    "    ascending: sorting order (bool)\n",
    "    \"\"\"\n",
    "    group = df.groupby([grp_col])\n",
    "    df_group = pd.DataFrame({col: vals[val_col] for col,vals in group})\n",
    "    meds = getattr(df_group, sort_by)()\n",
    "    meds = meds.sort_values(ascending=False)\n",
    "    return df_group[meds.index]"
   ]
  },
  {
   "cell_type": "code",
   "execution_count": 0,
   "metadata": {
    "colab": {
     "base_uri": "https://localhost:8080/",
     "height": 595
    },
    "colab_type": "code",
    "id": "xFe384pfzE4Y",
    "outputId": "f3953ad4-d6a5-4636-89d4-155554019ef2"
   },
   "outputs": [
    {
     "data": {
      "image/png": "[encoded data removed]",
      "text/plain": [
       "<Figure size 1152x720 with 1 Axes>"
      ]
     },
     "metadata": {
      "tags": []
     },
     "output_type": "display_data"
    }
   ],
   "source": [
    "# Quick boxplots by country [\"outliers\" not displayed - showfliers=False]\n",
    "#     - sorted by rtt's median\n",
    "df_rtt_country = data[['rtt', 'country_name']]\n",
    "df_rtt_by_country = get_sorted_group_vals(df=df_rtt_country, grp_col='country_name', val_col='rtt')\n",
    "\n",
    "medianprops = dict(linestyle='-', linewidth=4)\n",
    "df_rtt_by_country.boxplot(vert=False, figsize=(16, 10), showfliers=False, medianprops=medianprops);"
   ]
  },
  {
   "cell_type": "code",
   "execution_count": 0,
   "metadata": {
    "colab": {
     "base_uri": "https://localhost:8080/",
     "height": 595
    },
    "colab_type": "code",
    "id": "_Kry_MVmXFy0",
    "outputId": "5da77b51-a374-4705-b394-a6f400500fb2"
   },
   "outputs": [
    {
     "data": {
      "image/png": "[encoded data removed]",
      "text/plain": [
       "<Figure size 1152x720 with 1 Axes>"
      ]
     },
     "metadata": {
      "tags": []
     },
     "output_type": "display_data"
    }
   ],
   "source": [
    "# With outliers displayed\n",
    "medianprops = dict(linestyle='-', linewidth=4)\n",
    "df_rtt_by_country.boxplot(vert=False, figsize=(16, 10), showfliers=True, medianprops=medianprops);"
   ]
  },
  {
   "cell_type": "markdown",
   "metadata": {
    "colab_type": "text",
    "id": "Ty-KHEAvXFy2"
   },
   "source": [
    "### II.3 Percentage of RTT outliers by country\n",
    "<a id='outliers-by-country'></a>\n",
    "\n",
    "Outliers characterization using the simple rule of thumb: \n",
    "\n",
    "* Is outlier whatever is **higher** than `Q3 + 1.5 * (Q3 - Q1)` with `Q3` and `Q1` respectively the third and first quartile."
   ]
  },
  {
   "cell_type": "code",
   "execution_count": 0,
   "metadata": {
    "colab": {
     "base_uri": "https://localhost:8080/",
     "height": 1000
    },
    "colab_type": "code",
    "id": "cl6tlcuWXFy3",
    "outputId": "750559c2-bd84-4862-cde0-9eda7e99e807"
   },
   "outputs": [
    {
     "data": {
      "text/html": [
       "<div>\n",
       "<style scoped>\n",
       "    .dataframe tbody tr th:only-of-type {\n",
       "        vertical-align: middle;\n",
       "    }\n",
       "\n",
       "    .dataframe tbody tr th {\n",
       "        vertical-align: top;\n",
       "    }\n",
       "\n",
       "    .dataframe thead th {\n",
       "        text-align: right;\n",
       "    }\n",
       "</style>\n",
       "<table border=\"1\" class=\"dataframe\">\n",
       "  <thead>\n",
       "    <tr style=\"text-align: right;\">\n",
       "      <th></th>\n",
       "      <th>q1</th>\n",
       "      <th>median</th>\n",
       "      <th>q3</th>\n",
       "      <th>iqr</th>\n",
       "      <th>percent_outliers</th>\n",
       "    </tr>\n",
       "    <tr>\n",
       "      <th>country_name</th>\n",
       "      <th></th>\n",
       "      <th></th>\n",
       "      <th></th>\n",
       "      <th></th>\n",
       "      <th></th>\n",
       "    </tr>\n",
       "  </thead>\n",
       "  <tbody>\n",
       "    <tr>\n",
       "      <th>Togo</th>\n",
       "      <td>112.976917</td>\n",
       "      <td>115.077500</td>\n",
       "      <td>120.474833</td>\n",
       "      <td>7.497917</td>\n",
       "      <td>23.00</td>\n",
       "    </tr>\n",
       "    <tr>\n",
       "      <th>Nigeria</th>\n",
       "      <td>114.230333</td>\n",
       "      <td>114.422000</td>\n",
       "      <td>115.975500</td>\n",
       "      <td>1.745167</td>\n",
       "      <td>22.34</td>\n",
       "    </tr>\n",
       "    <tr>\n",
       "      <th>Mozambique</th>\n",
       "      <td>182.784667</td>\n",
       "      <td>183.784667</td>\n",
       "      <td>184.988667</td>\n",
       "      <td>2.204000</td>\n",
       "      <td>18.10</td>\n",
       "    </tr>\n",
       "    <tr>\n",
       "      <th>Tanzania, United Republic of</th>\n",
       "      <td>146.896667</td>\n",
       "      <td>149.472333</td>\n",
       "      <td>153.363167</td>\n",
       "      <td>6.466500</td>\n",
       "      <td>17.20</td>\n",
       "    </tr>\n",
       "    <tr>\n",
       "      <th>Mauritius</th>\n",
       "      <td>212.384250</td>\n",
       "      <td>215.176500</td>\n",
       "      <td>232.840833</td>\n",
       "      <td>20.456583</td>\n",
       "      <td>16.74</td>\n",
       "    </tr>\n",
       "    <tr>\n",
       "      <th>Egypt</th>\n",
       "      <td>71.613833</td>\n",
       "      <td>86.084500</td>\n",
       "      <td>97.820000</td>\n",
       "      <td>26.206167</td>\n",
       "      <td>13.82</td>\n",
       "    </tr>\n",
       "    <tr>\n",
       "      <th>Benin</th>\n",
       "      <td>117.818000</td>\n",
       "      <td>118.161333</td>\n",
       "      <td>123.266000</td>\n",
       "      <td>5.448000</td>\n",
       "      <td>13.78</td>\n",
       "    </tr>\n",
       "    <tr>\n",
       "      <th>Zambia</th>\n",
       "      <td>217.323667</td>\n",
       "      <td>219.807333</td>\n",
       "      <td>221.457333</td>\n",
       "      <td>4.133667</td>\n",
       "      <td>10.28</td>\n",
       "    </tr>\n",
       "    <tr>\n",
       "      <th>Sudan</th>\n",
       "      <td>101.222000</td>\n",
       "      <td>116.574000</td>\n",
       "      <td>123.577583</td>\n",
       "      <td>22.355583</td>\n",
       "      <td>10.22</td>\n",
       "    </tr>\n",
       "    <tr>\n",
       "      <th>Djibouti</th>\n",
       "      <td>113.271667</td>\n",
       "      <td>114.076333</td>\n",
       "      <td>116.428667</td>\n",
       "      <td>3.157000</td>\n",
       "      <td>10.18</td>\n",
       "    </tr>\n",
       "    <tr>\n",
       "      <th>Senegal</th>\n",
       "      <td>104.651917</td>\n",
       "      <td>116.318167</td>\n",
       "      <td>199.194750</td>\n",
       "      <td>94.542833</td>\n",
       "      <td>8.95</td>\n",
       "    </tr>\n",
       "    <tr>\n",
       "      <th>Uganda</th>\n",
       "      <td>163.653250</td>\n",
       "      <td>178.779333</td>\n",
       "      <td>191.885750</td>\n",
       "      <td>28.232500</td>\n",
       "      <td>8.71</td>\n",
       "    </tr>\n",
       "    <tr>\n",
       "      <th>Madagascar</th>\n",
       "      <td>224.031167</td>\n",
       "      <td>226.337333</td>\n",
       "      <td>234.785000</td>\n",
       "      <td>10.753833</td>\n",
       "      <td>8.38</td>\n",
       "    </tr>\n",
       "    <tr>\n",
       "      <th>Algeria</th>\n",
       "      <td>74.586583</td>\n",
       "      <td>78.512667</td>\n",
       "      <td>91.214167</td>\n",
       "      <td>16.627583</td>\n",
       "      <td>7.26</td>\n",
       "    </tr>\n",
       "    <tr>\n",
       "      <th>Congo</th>\n",
       "      <td>165.091417</td>\n",
       "      <td>173.800500</td>\n",
       "      <td>174.562167</td>\n",
       "      <td>9.470750</td>\n",
       "      <td>7.16</td>\n",
       "    </tr>\n",
       "    <tr>\n",
       "      <th>Cameroon</th>\n",
       "      <td>121.658000</td>\n",
       "      <td>133.506000</td>\n",
       "      <td>148.843833</td>\n",
       "      <td>27.185833</td>\n",
       "      <td>6.24</td>\n",
       "    </tr>\n",
       "    <tr>\n",
       "      <th>Morocco</th>\n",
       "      <td>71.716667</td>\n",
       "      <td>89.064000</td>\n",
       "      <td>94.933583</td>\n",
       "      <td>23.216917</td>\n",
       "      <td>5.30</td>\n",
       "    </tr>\n",
       "    <tr>\n",
       "      <th>Eswatini</th>\n",
       "      <td>173.900583</td>\n",
       "      <td>174.144833</td>\n",
       "      <td>174.564667</td>\n",
       "      <td>0.664083</td>\n",
       "      <td>4.44</td>\n",
       "    </tr>\n",
       "    <tr>\n",
       "      <th>South Africa</th>\n",
       "      <td>161.018333</td>\n",
       "      <td>171.683167</td>\n",
       "      <td>178.791333</td>\n",
       "      <td>17.773000</td>\n",
       "      <td>4.42</td>\n",
       "    </tr>\n",
       "    <tr>\n",
       "      <th>Tunisia</th>\n",
       "      <td>68.354417</td>\n",
       "      <td>86.143833</td>\n",
       "      <td>93.117750</td>\n",
       "      <td>24.763333</td>\n",
       "      <td>4.30</td>\n",
       "    </tr>\n",
       "    <tr>\n",
       "      <th>Lesotho</th>\n",
       "      <td>179.176917</td>\n",
       "      <td>179.365667</td>\n",
       "      <td>179.716083</td>\n",
       "      <td>0.539167</td>\n",
       "      <td>2.95</td>\n",
       "    </tr>\n",
       "    <tr>\n",
       "      <th>Congo (Democratic Republic of the)</th>\n",
       "      <td>7.409750</td>\n",
       "      <td>134.349000</td>\n",
       "      <td>134.979667</td>\n",
       "      <td>127.569917</td>\n",
       "      <td>2.69</td>\n",
       "    </tr>\n",
       "    <tr>\n",
       "      <th>Gambia</th>\n",
       "      <td>83.432167</td>\n",
       "      <td>83.873667</td>\n",
       "      <td>84.217167</td>\n",
       "      <td>0.785000</td>\n",
       "      <td>2.49</td>\n",
       "    </tr>\n",
       "    <tr>\n",
       "      <th>Malawi</th>\n",
       "      <td>191.879500</td>\n",
       "      <td>209.379333</td>\n",
       "      <td>213.022333</td>\n",
       "      <td>21.142833</td>\n",
       "      <td>2.14</td>\n",
       "    </tr>\n",
       "    <tr>\n",
       "      <th>Ethiopia</th>\n",
       "      <td>115.128000</td>\n",
       "      <td>124.204333</td>\n",
       "      <td>144.368000</td>\n",
       "      <td>29.240000</td>\n",
       "      <td>2.02</td>\n",
       "    </tr>\n",
       "    <tr>\n",
       "      <th>Burundi</th>\n",
       "      <td>0.839667</td>\n",
       "      <td>174.637167</td>\n",
       "      <td>177.082583</td>\n",
       "      <td>176.242917</td>\n",
       "      <td>2.01</td>\n",
       "    </tr>\n",
       "    <tr>\n",
       "      <th>South Sudan</th>\n",
       "      <td>196.043000</td>\n",
       "      <td>198.686333</td>\n",
       "      <td>200.024333</td>\n",
       "      <td>3.981333</td>\n",
       "      <td>1.36</td>\n",
       "    </tr>\n",
       "    <tr>\n",
       "      <th>Zimbabwe</th>\n",
       "      <td>187.451500</td>\n",
       "      <td>194.286000</td>\n",
       "      <td>213.620167</td>\n",
       "      <td>26.168667</td>\n",
       "      <td>1.27</td>\n",
       "    </tr>\n",
       "    <tr>\n",
       "      <th>Rwanda</th>\n",
       "      <td>217.640500</td>\n",
       "      <td>218.802333</td>\n",
       "      <td>229.737333</td>\n",
       "      <td>12.096833</td>\n",
       "      <td>1.26</td>\n",
       "    </tr>\n",
       "    <tr>\n",
       "      <th>Ghana</th>\n",
       "      <td>109.382667</td>\n",
       "      <td>109.904333</td>\n",
       "      <td>161.965000</td>\n",
       "      <td>52.582333</td>\n",
       "      <td>0.83</td>\n",
       "    </tr>\n",
       "    <tr>\n",
       "      <th>Angola</th>\n",
       "      <td>227.944083</td>\n",
       "      <td>229.562000</td>\n",
       "      <td>230.325667</td>\n",
       "      <td>2.381583</td>\n",
       "      <td>0.50</td>\n",
       "    </tr>\n",
       "    <tr>\n",
       "      <th>Botswana</th>\n",
       "      <td>2.109333</td>\n",
       "      <td>185.464333</td>\n",
       "      <td>191.235833</td>\n",
       "      <td>189.126500</td>\n",
       "      <td>0.47</td>\n",
       "    </tr>\n",
       "    <tr>\n",
       "      <th>Kenya</th>\n",
       "      <td>145.891667</td>\n",
       "      <td>164.617833</td>\n",
       "      <td>201.848417</td>\n",
       "      <td>55.956750</td>\n",
       "      <td>0.30</td>\n",
       "    </tr>\n",
       "    <tr>\n",
       "      <th>Seychelles</th>\n",
       "      <td>0.787667</td>\n",
       "      <td>0.894333</td>\n",
       "      <td>164.185833</td>\n",
       "      <td>163.398167</td>\n",
       "      <td>0.00</td>\n",
       "    </tr>\n",
       "  </tbody>\n",
       "</table>\n",
       "</div>"
      ],
      "text/plain": [
       "                                            q1  ...  percent_outliers\n",
       "country_name                                    ...                  \n",
       "Togo                                112.976917  ...             23.00\n",
       "Nigeria                             114.230333  ...             22.34\n",
       "Mozambique                          182.784667  ...             18.10\n",
       "Tanzania, United Republic of        146.896667  ...             17.20\n",
       "Mauritius                           212.384250  ...             16.74\n",
       "Egypt                                71.613833  ...             13.82\n",
       "Benin                               117.818000  ...             13.78\n",
       "Zambia                              217.323667  ...             10.28\n",
       "Sudan                               101.222000  ...             10.22\n",
       "Djibouti                            113.271667  ...             10.18\n",
       "Senegal                             104.651917  ...              8.95\n",
       "Uganda                              163.653250  ...              8.71\n",
       "Madagascar                          224.031167  ...              8.38\n",
       "Algeria                              74.586583  ...              7.26\n",
       "Congo                               165.091417  ...              7.16\n",
       "Cameroon                            121.658000  ...              6.24\n",
       "Morocco                              71.716667  ...              5.30\n",
       "Eswatini                            173.900583  ...              4.44\n",
       "South Africa                        161.018333  ...              4.42\n",
       "Tunisia                              68.354417  ...              4.30\n",
       "Lesotho                             179.176917  ...              2.95\n",
       "Congo (Democratic Republic of the)    7.409750  ...              2.69\n",
       "Gambia                               83.432167  ...              2.49\n",
       "Malawi                              191.879500  ...              2.14\n",
       "Ethiopia                            115.128000  ...              2.02\n",
       "Burundi                               0.839667  ...              2.01\n",
       "South Sudan                         196.043000  ...              1.36\n",
       "Zimbabwe                            187.451500  ...              1.27\n",
       "Rwanda                              217.640500  ...              1.26\n",
       "Ghana                               109.382667  ...              0.83\n",
       "Angola                              227.944083  ...              0.50\n",
       "Botswana                              2.109333  ...              0.47\n",
       "Kenya                               145.891667  ...              0.30\n",
       "Seychelles                            0.787667  ...              0.00\n",
       "\n",
       "[34 rows x 5 columns]"
      ]
     },
     "execution_count": 28,
     "metadata": {
      "tags": []
     },
     "output_type": "execute_result"
    }
   ],
   "source": [
    "def describe_outliers(series):\n",
    "    q1, median, q3 = series.quantile(q=[.25, .5, .75])\n",
    "    iqr = q3 - q1\n",
    "    percent_outliers = np.round(100*np.sum(series > 1.5*iqr + q3)/len(series), 2)\n",
    "    return pd.Series({'q1': q1, 'median': median, 'q3': q3, 'iqr': iqr,\n",
    "                      'percent_outliers': percent_outliers})\n",
    "\n",
    "data.dropna(subset=['rtt'])\\\n",
    "    .groupby('country_name')['rtt']\\\n",
    "    .apply(describe_outliers)\\\n",
    "    .unstack()\\\n",
    "    .sort_values(by='percent_outliers', ascending=False)"
   ]
  },
  {
   "cell_type": "markdown",
   "metadata": {
    "colab_type": "text",
    "id": "aiVEGLXmXFy5"
   },
   "source": [
    "### II.4 How many probes and measurements per country?\n",
    "<a id='nb-probes-measurements-per-country'>"
   ]
  },
  {
   "cell_type": "code",
   "execution_count": 0,
   "metadata": {
    "colab": {
     "base_uri": "https://localhost:8080/",
     "height": 1000
    },
    "colab_type": "code",
    "id": "-FG7gNgnXFy6",
    "outputId": "68dfd24d-681d-41d9-ed9d-712ef8b65e21"
   },
   "outputs": [
    {
     "data": {
      "text/html": [
       "<div>\n",
       "<style scoped>\n",
       "    .dataframe tbody tr th:only-of-type {\n",
       "        vertical-align: middle;\n",
       "    }\n",
       "\n",
       "    .dataframe tbody tr th {\n",
       "        vertical-align: top;\n",
       "    }\n",
       "\n",
       "    .dataframe thead th {\n",
       "        text-align: right;\n",
       "    }\n",
       "</style>\n",
       "<table border=\"1\" class=\"dataframe\">\n",
       "  <thead>\n",
       "    <tr style=\"text-align: right;\">\n",
       "      <th></th>\n",
       "      <th>nb_of_probes</th>\n",
       "      <th>nb_of_measurements</th>\n",
       "    </tr>\n",
       "    <tr>\n",
       "      <th>country_name</th>\n",
       "      <th></th>\n",
       "      <th></th>\n",
       "    </tr>\n",
       "  </thead>\n",
       "  <tbody>\n",
       "    <tr>\n",
       "      <th>South Africa</th>\n",
       "      <td>91</td>\n",
       "      <td>235996</td>\n",
       "    </tr>\n",
       "    <tr>\n",
       "      <th>Kenya</th>\n",
       "      <td>13</td>\n",
       "      <td>33892</td>\n",
       "    </tr>\n",
       "    <tr>\n",
       "      <th>Tunisia</th>\n",
       "      <td>9</td>\n",
       "      <td>19946</td>\n",
       "    </tr>\n",
       "    <tr>\n",
       "      <th>Benin</th>\n",
       "      <td>7</td>\n",
       "      <td>19429</td>\n",
       "    </tr>\n",
       "    <tr>\n",
       "      <th>Uganda</th>\n",
       "      <td>7</td>\n",
       "      <td>13022</td>\n",
       "    </tr>\n",
       "    <tr>\n",
       "      <th>Cameroon</th>\n",
       "      <td>7</td>\n",
       "      <td>15412</td>\n",
       "    </tr>\n",
       "    <tr>\n",
       "      <th>Tanzania, United Republic of</th>\n",
       "      <td>7</td>\n",
       "      <td>17211</td>\n",
       "    </tr>\n",
       "    <tr>\n",
       "      <th>Togo</th>\n",
       "      <td>6</td>\n",
       "      <td>14540</td>\n",
       "    </tr>\n",
       "    <tr>\n",
       "      <th>Senegal</th>\n",
       "      <td>6</td>\n",
       "      <td>16736</td>\n",
       "    </tr>\n",
       "    <tr>\n",
       "      <th>Mozambique</th>\n",
       "      <td>6</td>\n",
       "      <td>17277</td>\n",
       "    </tr>\n",
       "    <tr>\n",
       "      <th>Morocco</th>\n",
       "      <td>5</td>\n",
       "      <td>11344</td>\n",
       "    </tr>\n",
       "    <tr>\n",
       "      <th>Mauritius</th>\n",
       "      <td>5</td>\n",
       "      <td>11180</td>\n",
       "    </tr>\n",
       "    <tr>\n",
       "      <th>Algeria</th>\n",
       "      <td>4</td>\n",
       "      <td>10928</td>\n",
       "    </tr>\n",
       "    <tr>\n",
       "      <th>Nigeria</th>\n",
       "      <td>4</td>\n",
       "      <td>8638</td>\n",
       "    </tr>\n",
       "    <tr>\n",
       "      <th>Madagascar</th>\n",
       "      <td>4</td>\n",
       "      <td>11319</td>\n",
       "    </tr>\n",
       "    <tr>\n",
       "      <th>Ghana</th>\n",
       "      <td>4</td>\n",
       "      <td>8633</td>\n",
       "    </tr>\n",
       "    <tr>\n",
       "      <th>Egypt</th>\n",
       "      <td>3</td>\n",
       "      <td>7810</td>\n",
       "    </tr>\n",
       "    <tr>\n",
       "      <th>Zambia</th>\n",
       "      <td>3</td>\n",
       "      <td>8221</td>\n",
       "    </tr>\n",
       "    <tr>\n",
       "      <th>Botswana</th>\n",
       "      <td>3</td>\n",
       "      <td>8639</td>\n",
       "    </tr>\n",
       "    <tr>\n",
       "      <th>Sudan</th>\n",
       "      <td>3</td>\n",
       "      <td>8140</td>\n",
       "    </tr>\n",
       "    <tr>\n",
       "      <th>Zimbabwe</th>\n",
       "      <td>3</td>\n",
       "      <td>6767</td>\n",
       "    </tr>\n",
       "    <tr>\n",
       "      <th>Ethiopia</th>\n",
       "      <td>3</td>\n",
       "      <td>7936</td>\n",
       "    </tr>\n",
       "    <tr>\n",
       "      <th>Malawi</th>\n",
       "      <td>3</td>\n",
       "      <td>8639</td>\n",
       "    </tr>\n",
       "    <tr>\n",
       "      <th>Rwanda</th>\n",
       "      <td>2</td>\n",
       "      <td>2707</td>\n",
       "    </tr>\n",
       "    <tr>\n",
       "      <th>Congo (Democratic Republic of the)</th>\n",
       "      <td>2</td>\n",
       "      <td>5607</td>\n",
       "    </tr>\n",
       "    <tr>\n",
       "      <th>Gambia</th>\n",
       "      <td>2</td>\n",
       "      <td>3171</td>\n",
       "    </tr>\n",
       "    <tr>\n",
       "      <th>Burundi</th>\n",
       "      <td>2</td>\n",
       "      <td>5112</td>\n",
       "    </tr>\n",
       "    <tr>\n",
       "      <th>Angola</th>\n",
       "      <td>2</td>\n",
       "      <td>4562</td>\n",
       "    </tr>\n",
       "    <tr>\n",
       "      <th>Eswatini</th>\n",
       "      <td>1</td>\n",
       "      <td>2880</td>\n",
       "    </tr>\n",
       "    <tr>\n",
       "      <th>Djibouti</th>\n",
       "      <td>1</td>\n",
       "      <td>1297</td>\n",
       "    </tr>\n",
       "    <tr>\n",
       "      <th>Lesotho</th>\n",
       "      <td>1</td>\n",
       "      <td>2880</td>\n",
       "    </tr>\n",
       "    <tr>\n",
       "      <th>South Sudan</th>\n",
       "      <td>1</td>\n",
       "      <td>2869</td>\n",
       "    </tr>\n",
       "    <tr>\n",
       "      <th>Congo</th>\n",
       "      <td>1</td>\n",
       "      <td>2876</td>\n",
       "    </tr>\n",
       "    <tr>\n",
       "      <th>Burkina Faso</th>\n",
       "      <td>1</td>\n",
       "      <td>0</td>\n",
       "    </tr>\n",
       "    <tr>\n",
       "      <th>Seychelles</th>\n",
       "      <td>1</td>\n",
       "      <td>2879</td>\n",
       "    </tr>\n",
       "  </tbody>\n",
       "</table>\n",
       "</div>"
      ],
      "text/plain": [
       "                                    nb_of_probes  nb_of_measurements\n",
       "country_name                                                        \n",
       "South Africa                                  91              235996\n",
       "Kenya                                         13               33892\n",
       "Tunisia                                        9               19946\n",
       "Benin                                          7               19429\n",
       "Uganda                                         7               13022\n",
       "Cameroon                                       7               15412\n",
       "Tanzania, United Republic of                   7               17211\n",
       "Togo                                           6               14540\n",
       "Senegal                                        6               16736\n",
       "Mozambique                                     6               17277\n",
       "Morocco                                        5               11344\n",
       "Mauritius                                      5               11180\n",
       "Algeria                                        4               10928\n",
       "Nigeria                                        4                8638\n",
       "Madagascar                                     4               11319\n",
       "Ghana                                          4                8633\n",
       "Egypt                                          3                7810\n",
       "Zambia                                         3                8221\n",
       "Botswana                                       3                8639\n",
       "Sudan                                          3                8140\n",
       "Zimbabwe                                       3                6767\n",
       "Ethiopia                                       3                7936\n",
       "Malawi                                         3                8639\n",
       "Rwanda                                         2                2707\n",
       "Congo (Democratic Republic of the)             2                5607\n",
       "Gambia                                         2                3171\n",
       "Burundi                                        2                5112\n",
       "Angola                                         2                4562\n",
       "Eswatini                                       1                2880\n",
       "Djibouti                                       1                1297\n",
       "Lesotho                                        1                2880\n",
       "South Sudan                                    1                2869\n",
       "Congo                                          1                2876\n",
       "Burkina Faso                                   1                   0\n",
       "Seychelles                                     1                2879"
      ]
     },
     "execution_count": 29,
     "metadata": {
      "tags": []
     },
     "output_type": "execute_result"
    }
   ],
   "source": [
    "data.groupby('country_name')[['prb_id', 'rtt']]\\\n",
    "    .agg({'prb_id':'nunique', 'rtt':'count'})\\\n",
    "    .sort_values(by='prb_id', ascending=False)\\\n",
    "    .rename(columns={'prb_id': 'nb_of_probes', 'rtt': 'nb_of_measurements'})"
   ]
  },
  {
   "cell_type": "markdown",
   "metadata": {
    "colab_type": "text",
    "id": "f5_KN3v2XFy9"
   },
   "source": [
    "### II.5 Spatializing probes location and RTT\n",
    "<a id='maps'>"
   ]
  },
  {
   "cell_type": "code",
   "execution_count": 0,
   "metadata": {
    "colab": {
     "base_uri": "https://localhost:8080/",
     "height": 204
    },
    "colab_type": "code",
    "id": "Qp3cbAGDXFy9",
    "outputId": "ef3db541-5d10-47b7-f9b9-6ac74d706125"
   },
   "outputs": [
    {
     "data": {
      "text/html": [
       "<div>\n",
       "<style scoped>\n",
       "    .dataframe tbody tr th:only-of-type {\n",
       "        vertical-align: middle;\n",
       "    }\n",
       "\n",
       "    .dataframe tbody tr th {\n",
       "        vertical-align: top;\n",
       "    }\n",
       "\n",
       "    .dataframe thead th {\n",
       "        text-align: right;\n",
       "    }\n",
       "</style>\n",
       "<table border=\"1\" class=\"dataframe\">\n",
       "  <thead>\n",
       "    <tr style=\"text-align: right;\">\n",
       "      <th></th>\n",
       "      <th>prb_id</th>\n",
       "      <th>description</th>\n",
       "      <th>lon</th>\n",
       "      <th>lat</th>\n",
       "    </tr>\n",
       "  </thead>\n",
       "  <tbody>\n",
       "    <tr>\n",
       "      <th>0</th>\n",
       "      <td>35067</td>\n",
       "      <td>Rue Bruxelles</td>\n",
       "      <td>-6.2395</td>\n",
       "      <td>33.8205</td>\n",
       "    </tr>\n",
       "    <tr>\n",
       "      <th>1</th>\n",
       "      <td>27571</td>\n",
       "      <td>BennieJ Home</td>\n",
       "      <td>28.1405</td>\n",
       "      <td>-25.8125</td>\n",
       "    </tr>\n",
       "    <tr>\n",
       "      <th>2</th>\n",
       "      <td>21682</td>\n",
       "      <td>Strand</td>\n",
       "      <td>18.8315</td>\n",
       "      <td>-34.1015</td>\n",
       "    </tr>\n",
       "    <tr>\n",
       "      <th>3</th>\n",
       "      <td>12286</td>\n",
       "      <td>eNetworks Samrand</td>\n",
       "      <td>28.1415</td>\n",
       "      <td>-25.9295</td>\n",
       "    </tr>\n",
       "    <tr>\n",
       "      <th>4</th>\n",
       "      <td>13810</td>\n",
       "      <td>Internet Solutions [http://www.is.co.za] - Mas...</td>\n",
       "      <td>28.2275</td>\n",
       "      <td>-29.6125</td>\n",
       "    </tr>\n",
       "  </tbody>\n",
       "</table>\n",
       "</div>"
      ],
      "text/plain": [
       "   prb_id                                        description      lon      lat\n",
       "0   35067                                      Rue Bruxelles  -6.2395  33.8205\n",
       "1   27571                                       BennieJ Home  28.1405 -25.8125\n",
       "2   21682                                             Strand  18.8315 -34.1015\n",
       "3   12286                                  eNetworks Samrand  28.1415 -25.9295\n",
       "4   13810  Internet Solutions [http://www.is.co.za] - Mas...  28.2275 -29.6125"
      ]
     },
     "execution_count": 30,
     "metadata": {
      "tags": []
     },
     "output_type": "execute_result"
    }
   ],
   "source": [
    "# Retrieve probes location\n",
    "probes_loc = data.drop_duplicates(subset=['prb_id'])[['prb_id', 'description', 'lon', 'lat']]\n",
    "probes_loc.head()"
   ]
  },
  {
   "cell_type": "markdown",
   "metadata": {
    "colab_type": "text",
    "id": "NHWZnIqmXFzB"
   },
   "source": [
    "#### II.5.1 Probes location\n",
    "<a id='probes-location'>"
   ]
  },
  {
   "cell_type": "code",
   "execution_count": 0,
   "metadata": {
    "colab": {
     "base_uri": "https://localhost:8080/",
     "height": 892
    },
    "colab_type": "code",
    "id": "F8SEiatmXFzC",
    "outputId": "a12a52a6-8d38-4ed7-a9fa-572f758d5cce"
   },
   "outputs": [
    {
     "data": {
      "text/html": [
       "<div style=\"width:100%;\"><div style=\"position:relative;width:100%;height:0;padding-bottom:60%;\"><iframe src=\"data:text/html;charset=utf-8;base64,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\" style=\"position:absolute;width:100%;height:100%;left:0;top:0;border:none !important;\" allowfullscreen webkitallowfullscreen mozallowfullscreen></iframe></div></div>"
      ],
      "text/plain": [
       "<folium.folium.Map at 0x7efcb30291d0>"
      ]
     },
     "execution_count": 31,
     "metadata": {
      "tags": []
     },
     "output_type": "execute_result"
    }
   ],
   "source": [
    "# Instantiate a folium map object\n",
    "m = folium.Map([5, 20], tiles='Mapbox Bright', zoom_start=3)\n",
    "\n",
    "# mark each station as a point\n",
    "for index, row in probes_loc.iterrows():\n",
    "    folium.Marker([row['lat'], row['lon']],\n",
    "                        #radius=5,\n",
    "                        popup=row['description'],\n",
    "                        icon=folium.Icon(color='darkred', icon='info-sign')\n",
    "                       ).add_to(m)\n",
    "m"
   ]
  },
  {
   "cell_type": "markdown",
   "metadata": {
    "colab_type": "text",
    "id": "XfECyfRMXFzF"
   },
   "source": [
    "#### II.5.2 Probes location heat map\n",
    "<a id='probes-location-heatmap'></a>"
   ]
  },
  {
   "cell_type": "markdown",
   "metadata": {
    "colab_type": "text",
    "id": "UqikYj7EXFzG"
   },
   "source": [
    "*Preliminary remark: This kind of visualization might be somewhat misleading as visual effect extremely sensitive to the vis. parameters. However, it highlights that most probes are located in South, West and North Africa.*"
   ]
  },
  {
   "cell_type": "code",
   "execution_count": 0,
   "metadata": {
    "colab": {
     "base_uri": "https://localhost:8080/",
     "height": 892
    },
    "colab_type": "code",
    "id": "fOSox6ZYXFzG",
    "outputId": "f8e5c5bf-7d31-45b6-9ce1-47a11b3dc560"
   },
   "outputs": [
    {
     "data": {
      "text/html": [
       "<div style=\"width:100%;\"><div style=\"position:relative;width:100%;height:0;padding-bottom:60%;\"><iframe src=\"data:text/html;charset=utf-8;base64,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\" style=\"position:absolute;width:100%;height:100%;left:0;top:0;border:none !important;\" allowfullscreen webkitallowfullscreen mozallowfullscreen></iframe></div></div>"
      ],
      "text/plain": [
       "<folium.folium.Map at 0x7efcb1571550>"
      ]
     },
     "execution_count": 32,
     "metadata": {
      "tags": []
     },
     "output_type": "execute_result"
    }
   ],
   "source": [
    "# Probes locations Heatmap (density of probes)\n",
    "\n",
    "# Instantiate a folium map object\n",
    "#m = folium.Map([5, 20], tiles='Mapbox Control Room', zoom_start=3)\n",
    "m = folium.Map([5, 20], tiles='cartodbdark_matter', zoom_start=3)\n",
    "\n",
    "# convert to (n, 2) nd-array format for heatmap\n",
    "probesArr = probes_loc[['lat', 'lon']].as_matrix()\n",
    "\n",
    "# plot heatmap\n",
    "m.add_children(plugins.HeatMap(probesArr, radius=10, \n",
    "                               blur=10,\n",
    "                               min_opacity=0.8,\n",
    "                               gradient={0.3: '#110e8f', 0.8: '#cc4e74', 1: '#f2f800'}))\n",
    "m"
   ]
  },
  {
   "cell_type": "markdown",
   "metadata": {
    "colab_type": "text",
    "id": "ka7RhZlnXFzN"
   },
   "source": [
    "#### II.5.3 Hexbin RTT median\n",
    "<a id='hexbin-rtt-median'>"
   ]
  },
  {
   "cell_type": "markdown",
   "metadata": {
    "colab_type": "text",
    "id": "VU3UdiszXFzO"
   },
   "source": [
    "// To be fixed: hexagons looks shifted on the right -- as unprojected - map projection (most probably Google Mercator required)"
   ]
  },
  {
   "cell_type": "code",
   "execution_count": 0,
   "metadata": {
    "colab": {
     "base_uri": "https://localhost:8080/",
     "height": 955
    },
    "colab_type": "code",
    "id": "WerhdjvXXFzO",
    "outputId": "8bb9251f-7a6f-4bfe-8878-389eee46e9b7"
   },
   "outputs": [
    {
     "data": {
      "text/html": [
       "<div style=\"width:100%;\"><div style=\"position:relative;width:100%;height:0;padding-bottom:60%;\"><iframe src=\"data:text/html;charset=utf-8;base64,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\" style=\"position:absolute;width:100%;height:100%;left:0;top:0;border:none !important;\" allowfullscreen webkitallowfullscreen mozallowfullscreen></iframe></div></div>"
      ],
      "text/plain": [
       "<folium.folium.Map at 0x7efcb1469b70>"
      ]
     },
     "execution_count": 33,
     "metadata": {
      "tags": []
     },
     "output_type": "execute_result"
    },
    {
     "data": {
      "image/png": "[encoded data removed]",
      "text/plain": [
       "<Figure size 432x144 with 1 Axes>"
      ]
     },
     "metadata": {
      "tags": []
     },
     "output_type": "display_data"
    }
   ],
   "source": [
    "# Median RTT aggregated - hexbin map\n",
    "fig = plt.figure(figsize=(8, 8))\n",
    "ax = fig.add_subplot(1, 1, 1)\n",
    "\n",
    "hb = ax.hexbin(data.lon, data.lat, C = df.rtt, \n",
    "           reduce_C_function = np.median, gridsize=30, \n",
    "           mincnt=0, cmap=YlGnBu_5.get_mpl_colormap(), \n",
    "           linewidths=0.5, edgecolors='none')\n",
    "\n",
    "ax.set_axis_off()\n",
    "\n",
    "xmin, xmax = ax.get_xlim()\n",
    "ymin, ymax = ax.get_ylim()\n",
    "\n",
    "plt.savefig('rtt-median.png', transparent=True, pad_inches=0, bbox_inches='tight', dpi=300)\n",
    "plt.close(fig) # do not display default hexbin\n",
    "\n",
    "# Plot legend\n",
    "# https://matplotlib.org/examples/api/colorbar_only.html\n",
    "fig = plt.figure(figsize=(6, 2))\n",
    "ax1 = fig.add_axes([0, 0, 1, 0.1])\n",
    "cmap = hb.cmap\n",
    "norm = mpl.colors.Normalize(vmin=10, vmax=300)\n",
    "\n",
    "cb1 = mpl.colorbar.ColorbarBase(ax1, cmap=cmap, norm=norm, orientation='horizontal')\n",
    "\n",
    "cb1.set_label('Median Round-Trip-Time (RTT) in ms')\n",
    "\n",
    "# Save as png and overlay on folium map\n",
    "data_overlay = plt.imread('rtt-median.png')\n",
    "\n",
    "m = folium.Map([5, 20], tiles='cartodbpositron', zoom_start=3, control_scale=True)\n",
    "\n",
    "m.add_child(ImageOverlay(data_overlay, opacity=0.8, \\\n",
    "        bounds =[[ymin, xmin], [ymax, xmax]]))\n",
    "\n",
    "m"
   ]
  },
  {
   "cell_type": "markdown",
   "metadata": {
    "colab_type": "text",
    "id": "dM_TTTI6XFzT"
   },
   "source": [
    "### II.6 Assessing RTT variability by probe and firmware\n",
    "<a id='rtt-variation-probe-firmware'>"
   ]
  },
  {
   "cell_type": "code",
   "execution_count": 0,
   "metadata": {
    "colab": {
     "base_uri": "https://localhost:8080/",
     "height": 1000
    },
    "colab_type": "code",
    "id": "X0D7YiQgXFzU",
    "outputId": "eb7468c1-3ad1-4f51-9652-47ba5e63e41c"
   },
   "outputs": [
    {
     "data": {
      "text/plain": [
       "prb_id\n",
       "35743    941.519535\n",
       "2456     399.435737\n",
       "35067    263.944003\n",
       "30033    259.873705\n",
       "23531    236.346965\n",
       "21632    228.583824\n",
       "28493    222.289882\n",
       "21770    213.473528\n",
       "21715    195.367829\n",
       "32381    189.326322\n",
       "19592    184.517663\n",
       "4519     181.347457\n",
       "14712    180.457141\n",
       "11383    178.688472\n",
       "32206    176.288848\n",
       "239      175.945578\n",
       "21610    156.239397\n",
       "50011    150.248411\n",
       "30145    145.066153\n",
       "21682    141.897949\n",
       "4153     138.381247\n",
       "15269    136.998219\n",
       "33838    134.303803\n",
       "12168    129.583220\n",
       "22588    121.188746\n",
       "3461     120.901329\n",
       "10843    120.130631\n",
       "14867    118.590701\n",
       "14419    112.082882\n",
       "19984    108.980009\n",
       "            ...    \n",
       "13734      3.803250\n",
       "13705      3.793669\n",
       "35742      3.719424\n",
       "21673      3.545849\n",
       "29857      3.104209\n",
       "25355      2.888534\n",
       "33126      2.881804\n",
       "50139      2.864981\n",
       "20772      2.759435\n",
       "11327      2.621536\n",
       "13725      2.508494\n",
       "33289      2.507391\n",
       "12207      2.298269\n",
       "30021      2.263489\n",
       "35736      2.026521\n",
       "32258      1.992480\n",
       "12286      1.974966\n",
       "33105      1.910403\n",
       "13236      1.858907\n",
       "14960      1.704408\n",
       "13503      1.627229\n",
       "16466      1.537468\n",
       "25283      1.380246\n",
       "25296      1.370082\n",
       "14316      1.356850\n",
       "13810      0.708735\n",
       "13754      0.637214\n",
       "12465      0.501153\n",
       "18514      0.383156\n",
       "32674      0.081097\n",
       "Name: rtt, Length: 212, dtype: float64"
      ]
     },
     "execution_count": 34,
     "metadata": {
      "tags": []
     },
     "output_type": "execute_result"
    }
   ],
   "source": [
    "# RTTs Standard Deviation by probe\n",
    "data.dropna(subset=['rtt'])\\\n",
    "    .groupby('prb_id')['rtt']\\\n",
    "    .agg('std')\\\n",
    "    .sort_values(ascending=False)"
   ]
  },
  {
   "cell_type": "code",
   "execution_count": 0,
   "metadata": {
    "colab": {
     "base_uri": "https://localhost:8080/",
     "height": 187
    },
    "colab_type": "code",
    "id": "zbsQ7iYTXFzX",
    "outputId": "718c3461-f250-4721-99ab-ce2de7574e08"
   },
   "outputs": [
    {
     "data": {
      "text/plain": [
       "firmware_version\n",
       "4650    195.367829\n",
       "4790    136.248082\n",
       "4780    127.046378\n",
       "4940    126.085855\n",
       "4760    116.196127\n",
       "4770     74.396395\n",
       "4900     52.327388\n",
       "4910     14.542528\n",
       "Name: rtt, dtype: float64"
      ]
     },
     "execution_count": 35,
     "metadata": {
      "tags": []
     },
     "output_type": "execute_result"
    }
   ],
   "source": [
    "# RTTs Standard Deviation by probes' firmware version\n",
    "data.dropna(subset=['rtt'])\\\n",
    "    .groupby('firmware_version')['rtt']\\\n",
    "    .agg('std')\\\n",
    "    .sort_values(ascending=False)"
   ]
  },
  {
   "cell_type": "code",
   "execution_count": 0,
   "metadata": {
    "colab": {
     "base_uri": "https://localhost:8080/",
     "height": 1000
    },
    "colab_type": "code",
    "id": "fauAiRj4XFzc",
    "outputId": "cd651b6a-29a9-4021-9d57-62c681c69ed8"
   },
   "outputs": [
    {
     "data": {
      "text/plain": [
       "country_name                        firmware_version\n",
       "Algeria                             4780                  2854\n",
       "                                    4940                  8074\n",
       "Angola                              4940                  4562\n",
       "Benin                               4760                  2753\n",
       "                                    4770                  2874\n",
       "                                    4900                   418\n",
       "                                    4940                 13384\n",
       "Botswana                            4790                  2879\n",
       "                                    4940                  5760\n",
       "Burundi                             4940                  5112\n",
       "Cameroon                            4650                  2158\n",
       "                                    4770                  2738\n",
       "                                    4790                  1451\n",
       "                                    4940                  9065\n",
       "Congo                               4940                  2876\n",
       "Congo (Democratic Republic of the)  4940                  5607\n",
       "Djibouti                            4940                  1297\n",
       "Egypt                               4780                  5670\n",
       "                                    4940                  2140\n",
       "Eswatini                            4940                  2880\n",
       "Ethiopia                            4940                  7936\n",
       "Gambia                              4940                  3171\n",
       "Ghana                               4790                  2875\n",
       "                                    4910                   303\n",
       "                                    4940                  5455\n",
       "Kenya                               4770                  2859\n",
       "                                    4910                   302\n",
       "                                    4940                 30731\n",
       "Lesotho                             4940                  2880\n",
       "Madagascar                          4940                 11319\n",
       "Malawi                              4940                  8639\n",
       "Mauritius                           4790                  2550\n",
       "                                    4940                  8630\n",
       "Morocco                             4780                  2187\n",
       "                                    4940                  9157\n",
       "Mozambique                          4940                 17277\n",
       "Nigeria                             4940                  8638\n",
       "Rwanda                              4940                  2707\n",
       "Senegal                             4760                  2727\n",
       "                                    4790                  2877\n",
       "                                    4940                 11132\n",
       "Seychelles                          4940                  2879\n",
       "South Africa                        4760                  2879\n",
       "                                    4770                  8478\n",
       "                                    4780                  2832\n",
       "                                    4790                 25642\n",
       "                                    4900                  3225\n",
       "                                    4910                  3182\n",
       "                                    4940                189758\n",
       "South Sudan                         4940                  2869\n",
       "Sudan                               4940                  8140\n",
       "Tanzania, United Republic of        4770                  2837\n",
       "                                    4940                 14374\n",
       "Togo                                4940                 14540\n",
       "Tunisia                             4790                  2879\n",
       "                                    4940                 17067\n",
       "Uganda                              4940                 13022\n",
       "Zambia                              4940                  8221\n",
       "Zimbabwe                            4900                   436\n",
       "                                    4940                  6331\n",
       "Name: rtt, dtype: int64"
      ]
     },
     "execution_count": 36,
     "metadata": {
      "tags": []
     },
     "output_type": "execute_result"
    }
   ],
   "source": [
    "# List of different firmware version used by country and associated number of measurements carried out\n",
    "data.dropna(subset=['rtt'])\\\n",
    "    .groupby(['country_name', 'firmware_version'])['rtt']\\\n",
    "    .agg('count')"
   ]
  },
  {
   "cell_type": "markdown",
   "metadata": {
    "colab_type": "text",
    "id": "0SzQCUReP-LU"
   },
   "source": [
    "### II.7 Packet loss analysis"
   ]
  },
  {
   "cell_type": "code",
   "execution_count": 0,
   "metadata": {
    "colab": {
     "base_uri": "https://localhost:8080/",
     "height": 134
    },
    "colab_type": "code",
    "id": "CzCX40AtP8na",
    "outputId": "99f307aa-f1be-4e64-a472-7bf0d10fa57f"
   },
   "outputs": [
    {
     "data": {
      "text/html": [
       "<div>\n",
       "<style scoped>\n",
       "    .dataframe tbody tr th:only-of-type {\n",
       "        vertical-align: middle;\n",
       "    }\n",
       "\n",
       "    .dataframe tbody tr th {\n",
       "        vertical-align: top;\n",
       "    }\n",
       "\n",
       "    .dataframe thead th {\n",
       "        text-align: right;\n",
       "    }\n",
       "</style>\n",
       "<table border=\"1\" class=\"dataframe\">\n",
       "  <thead>\n",
       "    <tr style=\"text-align: right;\">\n",
       "      <th></th>\n",
       "      <th>datetime</th>\n",
       "      <th>prb_id</th>\n",
       "      <th>start_time</th>\n",
       "      <th>end_time</th>\n",
       "      <th>last_time_sync</th>\n",
       "      <th>firmware_version</th>\n",
       "      <th>nb_packets</th>\n",
       "      <th>nb_rtts</th>\n",
       "      <th>rtt</th>\n",
       "      <th>ip_v4</th>\n",
       "      <th>description</th>\n",
       "      <th>lon</th>\n",
       "      <th>lat</th>\n",
       "      <th>country_name</th>\n",
       "      <th>country_code</th>\n",
       "    </tr>\n",
       "  </thead>\n",
       "  <tbody>\n",
       "    <tr>\n",
       "      <th>0</th>\n",
       "      <td>2018-12-01 00:02:48</td>\n",
       "      <td>35067</td>\n",
       "      <td>1543622568</td>\n",
       "      <td>1543622568</td>\n",
       "      <td>206</td>\n",
       "      <td>4780</td>\n",
       "      <td>3</td>\n",
       "      <td>3</td>\n",
       "      <td>92.663667</td>\n",
       "      <td>105.158.149.25</td>\n",
       "      <td>Rue Bruxelles</td>\n",
       "      <td>-6.2395</td>\n",
       "      <td>33.8205</td>\n",
       "      <td>Morocco</td>\n",
       "      <td>MA</td>\n",
       "    </tr>\n",
       "  </tbody>\n",
       "</table>\n",
       "</div>"
      ],
      "text/plain": [
       "             datetime  prb_id  start_time    end_time  last_time_sync  \\\n",
       "0 2018-12-01 00:02:48   35067  1543622568  1543622568             206   \n",
       "\n",
       "   firmware_version  nb_packets  nb_rtts        rtt           ip_v4  \\\n",
       "0              4780           3        3  92.663667  105.158.149.25   \n",
       "\n",
       "     description     lon      lat country_name country_code  \n",
       "0  Rue Bruxelles -6.2395  33.8205      Morocco           MA  "
      ]
     },
     "execution_count": 40,
     "metadata": {
      "tags": []
     },
     "output_type": "execute_result"
    }
   ],
   "source": [
    "data.head(1)"
   ]
  },
  {
   "cell_type": "markdown",
   "metadata": {
    "colab_type": "text",
    "id": "I3RO7qCSQNbE"
   },
   "source": [
    "* `nb_packets`: number of packets sent\n",
    "* `nb_rtts`: nb. of successfully sent packets out of total sent"
   ]
  },
  {
   "cell_type": "code",
   "execution_count": 0,
   "metadata": {
    "colab": {},
    "colab_type": "code",
    "id": "7SDQdwmzQGJI"
   },
   "outputs": [],
   "source": [
    "# Adding packet loss percentage column\n",
    "data['packet_loss_percent'] = 100 * (data['nb_packets'] - data['nb_rtts']) / data['nb_packets']"
   ]
  },
  {
   "cell_type": "code",
   "execution_count": 0,
   "metadata": {
    "colab": {
     "base_uri": "https://localhost:8080/",
     "height": 394
    },
    "colab_type": "code",
    "id": "2UhrqfTGRK4P",
    "outputId": "a600f155-c26d-4a52-f7b9-7579ce5cd80c"
   },
   "outputs": [
    {
     "data": {
      "text/html": [
       "<div>\n",
       "<style scoped>\n",
       "    .dataframe tbody tr th:only-of-type {\n",
       "        vertical-align: middle;\n",
       "    }\n",
       "\n",
       "    .dataframe tbody tr th {\n",
       "        vertical-align: top;\n",
       "    }\n",
       "\n",
       "    .dataframe thead th {\n",
       "        text-align: right;\n",
       "    }\n",
       "</style>\n",
       "<table border=\"1\" class=\"dataframe\">\n",
       "  <thead>\n",
       "    <tr style=\"text-align: right;\">\n",
       "      <th></th>\n",
       "      <th>datetime</th>\n",
       "      <th>prb_id</th>\n",
       "      <th>start_time</th>\n",
       "      <th>end_time</th>\n",
       "      <th>last_time_sync</th>\n",
       "      <th>firmware_version</th>\n",
       "      <th>nb_packets</th>\n",
       "      <th>nb_rtts</th>\n",
       "      <th>rtt</th>\n",
       "      <th>ip_v4</th>\n",
       "      <th>description</th>\n",
       "      <th>lon</th>\n",
       "      <th>lat</th>\n",
       "      <th>country_name</th>\n",
       "      <th>country_code</th>\n",
       "      <th>packet_loss_percent</th>\n",
       "    </tr>\n",
       "  </thead>\n",
       "  <tbody>\n",
       "    <tr>\n",
       "      <th>0</th>\n",
       "      <td>2018-12-01 00:02:48</td>\n",
       "      <td>35067</td>\n",
       "      <td>1543622568</td>\n",
       "      <td>1543622568</td>\n",
       "      <td>206</td>\n",
       "      <td>4780</td>\n",
       "      <td>3</td>\n",
       "      <td>3</td>\n",
       "      <td>92.663667</td>\n",
       "      <td>105.158.149.25</td>\n",
       "      <td>Rue Bruxelles</td>\n",
       "      <td>-6.2395</td>\n",
       "      <td>33.8205</td>\n",
       "      <td>Morocco</td>\n",
       "      <td>MA</td>\n",
       "      <td>0.0</td>\n",
       "    </tr>\n",
       "    <tr>\n",
       "      <th>1</th>\n",
       "      <td>2018-12-01 00:02:52</td>\n",
       "      <td>27571</td>\n",
       "      <td>1543622572</td>\n",
       "      <td>1543622572</td>\n",
       "      <td>57</td>\n",
       "      <td>4940</td>\n",
       "      <td>3</td>\n",
       "      <td>3</td>\n",
       "      <td>172.185667</td>\n",
       "      <td>45.222.33.70</td>\n",
       "      <td>BennieJ Home</td>\n",
       "      <td>28.1405</td>\n",
       "      <td>-25.8125</td>\n",
       "      <td>South Africa</td>\n",
       "      <td>ZA</td>\n",
       "      <td>0.0</td>\n",
       "    </tr>\n",
       "    <tr>\n",
       "      <th>2</th>\n",
       "      <td>2018-12-01 00:02:55</td>\n",
       "      <td>21682</td>\n",
       "      <td>1543622575</td>\n",
       "      <td>1543622575</td>\n",
       "      <td>49</td>\n",
       "      <td>4940</td>\n",
       "      <td>3</td>\n",
       "      <td>3</td>\n",
       "      <td>175.827000</td>\n",
       "      <td>None</td>\n",
       "      <td>Strand</td>\n",
       "      <td>18.8315</td>\n",
       "      <td>-34.1015</td>\n",
       "      <td>South Africa</td>\n",
       "      <td>ZA</td>\n",
       "      <td>0.0</td>\n",
       "    </tr>\n",
       "    <tr>\n",
       "      <th>3</th>\n",
       "      <td>2018-12-01 00:03:00</td>\n",
       "      <td>12286</td>\n",
       "      <td>1543622580</td>\n",
       "      <td>1543622581</td>\n",
       "      <td>37</td>\n",
       "      <td>4760</td>\n",
       "      <td>3</td>\n",
       "      <td>3</td>\n",
       "      <td>169.836667</td>\n",
       "      <td>None</td>\n",
       "      <td>eNetworks Samrand</td>\n",
       "      <td>28.1415</td>\n",
       "      <td>-25.9295</td>\n",
       "      <td>South Africa</td>\n",
       "      <td>ZA</td>\n",
       "      <td>0.0</td>\n",
       "    </tr>\n",
       "    <tr>\n",
       "      <th>4</th>\n",
       "      <td>2018-12-01 00:03:01</td>\n",
       "      <td>13810</td>\n",
       "      <td>1543622581</td>\n",
       "      <td>1543622582</td>\n",
       "      <td>60</td>\n",
       "      <td>4940</td>\n",
       "      <td>3</td>\n",
       "      <td>3</td>\n",
       "      <td>179.662333</td>\n",
       "      <td>197.96.8.2</td>\n",
       "      <td>Internet Solutions [http://www.is.co.za] - Mas...</td>\n",
       "      <td>28.2275</td>\n",
       "      <td>-29.6125</td>\n",
       "      <td>Lesotho</td>\n",
       "      <td>LS</td>\n",
       "      <td>0.0</td>\n",
       "    </tr>\n",
       "  </tbody>\n",
       "</table>\n",
       "</div>"
      ],
      "text/plain": [
       "             datetime  prb_id  start_time    end_time  last_time_sync  \\\n",
       "0 2018-12-01 00:02:48   35067  1543622568  1543622568             206   \n",
       "1 2018-12-01 00:02:52   27571  1543622572  1543622572              57   \n",
       "2 2018-12-01 00:02:55   21682  1543622575  1543622575              49   \n",
       "3 2018-12-01 00:03:00   12286  1543622580  1543622581              37   \n",
       "4 2018-12-01 00:03:01   13810  1543622581  1543622582              60   \n",
       "\n",
       "   firmware_version  nb_packets  nb_rtts         rtt           ip_v4  \\\n",
       "0              4780           3        3   92.663667  105.158.149.25   \n",
       "1              4940           3        3  172.185667    45.222.33.70   \n",
       "2              4940           3        3  175.827000            None   \n",
       "3              4760           3        3  169.836667            None   \n",
       "4              4940           3        3  179.662333      197.96.8.2   \n",
       "\n",
       "                                         description      lon      lat  \\\n",
       "0                                      Rue Bruxelles  -6.2395  33.8205   \n",
       "1                                       BennieJ Home  28.1405 -25.8125   \n",
       "2                                             Strand  18.8315 -34.1015   \n",
       "3                                  eNetworks Samrand  28.1415 -25.9295   \n",
       "4  Internet Solutions [http://www.is.co.za] - Mas...  28.2275 -29.6125   \n",
       "\n",
       "   country_name country_code  packet_loss_percent  \n",
       "0       Morocco           MA                  0.0  \n",
       "1  South Africa           ZA                  0.0  \n",
       "2  South Africa           ZA                  0.0  \n",
       "3  South Africa           ZA                  0.0  \n",
       "4       Lesotho           LS                  0.0  "
      ]
     },
     "execution_count": 42,
     "metadata": {
      "tags": []
     },
     "output_type": "execute_result"
    }
   ],
   "source": [
    "data.head()"
   ]
  },
  {
   "cell_type": "code",
   "execution_count": 0,
   "metadata": {
    "colab": {
     "base_uri": "https://localhost:8080/",
     "height": 337
    },
    "colab_type": "code",
    "id": "tTSe8ZoNRjHQ",
    "outputId": "8c3898fd-74cd-4464-ef5d-d9e6aa9cf9fe"
   },
   "outputs": [
    {
     "data": {
      "image/png": "[encoded data removed]",
      "text/plain": [
       "<Figure size 720x360 with 1 Axes>"
      ]
     },
     "metadata": {
      "tags": []
     },
     "output_type": "display_data"
    }
   ],
   "source": [
    "# Quick histogram of 'packet'\n",
    "fig, ax = plt.subplots()\n",
    "data['packet_loss_percent'].hist(ax=ax, bins=20, bottom=0.1, figsize=(10, 5))\n",
    "ax.set_yscale('log')\n",
    "ax.set_xlabel('Percentage of packet loss');\n",
    "ax.set_ylabel('# of results');"
   ]
  },
  {
   "cell_type": "code",
   "execution_count": 0,
   "metadata": {
    "colab": {
     "base_uri": "https://localhost:8080/",
     "height": 1165
    },
    "colab_type": "code",
    "id": "NLL5bBg8TqqN",
    "outputId": "4520b35a-d899-444c-b041-247ad4ca236f"
   },
   "outputs": [
    {
     "data": {
      "text/html": [
       "<div>\n",
       "<style scoped>\n",
       "    .dataframe tbody tr th:only-of-type {\n",
       "        vertical-align: middle;\n",
       "    }\n",
       "\n",
       "    .dataframe tbody tr th {\n",
       "        vertical-align: top;\n",
       "    }\n",
       "\n",
       "    .dataframe thead th {\n",
       "        text-align: right;\n",
       "    }\n",
       "</style>\n",
       "<table border=\"1\" class=\"dataframe\">\n",
       "  <thead>\n",
       "    <tr style=\"text-align: right;\">\n",
       "      <th></th>\n",
       "      <th>% packet loss mean</th>\n",
       "      <th>nb_of_measurements</th>\n",
       "      <th># of probes deployed</th>\n",
       "    </tr>\n",
       "    <tr>\n",
       "      <th>country_name</th>\n",
       "      <th></th>\n",
       "      <th></th>\n",
       "      <th></th>\n",
       "    </tr>\n",
       "  </thead>\n",
       "  <tbody>\n",
       "    <tr>\n",
       "      <th>Burkina Faso</th>\n",
       "      <td>100.000000</td>\n",
       "      <td>0</td>\n",
       "      <td>1</td>\n",
       "    </tr>\n",
       "    <tr>\n",
       "      <th>Rwanda</th>\n",
       "      <td>51.582901</td>\n",
       "      <td>2707</td>\n",
       "      <td>2</td>\n",
       "    </tr>\n",
       "    <tr>\n",
       "      <th>Ghana</th>\n",
       "      <td>25.064398</td>\n",
       "      <td>8633</td>\n",
       "      <td>4</td>\n",
       "    </tr>\n",
       "    <tr>\n",
       "      <th>Nigeria</th>\n",
       "      <td>25.020255</td>\n",
       "      <td>8638</td>\n",
       "      <td>4</td>\n",
       "    </tr>\n",
       "    <tr>\n",
       "      <th>Congo (Democratic Republic of the)</th>\n",
       "      <td>24.069479</td>\n",
       "      <td>5607</td>\n",
       "      <td>2</td>\n",
       "    </tr>\n",
       "    <tr>\n",
       "      <th>Uganda</th>\n",
       "      <td>21.598357</td>\n",
       "      <td>13022</td>\n",
       "      <td>7</td>\n",
       "    </tr>\n",
       "    <tr>\n",
       "      <th>Mauritius</th>\n",
       "      <td>20.486284</td>\n",
       "      <td>11180</td>\n",
       "      <td>5</td>\n",
       "    </tr>\n",
       "    <tr>\n",
       "      <th>Tanzania, United Republic of</th>\n",
       "      <td>14.506157</td>\n",
       "      <td>17211</td>\n",
       "      <td>7</td>\n",
       "    </tr>\n",
       "    <tr>\n",
       "      <th>Tunisia</th>\n",
       "      <td>13.076688</td>\n",
       "      <td>19946</td>\n",
       "      <td>9</td>\n",
       "    </tr>\n",
       "    <tr>\n",
       "      <th>Egypt</th>\n",
       "      <td>12.485454</td>\n",
       "      <td>7810</td>\n",
       "      <td>3</td>\n",
       "    </tr>\n",
       "    <tr>\n",
       "      <th>Kenya</th>\n",
       "      <td>12.263394</td>\n",
       "      <td>33892</td>\n",
       "      <td>13</td>\n",
       "    </tr>\n",
       "    <tr>\n",
       "      <th>South Africa</th>\n",
       "      <td>6.230024</td>\n",
       "      <td>235996</td>\n",
       "      <td>91</td>\n",
       "    </tr>\n",
       "    <tr>\n",
       "      <th>Ethiopia</th>\n",
       "      <td>3.988362</td>\n",
       "      <td>7936</td>\n",
       "      <td>3</td>\n",
       "    </tr>\n",
       "    <tr>\n",
       "      <th>Algeria</th>\n",
       "      <td>2.341598</td>\n",
       "      <td>10928</td>\n",
       "      <td>4</td>\n",
       "    </tr>\n",
       "    <tr>\n",
       "      <th>Morocco</th>\n",
       "      <td>1.930797</td>\n",
       "      <td>11344</td>\n",
       "      <td>5</td>\n",
       "    </tr>\n",
       "    <tr>\n",
       "      <th>Sudan</th>\n",
       "      <td>1.902569</td>\n",
       "      <td>8140</td>\n",
       "      <td>3</td>\n",
       "    </tr>\n",
       "    <tr>\n",
       "      <th>Senegal</th>\n",
       "      <td>1.794029</td>\n",
       "      <td>16736</td>\n",
       "      <td>6</td>\n",
       "    </tr>\n",
       "    <tr>\n",
       "      <th>Cameroon</th>\n",
       "      <td>1.686610</td>\n",
       "      <td>15412</td>\n",
       "      <td>7</td>\n",
       "    </tr>\n",
       "    <tr>\n",
       "      <th>Madagascar</th>\n",
       "      <td>1.372378</td>\n",
       "      <td>11319</td>\n",
       "      <td>4</td>\n",
       "    </tr>\n",
       "    <tr>\n",
       "      <th>Zimbabwe</th>\n",
       "      <td>1.048678</td>\n",
       "      <td>6767</td>\n",
       "      <td>3</td>\n",
       "    </tr>\n",
       "    <tr>\n",
       "      <th>Zambia</th>\n",
       "      <td>0.784337</td>\n",
       "      <td>8221</td>\n",
       "      <td>3</td>\n",
       "    </tr>\n",
       "    <tr>\n",
       "      <th>Togo</th>\n",
       "      <td>0.762698</td>\n",
       "      <td>14540</td>\n",
       "      <td>6</td>\n",
       "    </tr>\n",
       "    <tr>\n",
       "      <th>Benin</th>\n",
       "      <td>0.517857</td>\n",
       "      <td>19429</td>\n",
       "      <td>7</td>\n",
       "    </tr>\n",
       "    <tr>\n",
       "      <th>Burundi</th>\n",
       "      <td>0.499838</td>\n",
       "      <td>5112</td>\n",
       "      <td>2</td>\n",
       "    </tr>\n",
       "    <tr>\n",
       "      <th>Gambia</th>\n",
       "      <td>0.147121</td>\n",
       "      <td>3171</td>\n",
       "      <td>2</td>\n",
       "    </tr>\n",
       "    <tr>\n",
       "      <th>Congo</th>\n",
       "      <td>0.138889</td>\n",
       "      <td>2876</td>\n",
       "      <td>1</td>\n",
       "    </tr>\n",
       "    <tr>\n",
       "      <th>Malawi</th>\n",
       "      <td>0.077160</td>\n",
       "      <td>8639</td>\n",
       "      <td>3</td>\n",
       "    </tr>\n",
       "    <tr>\n",
       "      <th>Angola</th>\n",
       "      <td>0.058428</td>\n",
       "      <td>4562</td>\n",
       "      <td>2</td>\n",
       "    </tr>\n",
       "    <tr>\n",
       "      <th>South Sudan</th>\n",
       "      <td>0.058092</td>\n",
       "      <td>2869</td>\n",
       "      <td>1</td>\n",
       "    </tr>\n",
       "    <tr>\n",
       "      <th>Djibouti</th>\n",
       "      <td>0.025700</td>\n",
       "      <td>1297</td>\n",
       "      <td>1</td>\n",
       "    </tr>\n",
       "    <tr>\n",
       "      <th>Mozambique</th>\n",
       "      <td>0.025077</td>\n",
       "      <td>17277</td>\n",
       "      <td>6</td>\n",
       "    </tr>\n",
       "    <tr>\n",
       "      <th>Eswatini</th>\n",
       "      <td>0.023148</td>\n",
       "      <td>2880</td>\n",
       "      <td>1</td>\n",
       "    </tr>\n",
       "    <tr>\n",
       "      <th>Botswana</th>\n",
       "      <td>0.011575</td>\n",
       "      <td>8639</td>\n",
       "      <td>3</td>\n",
       "    </tr>\n",
       "    <tr>\n",
       "      <th>Lesotho</th>\n",
       "      <td>0.000000</td>\n",
       "      <td>2880</td>\n",
       "      <td>1</td>\n",
       "    </tr>\n",
       "    <tr>\n",
       "      <th>Seychelles</th>\n",
       "      <td>0.000000</td>\n",
       "      <td>2879</td>\n",
       "      <td>1</td>\n",
       "    </tr>\n",
       "  </tbody>\n",
       "</table>\n",
       "</div>"
      ],
      "text/plain": [
       "                                    % packet loss mean  nb_of_measurements  \\\n",
       "country_name                                                                 \n",
       "Burkina Faso                                100.000000                   0   \n",
       "Rwanda                                       51.582901                2707   \n",
       "Ghana                                        25.064398                8633   \n",
       "Nigeria                                      25.020255                8638   \n",
       "Congo (Democratic Republic of the)           24.069479                5607   \n",
       "Uganda                                       21.598357               13022   \n",
       "Mauritius                                    20.486284               11180   \n",
       "Tanzania, United Republic of                 14.506157               17211   \n",
       "Tunisia                                      13.076688               19946   \n",
       "Egypt                                        12.485454                7810   \n",
       "Kenya                                        12.263394               33892   \n",
       "South Africa                                  6.230024              235996   \n",
       "Ethiopia                                      3.988362                7936   \n",
       "Algeria                                       2.341598               10928   \n",
       "Morocco                                       1.930797               11344   \n",
       "Sudan                                         1.902569                8140   \n",
       "Senegal                                       1.794029               16736   \n",
       "Cameroon                                      1.686610               15412   \n",
       "Madagascar                                    1.372378               11319   \n",
       "Zimbabwe                                      1.048678                6767   \n",
       "Zambia                                        0.784337                8221   \n",
       "Togo                                          0.762698               14540   \n",
       "Benin                                         0.517857               19429   \n",
       "Burundi                                       0.499838                5112   \n",
       "Gambia                                        0.147121                3171   \n",
       "Congo                                         0.138889                2876   \n",
       "Malawi                                        0.077160                8639   \n",
       "Angola                                        0.058428                4562   \n",
       "South Sudan                                   0.058092                2869   \n",
       "Djibouti                                      0.025700                1297   \n",
       "Mozambique                                    0.025077               17277   \n",
       "Eswatini                                      0.023148                2880   \n",
       "Botswana                                      0.011575                8639   \n",
       "Lesotho                                       0.000000                2880   \n",
       "Seychelles                                    0.000000                2879   \n",
       "\n",
       "                                    # of probes deployed  \n",
       "country_name                                              \n",
       "Burkina Faso                                           1  \n",
       "Rwanda                                                 2  \n",
       "Ghana                                                  4  \n",
       "Nigeria                                                4  \n",
       "Congo (Democratic Republic of the)                     2  \n",
       "Uganda                                                 7  \n",
       "Mauritius                                              5  \n",
       "Tanzania, United Republic of                           7  \n",
       "Tunisia                                                9  \n",
       "Egypt                                                  3  \n",
       "Kenya                                                 13  \n",
       "South Africa                                          91  \n",
       "Ethiopia                                               3  \n",
       "Algeria                                                4  \n",
       "Morocco                                                5  \n",
       "Sudan                                                  3  \n",
       "Senegal                                                6  \n",
       "Cameroon                                               7  \n",
       "Madagascar                                             4  \n",
       "Zimbabwe                                               3  \n",
       "Zambia                                                 3  \n",
       "Togo                                                   6  \n",
       "Benin                                                  7  \n",
       "Burundi                                                2  \n",
       "Gambia                                                 2  \n",
       "Congo                                                  1  \n",
       "Malawi                                                 3  \n",
       "Angola                                                 2  \n",
       "South Sudan                                            1  \n",
       "Djibouti                                               1  \n",
       "Mozambique                                             6  \n",
       "Eswatini                                               1  \n",
       "Botswana                                               3  \n",
       "Lesotho                                                1  \n",
       "Seychelles                                             1  "
      ]
     },
     "execution_count": 44,
     "metadata": {
      "tags": []
     },
     "output_type": "execute_result"
    }
   ],
   "source": [
    "# Percentage Packet loss by country\n",
    "data.groupby('country_name')[['packet_loss_percent', 'rtt', 'prb_id']]\\\n",
    "    .agg({'packet_loss_percent':'mean', 'rtt':'count', 'prb_id': 'nunique'})\\\n",
    "    .sort_values(by='packet_loss_percent', ascending=False)\\\n",
    "    .rename(columns={'packet_loss_percent': '% packet loss mean', 'rtt': 'nb_of_measurements', 'prb_id': '# of probes deployed'})"
   ]
  },
  {
   "cell_type": "markdown",
   "metadata": {
    "colab_type": "text",
    "id": "i6deo5KLbyEq"
   },
   "source": [
    "### II.8 Boxplots of RTT by hour of the day"
   ]
  },
  {
   "cell_type": "code",
   "execution_count": 0,
   "metadata": {
    "colab": {
     "base_uri": "https://localhost:8080/",
     "height": 592
    },
    "colab_type": "code",
    "id": "oR9XrAAe51YB",
    "outputId": "14ac2c04-21b7-40e3-feaa-b1e9fc48200e"
   },
   "outputs": [
    {
     "data": {
      "image/png": "[encoded data removed]",
      "text/plain": [
       "<Figure size 1152x720 with 1 Axes>"
      ]
     },
     "metadata": {
      "tags": []
     },
     "output_type": "display_data"
    }
   ],
   "source": [
    "df_hour_rtt = pd.concat([data.datetime.apply(lambda x: x.hour), data['rtt']], axis=1)\n",
    "df_hour_rtt.columns = ['hour', 'rtt']\n",
    "df_rtt_by_hour = get_sorted_group_vals(df=df_hour_rtt, grp_col='hour', val_col='rtt')\n",
    "\n",
    "medianprops = dict(linestyle='-', linewidth=4)\n",
    "df_rtt_by_hour.boxplot(vert=False, figsize=(16, 10), showfliers=False, medianprops=medianprops);"
   ]
  },
  {
   "cell_type": "markdown",
   "metadata": {
    "colab_type": "text",
    "id": "1-JGtIdvwSrs"
   },
   "source": [
    "### II.9 Boxplots of RTT by day of the week"
   ]
  },
  {
   "cell_type": "code",
   "execution_count": 0,
   "metadata": {
    "colab": {
     "base_uri": "https://localhost:8080/",
     "height": 592
    },
    "colab_type": "code",
    "id": "p9O7bT9Z6QzP",
    "outputId": "c2515005-d413-4f6a-e428-c96c3355f332"
   },
   "outputs": [
    {
     "data": {
      "image/png": "[encoded data removed]",
      "text/plain": [
       "<Figure size 1152x720 with 1 Axes>"
      ]
     },
     "metadata": {
      "tags": []
     },
     "output_type": "display_data"
    }
   ],
   "source": [
    "df_weekday_rtt = pd.concat([data.datetime.apply(lambda x: x.isoweekday()), data['rtt']], axis=1)\n",
    "df_weekday_rtt.columns = ['weekday', 'rtt']\n",
    "df_rtt_by_weekday = get_sorted_group_vals(df=df_weekday_rtt, grp_col='weekday', val_col='rtt')\n",
    "\n",
    "medianprops = dict(linestyle='-', linewidth=4)\n",
    "df_rtt_by_weekday.boxplot(vert=False, figsize=(16, 10), showfliers=False, medianprops=medianprops);"
   ]
  },
  {
   "cell_type": "markdown",
   "metadata": {
    "colab_type": "text",
    "id": "mecRgdiuDJXc"
   },
   "source": [
    "### II.10 RTTs vs distance to destination"
   ]
  },
  {
   "cell_type": "code",
   "execution_count": 0,
   "metadata": {
    "colab": {},
    "colab_type": "code",
    "id": "StgyBUhwDe0v"
   },
   "outputs": [],
   "source": [
    "# Let's take a sample of our data for now\n",
    "sample_size = 50000\n",
    "data_sample = data.sample(n=sample_size, random_state=1)"
   ]
  },
  {
   "cell_type": "code",
   "execution_count": 0,
   "metadata": {
    "colab": {
     "base_uri": "https://localhost:8080/",
     "height": 411
    },
    "colab_type": "code",
    "id": "XFVjIeP6DISS",
    "outputId": "5f74d03e-2f3e-4dd7-ab8d-312f2324da0f"
   },
   "outputs": [
    {
     "data": {
      "text/html": [
       "<div>\n",
       "<style scoped>\n",
       "    .dataframe tbody tr th:only-of-type {\n",
       "        vertical-align: middle;\n",
       "    }\n",
       "\n",
       "    .dataframe tbody tr th {\n",
       "        vertical-align: top;\n",
       "    }\n",
       "\n",
       "    .dataframe thead th {\n",
       "        text-align: right;\n",
       "    }\n",
       "</style>\n",
       "<table border=\"1\" class=\"dataframe\">\n",
       "  <thead>\n",
       "    <tr style=\"text-align: right;\">\n",
       "      <th></th>\n",
       "      <th>datetime</th>\n",
       "      <th>prb_id</th>\n",
       "      <th>start_time</th>\n",
       "      <th>end_time</th>\n",
       "      <th>last_time_sync</th>\n",
       "      <th>firmware_version</th>\n",
       "      <th>nb_packets</th>\n",
       "      <th>nb_rtts</th>\n",
       "      <th>rtt</th>\n",
       "      <th>ip_v4</th>\n",
       "      <th>description</th>\n",
       "      <th>lon</th>\n",
       "      <th>lat</th>\n",
       "      <th>country_name</th>\n",
       "      <th>country_code</th>\n",
       "      <th>packet_loss_percent</th>\n",
       "      <th>coordinates</th>\n",
       "    </tr>\n",
       "  </thead>\n",
       "  <tbody>\n",
       "    <tr>\n",
       "      <th>280769</th>\n",
       "      <td>2018-12-14 15:36:33</td>\n",
       "      <td>24798</td>\n",
       "      <td>1544801793</td>\n",
       "      <td>1544801793</td>\n",
       "      <td>69</td>\n",
       "      <td>4940</td>\n",
       "      <td>3</td>\n",
       "      <td>3</td>\n",
       "      <td>146.508000</td>\n",
       "      <td>196.49.5.74</td>\n",
       "      <td>Astrium TISPA Office</td>\n",
       "      <td>39.2115</td>\n",
       "      <td>-6.7885</td>\n",
       "      <td>Tanzania, United Republic of</td>\n",
       "      <td>TZ</td>\n",
       "      <td>0.000000</td>\n",
       "      <td>POINT (39.2115 -6.7885)</td>\n",
       "    </tr>\n",
       "    <tr>\n",
       "      <th>540020</th>\n",
       "      <td>2018-12-27 14:07:00</td>\n",
       "      <td>50322</td>\n",
       "      <td>1545919620</td>\n",
       "      <td>1545919620</td>\n",
       "      <td>40</td>\n",
       "      <td>4940</td>\n",
       "      <td>3</td>\n",
       "      <td>3</td>\n",
       "      <td>182.638333</td>\n",
       "      <td>155.93.219.254</td>\n",
       "      <td>Atlas1</td>\n",
       "      <td>31.0785</td>\n",
       "      <td>-29.7215</td>\n",
       "      <td>South Africa</td>\n",
       "      <td>ZA</td>\n",
       "      <td>0.000000</td>\n",
       "      <td>POINT (31.0785 -29.7215)</td>\n",
       "    </tr>\n",
       "    <tr>\n",
       "      <th>178827</th>\n",
       "      <td>2018-12-09 17:21:55</td>\n",
       "      <td>14968</td>\n",
       "      <td>1544376115</td>\n",
       "      <td>1544376115</td>\n",
       "      <td>18</td>\n",
       "      <td>4940</td>\n",
       "      <td>3</td>\n",
       "      <td>3</td>\n",
       "      <td>182.977667</td>\n",
       "      <td>63.223.6.90</td>\n",
       "      <td>PCCW Global - atl01.mpm02 - MZ</td>\n",
       "      <td>32.5705</td>\n",
       "      <td>-25.9685</td>\n",
       "      <td>Mozambique</td>\n",
       "      <td>MZ</td>\n",
       "      <td>0.000000</td>\n",
       "      <td>POINT (32.5705 -25.9685)</td>\n",
       "    </tr>\n",
       "    <tr>\n",
       "      <th>239444</th>\n",
       "      <td>2018-12-12 15:37:14</td>\n",
       "      <td>14465</td>\n",
       "      <td>1544629034</td>\n",
       "      <td>1544629035</td>\n",
       "      <td>9</td>\n",
       "      <td>4940</td>\n",
       "      <td>3</td>\n",
       "      <td>3</td>\n",
       "      <td>215.902333</td>\n",
       "      <td>196.216.164.50</td>\n",
       "      <td>Namibia University of Science and Technology</td>\n",
       "      <td>17.0805</td>\n",
       "      <td>-22.5705</td>\n",
       "      <td>NaN</td>\n",
       "      <td>NaN</td>\n",
       "      <td>0.000000</td>\n",
       "      <td>POINT (17.0805 -22.5705)</td>\n",
       "    </tr>\n",
       "    <tr>\n",
       "      <th>452020</th>\n",
       "      <td>2018-12-23 03:33:25</td>\n",
       "      <td>22215</td>\n",
       "      <td>1545536005</td>\n",
       "      <td>1545536009</td>\n",
       "      <td>9</td>\n",
       "      <td>4940</td>\n",
       "      <td>3</td>\n",
       "      <td>2</td>\n",
       "      <td>142.938500</td>\n",
       "      <td>160.119.216.205</td>\n",
       "      <td>icolo.io MBA1</td>\n",
       "      <td>39.5875</td>\n",
       "      <td>-4.0105</td>\n",
       "      <td>Kenya</td>\n",
       "      <td>KE</td>\n",
       "      <td>33.333333</td>\n",
       "      <td>POINT (39.5875 -4.0105)</td>\n",
       "    </tr>\n",
       "  </tbody>\n",
       "</table>\n",
       "</div>"
      ],
      "text/plain": [
       "                  datetime  prb_id  start_time    end_time  last_time_sync  \\\n",
       "280769 2018-12-14 15:36:33   24798  1544801793  1544801793              69   \n",
       "540020 2018-12-27 14:07:00   50322  1545919620  1545919620              40   \n",
       "178827 2018-12-09 17:21:55   14968  1544376115  1544376115              18   \n",
       "239444 2018-12-12 15:37:14   14465  1544629034  1544629035               9   \n",
       "452020 2018-12-23 03:33:25   22215  1545536005  1545536009               9   \n",
       "\n",
       "        firmware_version  nb_packets  nb_rtts         rtt            ip_v4  \\\n",
       "280769              4940           3        3  146.508000      196.49.5.74   \n",
       "540020              4940           3        3  182.638333   155.93.219.254   \n",
       "178827              4940           3        3  182.977667      63.223.6.90   \n",
       "239444              4940           3        3  215.902333   196.216.164.50   \n",
       "452020              4940           3        2  142.938500  160.119.216.205   \n",
       "\n",
       "                                         description      lon      lat  \\\n",
       "280769                          Astrium TISPA Office  39.2115  -6.7885   \n",
       "540020                                        Atlas1  31.0785 -29.7215   \n",
       "178827                PCCW Global - atl01.mpm02 - MZ  32.5705 -25.9685   \n",
       "239444  Namibia University of Science and Technology  17.0805 -22.5705   \n",
       "452020                                 icolo.io MBA1  39.5875  -4.0105   \n",
       "\n",
       "                        country_name country_code  packet_loss_percent  \\\n",
       "280769  Tanzania, United Republic of           TZ             0.000000   \n",
       "540020                  South Africa           ZA             0.000000   \n",
       "178827                    Mozambique           MZ             0.000000   \n",
       "239444                           NaN          NaN             0.000000   \n",
       "452020                         Kenya           KE            33.333333   \n",
       "\n",
       "                     coordinates  \n",
       "280769   POINT (39.2115 -6.7885)  \n",
       "540020  POINT (31.0785 -29.7215)  \n",
       "178827  POINT (32.5705 -25.9685)  \n",
       "239444  POINT (17.0805 -22.5705)  \n",
       "452020   POINT (39.5875 -4.0105)  "
      ]
     },
     "execution_count": 145,
     "metadata": {
      "tags": []
     },
     "output_type": "execute_result"
    }
   ],
   "source": [
    "# Converting to geopandas dataframe\n",
    "data_sample['coordinates'] = list(zip(data_sample.lon, data_sample.lat))\n",
    "data_sample['coordinates'] = data_sample['coordinates'].apply(Point)\n",
    "gdf = gpd.GeoDataFrame(data_sample, geometry='coordinates')\n",
    "gdf.crs = {'init' :'epsg:4326'} \n",
    "gdf.head()"
   ]
  },
  {
   "cell_type": "markdown",
   "metadata": {
    "colab_type": "text",
    "id": "8rP-PIOwWdMF"
   },
   "source": [
    "To be able to calculate distance on a sphere, we need to use a World Equidistant Cylindrical map projection that must be centered in our IP destination location."
   ]
  },
  {
   "cell_type": "code",
   "execution_count": 0,
   "metadata": {
    "colab": {},
    "colab_type": "code",
    "id": "DR5LL0LBRMAN"
   },
   "outputs": [],
   "source": [
    "# Projection parameters (centered on our point of interest)\n",
    "proj4_txt = ('+proj=eqc +lat_ts=60 +lat_0={} '\n",
    "             '+lon_0={} +x_0=0 +y_0=0 +ellps=WGS84 '\n",
    "             '+datum=WGS84 +units=m +no_defs').format(lat_dest, lon_dest)"
   ]
  },
  {
   "cell_type": "code",
   "execution_count": 0,
   "metadata": {
    "colab": {},
    "colab_type": "code",
    "id": "V2EC1POqe9PN"
   },
   "outputs": [],
   "source": [
    "# Reprojecting to World Equidistant Cylindrical (coordinates will be expressed in meters from now)\n",
    "gdf_proj = gdf.to_crs(proj4_txt) "
   ]
  },
  {
   "cell_type": "code",
   "execution_count": 0,
   "metadata": {
    "colab": {},
    "colab_type": "code",
    "id": "bnwaRPOaf0M5"
   },
   "outputs": [],
   "source": [
    "# Creating a point object for destination point\n",
    "destination_location_df = gpd.GeoSeries([Point(lon_dest, lat_dest)], crs=from_epsg(4326))\n",
    "\n",
    "# And reprojecting\n",
    "destination_location_df = destination_location_df.to_crs(proj4_txt)"
   ]
  },
  {
   "cell_type": "code",
   "execution_count": 0,
   "metadata": {
    "colab": {},
    "colab_type": "code",
    "id": "TgjVgeJofDNK"
   },
   "outputs": [],
   "source": [
    "def calculateDistance(row, dest_geom, src_col='geometry', target_col='distance'):\n",
    "    \"\"\"\n",
    "    Calculates the distance between a single Shapely Point geometry and a GeoDataFrame with Point geometries.\n",
    "\n",
    "    Parameters\n",
    "    ----------\n",
    "    dest_geom : shapely.Point\n",
    "        A single Shapely Point geometry to which the distances will be calculated to.\n",
    "    src_col : str\n",
    "        A name of the column that has the Shapely Point objects from where the distances will be calculated from.\n",
    "    target_col : str\n",
    "        A name of the target column where the result will be stored.\n",
    "    \"\"\"\n",
    "    # Calculate the distances\n",
    "    dist = row[src_col].distance(dest_geom)\n",
    "    # Tranform into kilometers\n",
    "    dist_km = int(dist/1000)\n",
    "    # Assign the distance to the original data\n",
    "    row[target_col] = dist_km\n",
    "    return row"
   ]
  },
  {
   "cell_type": "code",
   "execution_count": 0,
   "metadata": {
    "colab": {},
    "colab_type": "code",
    "id": "Yqt05By7gONi"
   },
   "outputs": [],
   "source": [
    "# Getting poi geometry\n",
    "destination_location_df_geom = destination_location_df.get(0)\n",
    "\n",
    "# Calculating the distance and adding a new column\n",
    "gdf_proj = gdf_proj.apply(calculateDistance, dest_geom=destination_location_df_geom,\n",
    "                                        src_col='coordinates', target_col='dist_to_dest', axis=1)"
   ]
  },
  {
   "cell_type": "code",
   "execution_count": 0,
   "metadata": {
    "colab": {
     "base_uri": "https://localhost:8080/",
     "height": 204
    },
    "colab_type": "code",
    "id": "azYS9zvng7GN",
    "outputId": "5ee8b449-571a-40df-cea3-24437a9defcd"
   },
   "outputs": [
    {
     "data": {
      "text/html": [
       "<div>\n",
       "<style scoped>\n",
       "    .dataframe tbody tr th:only-of-type {\n",
       "        vertical-align: middle;\n",
       "    }\n",
       "\n",
       "    .dataframe tbody tr th {\n",
       "        vertical-align: top;\n",
       "    }\n",
       "\n",
       "    .dataframe thead th {\n",
       "        text-align: right;\n",
       "    }\n",
       "</style>\n",
       "<table border=\"1\" class=\"dataframe\">\n",
       "  <thead>\n",
       "    <tr style=\"text-align: right;\">\n",
       "      <th></th>\n",
       "      <th>prb_id</th>\n",
       "      <th>country_name</th>\n",
       "      <th>description</th>\n",
       "      <th>dist_to_dest</th>\n",
       "    </tr>\n",
       "  </thead>\n",
       "  <tbody>\n",
       "    <tr>\n",
       "      <th>280769</th>\n",
       "      <td>24798</td>\n",
       "      <td>Tanzania, United Republic of</td>\n",
       "      <td>Astrium TISPA Office</td>\n",
       "      <td>7156</td>\n",
       "    </tr>\n",
       "    <tr>\n",
       "      <th>540020</th>\n",
       "      <td>50322</td>\n",
       "      <td>South Africa</td>\n",
       "      <td>Atlas1</td>\n",
       "      <td>9477</td>\n",
       "    </tr>\n",
       "    <tr>\n",
       "      <th>178827</th>\n",
       "      <td>14968</td>\n",
       "      <td>Mozambique</td>\n",
       "      <td>PCCW Global - atl01.mpm02 - MZ</td>\n",
       "      <td>9089</td>\n",
       "    </tr>\n",
       "    <tr>\n",
       "      <th>239444</th>\n",
       "      <td>14465</td>\n",
       "      <td>NaN</td>\n",
       "      <td>Namibia University of Science and Technology</td>\n",
       "      <td>8550</td>\n",
       "    </tr>\n",
       "    <tr>\n",
       "      <th>452020</th>\n",
       "      <td>22215</td>\n",
       "      <td>Kenya</td>\n",
       "      <td>icolo.io MBA1</td>\n",
       "      <td>6875</td>\n",
       "    </tr>\n",
       "  </tbody>\n",
       "</table>\n",
       "</div>"
      ],
      "text/plain": [
       "        prb_id                  country_name  \\\n",
       "280769   24798  Tanzania, United Republic of   \n",
       "540020   50322                  South Africa   \n",
       "178827   14968                    Mozambique   \n",
       "239444   14465                           NaN   \n",
       "452020   22215                         Kenya   \n",
       "\n",
       "                                         description  dist_to_dest  \n",
       "280769                          Astrium TISPA Office          7156  \n",
       "540020                                        Atlas1          9477  \n",
       "178827                PCCW Global - atl01.mpm02 - MZ          9089  \n",
       "239444  Namibia University of Science and Technology          8550  \n",
       "452020                                 icolo.io MBA1          6875  "
      ]
     },
     "execution_count": 110,
     "metadata": {
      "tags": []
     },
     "output_type": "execute_result"
    }
   ],
   "source": [
    "# Let's check our new 'dist_to_dest' column\n",
    "gdf_proj[['prb_id', 'country_name', 'description', 'dist_to_dest']].head()"
   ]
  },
  {
   "cell_type": "code",
   "execution_count": 0,
   "metadata": {
    "colab": {
     "base_uri": "https://localhost:8080/",
     "height": 334
    },
    "colab_type": "code",
    "id": "Fy4KZSWtGsr1",
    "outputId": "b2938db9-bf4f-4a58-f200-01e1f5b0cd2a"
   },
   "outputs": [
    {
     "data": {
      "image/png": "[encoded data removed]",
      "text/plain": [
       "<Figure size 720x360 with 1 Axes>"
      ]
     },
     "metadata": {
      "tags": []
     },
     "output_type": "display_data"
    }
   ],
   "source": [
    "# Scatter plot of rtt vs distance to destination\n",
    "df_dist_rtt = pd.DataFrame(gdf_proj)[['dist_to_dest', 'rtt']]\n",
    "df_dist_rtt.plot.scatter(x='dist_to_dest', y='rtt', c='DarkBlue');"
   ]
  },
  {
   "cell_type": "code",
   "execution_count": 0,
   "metadata": {
    "colab": {
     "base_uri": "https://localhost:8080/",
     "height": 334
    },
    "colab_type": "code",
    "id": "6PaPRHjQG7yl",
    "outputId": "9cbf49c7-d1d8-438d-c6f3-7c3991e4d1b3"
   },
   "outputs": [
    {
     "data": {
      "image/png": "[encoded data removed]",
      "text/plain": [
       "<Figure size 720x360 with 1 Axes>"
      ]
     },
     "metadata": {
      "tags": []
     },
     "output_type": "display_data"
    }
   ],
   "source": [
    "# Scatter plot of rtt vs distance to destination (zoomed on rtt < 400)\n",
    "df_dist_rtt[df_dist_rtt['rtt'] < 400].plot.scatter(x='dist_to_dest', y='rtt', c='DarkBlue');"
   ]
  },
  {
   "cell_type": "code",
   "execution_count": 0,
   "metadata": {
    "colab": {
     "base_uri": "https://localhost:8080/",
     "height": 111
    },
    "colab_type": "code",
    "id": "27LO6z9QH6Su",
    "outputId": "37dd4538-9688-4a5a-8a22-430ba1c1161d"
   },
   "outputs": [
    {
     "data": {
      "text/html": [
       "<div>\n",
       "<style scoped>\n",
       "    .dataframe tbody tr th:only-of-type {\n",
       "        vertical-align: middle;\n",
       "    }\n",
       "\n",
       "    .dataframe tbody tr th {\n",
       "        vertical-align: top;\n",
       "    }\n",
       "\n",
       "    .dataframe thead th {\n",
       "        text-align: right;\n",
       "    }\n",
       "</style>\n",
       "<table border=\"1\" class=\"dataframe\">\n",
       "  <thead>\n",
       "    <tr style=\"text-align: right;\">\n",
       "      <th></th>\n",
       "      <th>dist_to_dest</th>\n",
       "      <th>rtt</th>\n",
       "    </tr>\n",
       "  </thead>\n",
       "  <tbody>\n",
       "    <tr>\n",
       "      <th>dist_to_dest</th>\n",
       "      <td>1.000000</td>\n",
       "      <td>0.193514</td>\n",
       "    </tr>\n",
       "    <tr>\n",
       "      <th>rtt</th>\n",
       "      <td>0.193514</td>\n",
       "      <td>1.000000</td>\n",
       "    </tr>\n",
       "  </tbody>\n",
       "</table>\n",
       "</div>"
      ],
      "text/plain": [
       "              dist_to_dest       rtt\n",
       "dist_to_dest      1.000000  0.193514\n",
       "rtt               0.193514  1.000000"
      ]
     },
     "execution_count": 162,
     "metadata": {
      "tags": []
     },
     "output_type": "execute_result"
    }
   ],
   "source": [
    "# Correlation between rtt and distance to dest\n",
    "df_dist_rtt.corr()"
   ]
  },
  {
   "cell_type": "markdown",
   "metadata": {
    "colab_type": "text",
    "id": "vlkOv9BEkcge"
   },
   "source": [
    "### II.11 RTTs vs percentage of packet loss"
   ]
  },
  {
   "cell_type": "code",
   "execution_count": 0,
   "metadata": {
    "colab": {},
    "colab_type": "code",
    "id": "34jP-b9KkBix"
   },
   "outputs": [],
   "source": [
    "gdf_proj['packet_loss_percent'] = 100 * (gdf['nb_packets'] - gdf['nb_rtts']) / gdf['nb_packets']"
   ]
  },
  {
   "cell_type": "code",
   "execution_count": 0,
   "metadata": {
    "colab": {
     "base_uri": "https://localhost:8080/",
     "height": 411
    },
    "colab_type": "code",
    "id": "YIsWJUMokkfG",
    "outputId": "2090761e-bdb6-4479-a4e9-4830934314cc"
   },
   "outputs": [
    {
     "data": {
      "text/html": [
       "<div>\n",
       "<style scoped>\n",
       "    .dataframe tbody tr th:only-of-type {\n",
       "        vertical-align: middle;\n",
       "    }\n",
       "\n",
       "    .dataframe tbody tr th {\n",
       "        vertical-align: top;\n",
       "    }\n",
       "\n",
       "    .dataframe thead th {\n",
       "        text-align: right;\n",
       "    }\n",
       "</style>\n",
       "<table border=\"1\" class=\"dataframe\">\n",
       "  <thead>\n",
       "    <tr style=\"text-align: right;\">\n",
       "      <th></th>\n",
       "      <th>datetime</th>\n",
       "      <th>prb_id</th>\n",
       "      <th>start_time</th>\n",
       "      <th>end_time</th>\n",
       "      <th>last_time_sync</th>\n",
       "      <th>firmware_version</th>\n",
       "      <th>nb_packets</th>\n",
       "      <th>nb_rtts</th>\n",
       "      <th>rtt</th>\n",
       "      <th>ip_v4</th>\n",
       "      <th>description</th>\n",
       "      <th>lon</th>\n",
       "      <th>lat</th>\n",
       "      <th>country_name</th>\n",
       "      <th>country_code</th>\n",
       "      <th>packet_loss_percent</th>\n",
       "      <th>coordinates</th>\n",
       "      <th>dist_to_dest</th>\n",
       "    </tr>\n",
       "  </thead>\n",
       "  <tbody>\n",
       "    <tr>\n",
       "      <th>280769</th>\n",
       "      <td>2018-12-14 15:36:33</td>\n",
       "      <td>24798</td>\n",
       "      <td>1544801793</td>\n",
       "      <td>1544801793</td>\n",
       "      <td>69</td>\n",
       "      <td>4940</td>\n",
       "      <td>3</td>\n",
       "      <td>3</td>\n",
       "      <td>146.508000</td>\n",
       "      <td>196.49.5.74</td>\n",
       "      <td>Astrium TISPA Office</td>\n",
       "      <td>39.2115</td>\n",
       "      <td>-6.7885</td>\n",
       "      <td>Tanzania, United Republic of</td>\n",
       "      <td>TZ</td>\n",
       "      <td>0.000000</td>\n",
       "      <td>POINT (2531254.939326471 -6694019.467668236)</td>\n",
       "      <td>7156</td>\n",
       "    </tr>\n",
       "    <tr>\n",
       "      <th>540020</th>\n",
       "      <td>2018-12-27 14:07:00</td>\n",
       "      <td>50322</td>\n",
       "      <td>1545919620</td>\n",
       "      <td>1545919620</td>\n",
       "      <td>40</td>\n",
       "      <td>4940</td>\n",
       "      <td>3</td>\n",
       "      <td>3</td>\n",
       "      <td>182.638333</td>\n",
       "      <td>155.93.219.254</td>\n",
       "      <td>Atlas1</td>\n",
       "      <td>31.0785</td>\n",
       "      <td>-29.7215</td>\n",
       "      <td>South Africa</td>\n",
       "      <td>ZA</td>\n",
       "      <td>0.000000</td>\n",
       "      <td>POINT (2078574.230015623 -9246909.350030379)</td>\n",
       "      <td>9477</td>\n",
       "    </tr>\n",
       "    <tr>\n",
       "      <th>178827</th>\n",
       "      <td>2018-12-09 17:21:55</td>\n",
       "      <td>14968</td>\n",
       "      <td>1544376115</td>\n",
       "      <td>1544376115</td>\n",
       "      <td>18</td>\n",
       "      <td>4940</td>\n",
       "      <td>3</td>\n",
       "      <td>3</td>\n",
       "      <td>182.977667</td>\n",
       "      <td>63.223.6.90</td>\n",
       "      <td>PCCW Global - atl01.mpm02 - MZ</td>\n",
       "      <td>32.5705</td>\n",
       "      <td>-25.9685</td>\n",
       "      <td>Mozambique</td>\n",
       "      <td>MZ</td>\n",
       "      <td>0.000000</td>\n",
       "      <td>POINT (2161618.570147406 -8829127.301083224)</td>\n",
       "      <td>9089</td>\n",
       "    </tr>\n",
       "    <tr>\n",
       "      <th>239444</th>\n",
       "      <td>2018-12-12 15:37:14</td>\n",
       "      <td>14465</td>\n",
       "      <td>1544629034</td>\n",
       "      <td>1544629035</td>\n",
       "      <td>9</td>\n",
       "      <td>4940</td>\n",
       "      <td>3</td>\n",
       "      <td>3</td>\n",
       "      <td>215.902333</td>\n",
       "      <td>196.216.164.50</td>\n",
       "      <td>Namibia University of Science and Technology</td>\n",
       "      <td>17.0805</td>\n",
       "      <td>-22.5705</td>\n",
       "      <td>NaN</td>\n",
       "      <td>NaN</td>\n",
       "      <td>0.000000</td>\n",
       "      <td>POINT (1299449.113953502 -8450863.671367681)</td>\n",
       "      <td>8550</td>\n",
       "    </tr>\n",
       "    <tr>\n",
       "      <th>452020</th>\n",
       "      <td>2018-12-23 03:33:25</td>\n",
       "      <td>22215</td>\n",
       "      <td>1545536005</td>\n",
       "      <td>1545536009</td>\n",
       "      <td>9</td>\n",
       "      <td>4940</td>\n",
       "      <td>3</td>\n",
       "      <td>2</td>\n",
       "      <td>142.938500</td>\n",
       "      <td>160.119.216.205</td>\n",
       "      <td>icolo.io MBA1</td>\n",
       "      <td>39.5875</td>\n",
       "      <td>-4.0105</td>\n",
       "      <td>Kenya</td>\n",
       "      <td>KE</td>\n",
       "      <td>33.333333</td>\n",
       "      <td>POINT (2552183.003595606 -6384773.922244523)</td>\n",
       "      <td>6875</td>\n",
       "    </tr>\n",
       "  </tbody>\n",
       "</table>\n",
       "</div>"
      ],
      "text/plain": [
       "                  datetime  prb_id  start_time    end_time  last_time_sync  \\\n",
       "280769 2018-12-14 15:36:33   24798  1544801793  1544801793              69   \n",
       "540020 2018-12-27 14:07:00   50322  1545919620  1545919620              40   \n",
       "178827 2018-12-09 17:21:55   14968  1544376115  1544376115              18   \n",
       "239444 2018-12-12 15:37:14   14465  1544629034  1544629035               9   \n",
       "452020 2018-12-23 03:33:25   22215  1545536005  1545536009               9   \n",
       "\n",
       "        firmware_version  nb_packets  nb_rtts         rtt            ip_v4  \\\n",
       "280769              4940           3        3  146.508000      196.49.5.74   \n",
       "540020              4940           3        3  182.638333   155.93.219.254   \n",
       "178827              4940           3        3  182.977667      63.223.6.90   \n",
       "239444              4940           3        3  215.902333   196.216.164.50   \n",
       "452020              4940           3        2  142.938500  160.119.216.205   \n",
       "\n",
       "                                         description      lon      lat  \\\n",
       "280769                          Astrium TISPA Office  39.2115  -6.7885   \n",
       "540020                                        Atlas1  31.0785 -29.7215   \n",
       "178827                PCCW Global - atl01.mpm02 - MZ  32.5705 -25.9685   \n",
       "239444  Namibia University of Science and Technology  17.0805 -22.5705   \n",
       "452020                                 icolo.io MBA1  39.5875  -4.0105   \n",
       "\n",
       "                        country_name country_code  packet_loss_percent  \\\n",
       "280769  Tanzania, United Republic of           TZ             0.000000   \n",
       "540020                  South Africa           ZA             0.000000   \n",
       "178827                    Mozambique           MZ             0.000000   \n",
       "239444                           NaN          NaN             0.000000   \n",
       "452020                         Kenya           KE            33.333333   \n",
       "\n",
       "                                         coordinates  dist_to_dest  \n",
       "280769  POINT (2531254.939326471 -6694019.467668236)          7156  \n",
       "540020  POINT (2078574.230015623 -9246909.350030379)          9477  \n",
       "178827  POINT (2161618.570147406 -8829127.301083224)          9089  \n",
       "239444  POINT (1299449.113953502 -8450863.671367681)          8550  \n",
       "452020  POINT (2552183.003595606 -6384773.922244523)          6875  "
      ]
     },
     "execution_count": 157,
     "metadata": {
      "tags": []
     },
     "output_type": "execute_result"
    }
   ],
   "source": [
    "gdf_proj.head()"
   ]
  },
  {
   "cell_type": "code",
   "execution_count": 0,
   "metadata": {
    "colab": {
     "base_uri": "https://localhost:8080/",
     "height": 334
    },
    "colab_type": "code",
    "id": "f3ytDkfiCFPL",
    "outputId": "2340b4e4-0c27-4d61-fd21-9169b08f5dff"
   },
   "outputs": [
    {
     "data": {
      "image/png": "[encoded data removed]",
      "text/plain": [
       "<Figure size 720x360 with 1 Axes>"
      ]
     },
     "metadata": {
      "tags": []
     },
     "output_type": "display_data"
    }
   ],
   "source": [
    "# Scatter plot of rtt vs percentage loss\n",
    "df_loss_rtt = pd.DataFrame(gdf_proj)[['packet_loss_percent', 'rtt']]\n",
    "df_loss_rtt.plot.scatter(x='packet_loss_percent', y='rtt', c='DarkBlue');"
   ]
  },
  {
   "cell_type": "code",
   "execution_count": 0,
   "metadata": {
    "colab": {
     "base_uri": "https://localhost:8080/",
     "height": 334
    },
    "colab_type": "code",
    "id": "OSIU0L4LCflB",
    "outputId": "394fe896-ea9e-4532-b625-bc4727e33ac6"
   },
   "outputs": [
    {
     "data": {
      "image/png": "[encoded data removed]",
      "text/plain": [
       "<Figure size 720x360 with 1 Axes>"
      ]
     },
     "metadata": {
      "tags": []
     },
     "output_type": "display_data"
    }
   ],
   "source": [
    "# Scatter plot of rtt vs percentage loss [zoom where rtt<400]\n",
    "df_loss_rtt[df_loss_rtt['rtt']<400].plot.scatter(x='packet_loss_percent', y='rtt', c='DarkBlue');"
   ]
  },
  {
   "cell_type": "code",
   "execution_count": 0,
   "metadata": {
    "colab": {
     "base_uri": "https://localhost:8080/",
     "height": 111
    },
    "colab_type": "code",
    "id": "I73ysT_oIKrM",
    "outputId": "4aa47e23-3c93-4100-c1f7-16570a227092"
   },
   "outputs": [
    {
     "data": {
      "text/html": [
       "<div>\n",
       "<style scoped>\n",
       "    .dataframe tbody tr th:only-of-type {\n",
       "        vertical-align: middle;\n",
       "    }\n",
       "\n",
       "    .dataframe tbody tr th {\n",
       "        vertical-align: top;\n",
       "    }\n",
       "\n",
       "    .dataframe thead th {\n",
       "        text-align: right;\n",
       "    }\n",
       "</style>\n",
       "<table border=\"1\" class=\"dataframe\">\n",
       "  <thead>\n",
       "    <tr style=\"text-align: right;\">\n",
       "      <th></th>\n",
       "      <th>packet_loss_percent</th>\n",
       "      <th>rtt</th>\n",
       "    </tr>\n",
       "  </thead>\n",
       "  <tbody>\n",
       "    <tr>\n",
       "      <th>packet_loss_percent</th>\n",
       "      <td>1.000000</td>\n",
       "      <td>0.155878</td>\n",
       "    </tr>\n",
       "    <tr>\n",
       "      <th>rtt</th>\n",
       "      <td>0.155878</td>\n",
       "      <td>1.000000</td>\n",
       "    </tr>\n",
       "  </tbody>\n",
       "</table>\n",
       "</div>"
      ],
      "text/plain": [
       "                     packet_loss_percent       rtt\n",
       "packet_loss_percent             1.000000  0.155878\n",
       "rtt                             0.155878  1.000000"
      ]
     },
     "execution_count": 163,
     "metadata": {
      "tags": []
     },
     "output_type": "execute_result"
    }
   ],
   "source": [
    "# Correlation between rtt and packet loss percentage \n",
    "df_loss_rtt.corr()"
   ]
  }
 ],
 "metadata": {
  "colab": {
   "collapsed_sections": [],
   "name": "ripe-ncc-recurring-traceroute-to-ttn.ipynb",
   "provenance": [],
   "version": "0.3.2"
  },
  "kernelspec": {
   "display_name": "Python [conda env:ripe-ttn]",
   "language": "python",
   "name": "conda-env-ripe-ttn-py"
  },
  "language_info": {
   "codemirror_mode": {
    "name": "ipython",
    "version": 3
   },
   "file_extension": ".py",
   "mimetype": "text/x-python",
   "name": "python",
   "nbconvert_exporter": "python",
   "pygments_lexer": "ipython3",
   "version": "3.7.2"
  }
 },
 "nbformat": 4,
 "nbformat_minor": 1
}
